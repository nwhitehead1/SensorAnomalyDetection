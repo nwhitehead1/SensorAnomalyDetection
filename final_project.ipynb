{
 "cells": [
  {
   "cell_type": "markdown",
   "metadata": {},
   "source": [
    "# Reducing Network Latency & Anomaly Detection with Autoencoders\n",
    "\n",
    "The goal of this project is twofold:\n",
    "- Reduce the network traffic in the cloud from the gateway layer.\n",
    "- Detect anomalous data, indicating a faulty sensor or a potential attack.\n",
    "\n",
    "We use a subset of data collected from Intel Labs between March and April, 2004 (http://db.csail.mit.edu/labdata/labdata.html) as a proof of concept for applying Deep Learning at the IoT Gateway Layer.\n",
    "\n",
    "Rather than sending data from the gateway to the cloud as values are received, we will attempt to batch incoming readings, and encode them into a smaller, learned representation. The advantage of doing this is that we can now apply anomaly detection techniques to a much smaller dimension vector representation."
   ]
  },
  {
   "cell_type": "markdown",
   "metadata": {},
   "source": [
    "## Data Loading"
   ]
  },
  {
   "cell_type": "code",
   "execution_count": 1,
   "metadata": {},
   "outputs": [
    {
     "name": "stderr",
     "output_type": "stream",
     "text": [
      "Using TensorFlow backend.\n"
     ]
    }
   ],
   "source": [
    "import gzip\n",
    "import pandas as pd\n",
    "import numpy as np\n",
    "import math\n",
    "import random\n",
    "import matplotlib.pyplot as plt\n",
    "from sklearn.model_selection import train_test_split\n",
    "from keras.layers import Input, Dense, Dropout\n",
    "from keras.models import Model"
   ]
  },
  {
   "cell_type": "code",
   "execution_count": 2,
   "metadata": {},
   "outputs": [],
   "source": [
    "with gzip.open('data.txt.gz', 'rb') as data_bytes:\n",
    "    data = pd.read_csv(data_bytes, header=None, sep=' ', parse_dates=[[0, 1]], squeeze=True)\n",
    "data.columns = ['DATETIME','EPOCH','SENSOR_ID','TEMPERATURE','HUMIDITY','LIGHT','VOLTAGE']\n",
    "data = data.set_index('DATETIME')"
   ]
  },
  {
   "cell_type": "code",
   "execution_count": 3,
   "metadata": {},
   "outputs": [
    {
     "data": {
      "text/plain": [
       "(2313682, 6)"
      ]
     },
     "execution_count": 3,
     "metadata": {},
     "output_type": "execute_result"
    }
   ],
   "source": [
    "data.shape"
   ]
  },
  {
   "cell_type": "markdown",
   "metadata": {},
   "source": [
    "## Data Pre-processing"
   ]
  },
  {
   "cell_type": "markdown",
   "metadata": {},
   "source": [
    "We will consider sensor data between March 1st and March 7th for this experiment, as it contains the majority of the complete data."
   ]
  },
  {
   "cell_type": "code",
   "execution_count": 4,
   "metadata": {},
   "outputs": [
    {
     "data": {
      "text/plain": [
       "(652621, 6)"
      ]
     },
     "execution_count": 4,
     "metadata": {},
     "output_type": "execute_result"
    }
   ],
   "source": [
    "data_samp = data.loc['2004-03-01':'2004-03-7'].copy()\n",
    "data_samp.shape"
   ]
  },
  {
   "cell_type": "markdown",
   "metadata": {},
   "source": [
    "For the purposes of a proof of concept, we will make this a univariate problem (not including DateTime), focusing on Temperature readings."
   ]
  },
  {
   "cell_type": "code",
   "execution_count": 5,
   "metadata": {},
   "outputs": [],
   "source": [
    "data_samp.drop(['HUMIDITY','LIGHT','VOLTAGE','EPOCH'], axis=1, inplace=True)"
   ]
  },
  {
   "cell_type": "markdown",
   "metadata": {},
   "source": [
    "Dropping any Sensor ID's where the value is NaN."
   ]
  },
  {
   "cell_type": "code",
   "execution_count": 6,
   "metadata": {},
   "outputs": [],
   "source": [
    "data_samp.dropna(subset=['SENSOR_ID'], inplace=True)"
   ]
  },
  {
   "cell_type": "markdown",
   "metadata": {},
   "source": [
    "For the sake of our experiment, let us only consider sensors 1-10."
   ]
  },
  {
   "cell_type": "code",
   "execution_count": 7,
   "metadata": {},
   "outputs": [],
   "source": [
    "data_samp = data_samp[(data_samp.SENSOR_ID >= 1) & (data_samp.SENSOR_ID <= 10)]"
   ]
  },
  {
   "cell_type": "markdown",
   "metadata": {},
   "source": [
    "Reshaping the Sensor ID field to an integer value."
   ]
  },
  {
   "cell_type": "code",
   "execution_count": 8,
   "metadata": {},
   "outputs": [
    {
     "data": {
      "text/plain": [
       "array([ 1.,  2.,  3.,  4.,  5.,  6.,  7.,  8.,  9., 10.])"
      ]
     },
     "execution_count": 8,
     "metadata": {},
     "output_type": "execute_result"
    }
   ],
   "source": [
    "data_samp.SENSOR_ID.unique()"
   ]
  },
  {
   "cell_type": "code",
   "execution_count": 9,
   "metadata": {},
   "outputs": [
    {
     "data": {
      "text/plain": [
       "SENSOR_ID        int64\n",
       "TEMPERATURE    float64\n",
       "dtype: object"
      ]
     },
     "execution_count": 9,
     "metadata": {},
     "output_type": "execute_result"
    }
   ],
   "source": [
    "data_samp.SENSOR_ID = data_samp.SENSOR_ID.astype(int)\n",
    "data_samp.dtypes"
   ]
  },
  {
   "cell_type": "code",
   "execution_count": 10,
   "metadata": {},
   "outputs": [
    {
     "data": {
      "text/html": [
       "<div>\n",
       "<style scoped>\n",
       "    .dataframe tbody tr th:only-of-type {\n",
       "        vertical-align: middle;\n",
       "    }\n",
       "\n",
       "    .dataframe tbody tr th {\n",
       "        vertical-align: top;\n",
       "    }\n",
       "\n",
       "    .dataframe thead th {\n",
       "        text-align: right;\n",
       "    }\n",
       "</style>\n",
       "<table border=\"1\" class=\"dataframe\">\n",
       "  <thead>\n",
       "    <tr style=\"text-align: right;\">\n",
       "      <th></th>\n",
       "      <th>SENSOR_ID</th>\n",
       "      <th>TEMPERATURE</th>\n",
       "    </tr>\n",
       "    <tr>\n",
       "      <th>DATETIME</th>\n",
       "      <th></th>\n",
       "      <th></th>\n",
       "    </tr>\n",
       "  </thead>\n",
       "  <tbody>\n",
       "    <tr>\n",
       "      <td>2004-03-01 00:01:57.130850</td>\n",
       "      <td>1</td>\n",
       "      <td>18.4498</td>\n",
       "    </tr>\n",
       "    <tr>\n",
       "      <td>2004-03-01 00:02:50.458234</td>\n",
       "      <td>1</td>\n",
       "      <td>18.4400</td>\n",
       "    </tr>\n",
       "    <tr>\n",
       "      <td>2004-03-01 00:04:26.606602</td>\n",
       "      <td>1</td>\n",
       "      <td>18.4400</td>\n",
       "    </tr>\n",
       "    <tr>\n",
       "      <td>2004-03-01 00:05:28.379208</td>\n",
       "      <td>1</td>\n",
       "      <td>18.4498</td>\n",
       "    </tr>\n",
       "    <tr>\n",
       "      <td>2004-03-01 00:05:50.456126</td>\n",
       "      <td>1</td>\n",
       "      <td>18.4302</td>\n",
       "    </tr>\n",
       "  </tbody>\n",
       "</table>\n",
       "</div>"
      ],
      "text/plain": [
       "                            SENSOR_ID  TEMPERATURE\n",
       "DATETIME                                          \n",
       "2004-03-01 00:01:57.130850          1      18.4498\n",
       "2004-03-01 00:02:50.458234          1      18.4400\n",
       "2004-03-01 00:04:26.606602          1      18.4400\n",
       "2004-03-01 00:05:28.379208          1      18.4498\n",
       "2004-03-01 00:05:50.456126          1      18.4302"
      ]
     },
     "execution_count": 10,
     "metadata": {},
     "output_type": "execute_result"
    }
   ],
   "source": [
    "data_samp.head()"
   ]
  },
  {
   "cell_type": "markdown",
   "metadata": {},
   "source": [
    "We want to measure the temperature at each sensor for a given timestamp, so we will pivot the table, making the column values sensor temperature readings at a given timestamp."
   ]
  },
  {
   "cell_type": "code",
   "execution_count": 11,
   "metadata": {},
   "outputs": [],
   "source": [
    "data_samp = data_samp.pivot(columns='SENSOR_ID', values='TEMPERATURE')"
   ]
  },
  {
   "cell_type": "code",
   "execution_count": 12,
   "metadata": {},
   "outputs": [
    {
     "data": {
      "text/html": [
       "<div>\n",
       "<style scoped>\n",
       "    .dataframe tbody tr th:only-of-type {\n",
       "        vertical-align: middle;\n",
       "    }\n",
       "\n",
       "    .dataframe tbody tr th {\n",
       "        vertical-align: top;\n",
       "    }\n",
       "\n",
       "    .dataframe thead th {\n",
       "        text-align: right;\n",
       "    }\n",
       "</style>\n",
       "<table border=\"1\" class=\"dataframe\">\n",
       "  <thead>\n",
       "    <tr style=\"text-align: right;\">\n",
       "      <th>SENSOR_ID</th>\n",
       "      <th>1</th>\n",
       "      <th>2</th>\n",
       "      <th>3</th>\n",
       "      <th>4</th>\n",
       "      <th>5</th>\n",
       "      <th>6</th>\n",
       "      <th>7</th>\n",
       "      <th>8</th>\n",
       "      <th>9</th>\n",
       "      <th>10</th>\n",
       "    </tr>\n",
       "    <tr>\n",
       "      <th>DATETIME</th>\n",
       "      <th></th>\n",
       "      <th></th>\n",
       "      <th></th>\n",
       "      <th></th>\n",
       "      <th></th>\n",
       "      <th></th>\n",
       "      <th></th>\n",
       "      <th></th>\n",
       "      <th></th>\n",
       "      <th></th>\n",
       "    </tr>\n",
       "  </thead>\n",
       "  <tbody>\n",
       "    <tr>\n",
       "      <td>2004-03-01 00:00:21.445722</td>\n",
       "      <td>NaN</td>\n",
       "      <td>NaN</td>\n",
       "      <td>NaN</td>\n",
       "      <td>NaN</td>\n",
       "      <td>NaN</td>\n",
       "      <td>NaN</td>\n",
       "      <td>NaN</td>\n",
       "      <td>NaN</td>\n",
       "      <td>18.489</td>\n",
       "      <td>NaN</td>\n",
       "    </tr>\n",
       "    <tr>\n",
       "      <td>2004-03-01 00:00:22.429139</td>\n",
       "      <td>NaN</td>\n",
       "      <td>18.8712</td>\n",
       "      <td>NaN</td>\n",
       "      <td>NaN</td>\n",
       "      <td>NaN</td>\n",
       "      <td>NaN</td>\n",
       "      <td>NaN</td>\n",
       "      <td>NaN</td>\n",
       "      <td>NaN</td>\n",
       "      <td>NaN</td>\n",
       "    </tr>\n",
       "    <tr>\n",
       "      <td>2004-03-01 00:00:25.633782</td>\n",
       "      <td>NaN</td>\n",
       "      <td>NaN</td>\n",
       "      <td>NaN</td>\n",
       "      <td>NaN</td>\n",
       "      <td>NaN</td>\n",
       "      <td>NaN</td>\n",
       "      <td>18.7144</td>\n",
       "      <td>NaN</td>\n",
       "      <td>NaN</td>\n",
       "      <td>NaN</td>\n",
       "    </tr>\n",
       "    <tr>\n",
       "      <td>2004-03-01 00:00:52.381230</td>\n",
       "      <td>NaN</td>\n",
       "      <td>18.8614</td>\n",
       "      <td>NaN</td>\n",
       "      <td>NaN</td>\n",
       "      <td>NaN</td>\n",
       "      <td>NaN</td>\n",
       "      <td>NaN</td>\n",
       "      <td>NaN</td>\n",
       "      <td>NaN</td>\n",
       "      <td>NaN</td>\n",
       "    </tr>\n",
       "    <tr>\n",
       "      <td>2004-03-01 00:00:53.317719</td>\n",
       "      <td>NaN</td>\n",
       "      <td>NaN</td>\n",
       "      <td>NaN</td>\n",
       "      <td>NaN</td>\n",
       "      <td>NaN</td>\n",
       "      <td>NaN</td>\n",
       "      <td>18.7046</td>\n",
       "      <td>NaN</td>\n",
       "      <td>NaN</td>\n",
       "      <td>NaN</td>\n",
       "    </tr>\n",
       "  </tbody>\n",
       "</table>\n",
       "</div>"
      ],
      "text/plain": [
       "SENSOR_ID                   1        2   3   4   5   6        7   8       9   \\\n",
       "DATETIME                                                                       \n",
       "2004-03-01 00:00:21.445722 NaN      NaN NaN NaN NaN NaN      NaN NaN  18.489   \n",
       "2004-03-01 00:00:22.429139 NaN  18.8712 NaN NaN NaN NaN      NaN NaN     NaN   \n",
       "2004-03-01 00:00:25.633782 NaN      NaN NaN NaN NaN NaN  18.7144 NaN     NaN   \n",
       "2004-03-01 00:00:52.381230 NaN  18.8614 NaN NaN NaN NaN      NaN NaN     NaN   \n",
       "2004-03-01 00:00:53.317719 NaN      NaN NaN NaN NaN NaN  18.7046 NaN     NaN   \n",
       "\n",
       "SENSOR_ID                   10  \n",
       "DATETIME                        \n",
       "2004-03-01 00:00:21.445722 NaN  \n",
       "2004-03-01 00:00:22.429139 NaN  \n",
       "2004-03-01 00:00:25.633782 NaN  \n",
       "2004-03-01 00:00:52.381230 NaN  \n",
       "2004-03-01 00:00:53.317719 NaN  "
      ]
     },
     "execution_count": 12,
     "metadata": {},
     "output_type": "execute_result"
    }
   ],
   "source": [
    "data_samp.head()"
   ]
  },
  {
   "cell_type": "markdown",
   "metadata": {},
   "source": [
    "There are a lot of missing values for temperature readings in our table, due to micro-second DateTime ID's in our time-series set. We will resample the data every minute, taking the mean of the values collected. \n",
    "\n",
    "In a real-world setting this could be a batched process or queue of incoming data over a time interval."
   ]
  },
  {
   "cell_type": "code",
   "execution_count": 13,
   "metadata": {},
   "outputs": [],
   "source": [
    "data_samp = data_samp.resample('1min').mean()"
   ]
  },
  {
   "cell_type": "code",
   "execution_count": 14,
   "metadata": {},
   "outputs": [
    {
     "name": "stdout",
     "output_type": "stream",
     "text": [
      "New resampled set has: 10080 data points.\n"
     ]
    },
    {
     "data": {
      "text/plain": [
       "SENSOR_ID\n",
       "1      1366\n",
       "2      3069\n",
       "3      1400\n",
       "4      2322\n",
       "5     10080\n",
       "6      2954\n",
       "7       475\n",
       "8      3332\n",
       "9       955\n",
       "10     1452\n",
       "dtype: int64"
      ]
     },
     "execution_count": 14,
     "metadata": {},
     "output_type": "execute_result"
    }
   ],
   "source": [
    "print('New resampled set has: {} data points.'.format(len(data_samp)))\n",
    "data_samp.isna().sum()"
   ]
  },
  {
   "cell_type": "markdown",
   "metadata": {},
   "source": [
    "Clearly sensor 5 is not reading values between our time frame, and sensor 8 is missing a significant portion of it's data to attempt reconstruction, so we will drop it. \n",
    "\n",
    "Stack brings the prescribed column (SENSOR_ID) into our index, making it easily dropped. We unstack to bring Sensor ID out of the index."
   ]
  },
  {
   "cell_type": "code",
   "execution_count": 15,
   "metadata": {},
   "outputs": [],
   "source": [
    "temp_df = data_samp.stack().drop([5, 8], level='SENSOR_ID')\n",
    "data_samp = temp_df.unstack()"
   ]
  },
  {
   "cell_type": "code",
   "execution_count": 16,
   "metadata": {},
   "outputs": [
    {
     "data": {
      "text/html": [
       "<div>\n",
       "<style scoped>\n",
       "    .dataframe tbody tr th:only-of-type {\n",
       "        vertical-align: middle;\n",
       "    }\n",
       "\n",
       "    .dataframe tbody tr th {\n",
       "        vertical-align: top;\n",
       "    }\n",
       "\n",
       "    .dataframe thead th {\n",
       "        text-align: right;\n",
       "    }\n",
       "</style>\n",
       "<table border=\"1\" class=\"dataframe\">\n",
       "  <thead>\n",
       "    <tr style=\"text-align: right;\">\n",
       "      <th>SENSOR_ID</th>\n",
       "      <th>2</th>\n",
       "      <th>6</th>\n",
       "      <th>7</th>\n",
       "      <th>9</th>\n",
       "      <th>1</th>\n",
       "      <th>3</th>\n",
       "      <th>4</th>\n",
       "      <th>10</th>\n",
       "    </tr>\n",
       "    <tr>\n",
       "      <th>DATETIME</th>\n",
       "      <th></th>\n",
       "      <th></th>\n",
       "      <th></th>\n",
       "      <th></th>\n",
       "      <th></th>\n",
       "      <th></th>\n",
       "      <th></th>\n",
       "      <th></th>\n",
       "    </tr>\n",
       "  </thead>\n",
       "  <tbody>\n",
       "    <tr>\n",
       "      <td>2004-03-01 00:00:00</td>\n",
       "      <td>18.8663</td>\n",
       "      <td>18.6752</td>\n",
       "      <td>18.7095</td>\n",
       "      <td>18.489000</td>\n",
       "      <td>NaN</td>\n",
       "      <td>NaN</td>\n",
       "      <td>NaN</td>\n",
       "      <td>NaN</td>\n",
       "    </tr>\n",
       "    <tr>\n",
       "      <td>2004-03-01 00:01:00</td>\n",
       "      <td>18.8614</td>\n",
       "      <td>18.6752</td>\n",
       "      <td>18.7046</td>\n",
       "      <td>18.482467</td>\n",
       "      <td>18.4498</td>\n",
       "      <td>18.7536</td>\n",
       "      <td>19.1113</td>\n",
       "      <td>18.4302</td>\n",
       "    </tr>\n",
       "    <tr>\n",
       "      <td>2004-03-01 00:02:00</td>\n",
       "      <td>18.8614</td>\n",
       "      <td>18.6654</td>\n",
       "      <td>18.6948</td>\n",
       "      <td>18.469400</td>\n",
       "      <td>18.4400</td>\n",
       "      <td>18.7634</td>\n",
       "      <td>19.1064</td>\n",
       "      <td>NaN</td>\n",
       "    </tr>\n",
       "    <tr>\n",
       "      <td>2004-03-01 00:03:00</td>\n",
       "      <td>18.8418</td>\n",
       "      <td>18.6654</td>\n",
       "      <td>18.6899</td>\n",
       "      <td>NaN</td>\n",
       "      <td>NaN</td>\n",
       "      <td>18.7536</td>\n",
       "      <td>19.1064</td>\n",
       "      <td>NaN</td>\n",
       "    </tr>\n",
       "    <tr>\n",
       "      <td>2004-03-01 00:04:00</td>\n",
       "      <td>18.8320</td>\n",
       "      <td>18.6654</td>\n",
       "      <td>18.6850</td>\n",
       "      <td>18.479200</td>\n",
       "      <td>18.4400</td>\n",
       "      <td>18.7340</td>\n",
       "      <td>19.1113</td>\n",
       "      <td>18.4106</td>\n",
       "    </tr>\n",
       "    <tr>\n",
       "      <td>...</td>\n",
       "      <td>...</td>\n",
       "      <td>...</td>\n",
       "      <td>...</td>\n",
       "      <td>...</td>\n",
       "      <td>...</td>\n",
       "      <td>...</td>\n",
       "      <td>...</td>\n",
       "      <td>...</td>\n",
       "    </tr>\n",
       "    <tr>\n",
       "      <td>2004-03-07 23:55:00</td>\n",
       "      <td>22.9284</td>\n",
       "      <td>22.4776</td>\n",
       "      <td>22.4923</td>\n",
       "      <td>22.056200</td>\n",
       "      <td>22.6834</td>\n",
       "      <td>22.7716</td>\n",
       "      <td>22.8598</td>\n",
       "      <td>21.9582</td>\n",
       "    </tr>\n",
       "    <tr>\n",
       "      <td>2004-03-07 23:56:00</td>\n",
       "      <td>22.9088</td>\n",
       "      <td>22.4678</td>\n",
       "      <td>22.4972</td>\n",
       "      <td>22.061100</td>\n",
       "      <td>22.6736</td>\n",
       "      <td>22.7716</td>\n",
       "      <td>22.8500</td>\n",
       "      <td>21.9533</td>\n",
       "    </tr>\n",
       "    <tr>\n",
       "      <td>2004-03-07 23:57:00</td>\n",
       "      <td>22.9088</td>\n",
       "      <td>22.4678</td>\n",
       "      <td>22.4923</td>\n",
       "      <td>22.041500</td>\n",
       "      <td>22.6785</td>\n",
       "      <td>22.7618</td>\n",
       "      <td>22.8549</td>\n",
       "      <td>21.9484</td>\n",
       "    </tr>\n",
       "    <tr>\n",
       "      <td>2004-03-07 23:58:00</td>\n",
       "      <td>22.9235</td>\n",
       "      <td>22.4482</td>\n",
       "      <td>22.4923</td>\n",
       "      <td>22.046400</td>\n",
       "      <td>NaN</td>\n",
       "      <td>22.7569</td>\n",
       "      <td>22.8598</td>\n",
       "      <td>21.9533</td>\n",
       "    </tr>\n",
       "    <tr>\n",
       "      <td>2004-03-07 23:59:00</td>\n",
       "      <td>22.9284</td>\n",
       "      <td>NaN</td>\n",
       "      <td>22.4874</td>\n",
       "      <td>22.046400</td>\n",
       "      <td>22.6932</td>\n",
       "      <td>22.7618</td>\n",
       "      <td>22.8647</td>\n",
       "      <td>21.9484</td>\n",
       "    </tr>\n",
       "  </tbody>\n",
       "</table>\n",
       "<p>10080 rows × 8 columns</p>\n",
       "</div>"
      ],
      "text/plain": [
       "SENSOR_ID                 2        6        7          9        1        3   \\\n",
       "DATETIME                                                                      \n",
       "2004-03-01 00:00:00  18.8663  18.6752  18.7095  18.489000      NaN      NaN   \n",
       "2004-03-01 00:01:00  18.8614  18.6752  18.7046  18.482467  18.4498  18.7536   \n",
       "2004-03-01 00:02:00  18.8614  18.6654  18.6948  18.469400  18.4400  18.7634   \n",
       "2004-03-01 00:03:00  18.8418  18.6654  18.6899        NaN      NaN  18.7536   \n",
       "2004-03-01 00:04:00  18.8320  18.6654  18.6850  18.479200  18.4400  18.7340   \n",
       "...                      ...      ...      ...        ...      ...      ...   \n",
       "2004-03-07 23:55:00  22.9284  22.4776  22.4923  22.056200  22.6834  22.7716   \n",
       "2004-03-07 23:56:00  22.9088  22.4678  22.4972  22.061100  22.6736  22.7716   \n",
       "2004-03-07 23:57:00  22.9088  22.4678  22.4923  22.041500  22.6785  22.7618   \n",
       "2004-03-07 23:58:00  22.9235  22.4482  22.4923  22.046400      NaN  22.7569   \n",
       "2004-03-07 23:59:00  22.9284      NaN  22.4874  22.046400  22.6932  22.7618   \n",
       "\n",
       "SENSOR_ID                 4        10  \n",
       "DATETIME                               \n",
       "2004-03-01 00:00:00      NaN      NaN  \n",
       "2004-03-01 00:01:00  19.1113  18.4302  \n",
       "2004-03-01 00:02:00  19.1064      NaN  \n",
       "2004-03-01 00:03:00  19.1064      NaN  \n",
       "2004-03-01 00:04:00  19.1113  18.4106  \n",
       "...                      ...      ...  \n",
       "2004-03-07 23:55:00  22.8598  21.9582  \n",
       "2004-03-07 23:56:00  22.8500  21.9533  \n",
       "2004-03-07 23:57:00  22.8549  21.9484  \n",
       "2004-03-07 23:58:00  22.8598  21.9533  \n",
       "2004-03-07 23:59:00  22.8647  21.9484  \n",
       "\n",
       "[10080 rows x 8 columns]"
      ]
     },
     "execution_count": 16,
     "metadata": {},
     "output_type": "execute_result"
    }
   ],
   "source": [
    "data_samp"
   ]
  },
  {
   "cell_type": "markdown",
   "metadata": {},
   "source": [
    "There are still some missing values, which we can simply deal with by applying linear interpolation to estimate values making our set continuous. Interpolation uses previous values, so for values appearing at the front of our frame (ie. sensor 1) we must make the process bidirectional.\n",
    "\n",
    "We interpolate at the row level, since readings between close by sensors at a give time will be more indicitive of true temperature than minute to minute guesses on the same sensor."
   ]
  },
  {
   "cell_type": "code",
   "execution_count": 17,
   "metadata": {},
   "outputs": [],
   "source": [
    "data_samp = data_samp.interpolate(method='spline', order=2, limit_direction='both', axis=0)"
   ]
  },
  {
   "cell_type": "code",
   "execution_count": 18,
   "metadata": {},
   "outputs": [
    {
     "data": {
      "text/plain": [
       "SENSOR_ID\n",
       "2     0\n",
       "6     0\n",
       "7     0\n",
       "9     0\n",
       "1     0\n",
       "3     0\n",
       "4     0\n",
       "10    0\n",
       "dtype: int64"
      ]
     },
     "execution_count": 18,
     "metadata": {},
     "output_type": "execute_result"
    }
   ],
   "source": [
    "data_samp.isna().sum()"
   ]
  },
  {
   "cell_type": "code",
   "execution_count": 19,
   "metadata": {},
   "outputs": [
    {
     "data": {
      "text/html": [
       "<div>\n",
       "<style scoped>\n",
       "    .dataframe tbody tr th:only-of-type {\n",
       "        vertical-align: middle;\n",
       "    }\n",
       "\n",
       "    .dataframe tbody tr th {\n",
       "        vertical-align: top;\n",
       "    }\n",
       "\n",
       "    .dataframe thead th {\n",
       "        text-align: right;\n",
       "    }\n",
       "</style>\n",
       "<table border=\"1\" class=\"dataframe\">\n",
       "  <thead>\n",
       "    <tr style=\"text-align: right;\">\n",
       "      <th>SENSOR_ID</th>\n",
       "      <th>2</th>\n",
       "      <th>6</th>\n",
       "      <th>7</th>\n",
       "      <th>9</th>\n",
       "      <th>1</th>\n",
       "      <th>3</th>\n",
       "      <th>4</th>\n",
       "      <th>10</th>\n",
       "    </tr>\n",
       "  </thead>\n",
       "  <tbody>\n",
       "    <tr>\n",
       "      <td>count</td>\n",
       "      <td>10080.000000</td>\n",
       "      <td>10080.000000</td>\n",
       "      <td>10080.000000</td>\n",
       "      <td>10080.000000</td>\n",
       "      <td>10080.000000</td>\n",
       "      <td>10080.000000</td>\n",
       "      <td>10080.000000</td>\n",
       "      <td>10080.000000</td>\n",
       "    </tr>\n",
       "    <tr>\n",
       "      <td>mean</td>\n",
       "      <td>21.957166</td>\n",
       "      <td>21.629939</td>\n",
       "      <td>21.714271</td>\n",
       "      <td>21.615788</td>\n",
       "      <td>22.139674</td>\n",
       "      <td>22.130016</td>\n",
       "      <td>22.128592</td>\n",
       "      <td>21.393151</td>\n",
       "    </tr>\n",
       "    <tr>\n",
       "      <td>std</td>\n",
       "      <td>2.000003</td>\n",
       "      <td>1.957363</td>\n",
       "      <td>2.150584</td>\n",
       "      <td>2.438546</td>\n",
       "      <td>2.679119</td>\n",
       "      <td>2.395939</td>\n",
       "      <td>2.195915</td>\n",
       "      <td>2.134782</td>\n",
       "    </tr>\n",
       "    <tr>\n",
       "      <td>min</td>\n",
       "      <td>17.641300</td>\n",
       "      <td>17.216932</td>\n",
       "      <td>17.776867</td>\n",
       "      <td>17.471980</td>\n",
       "      <td>17.195400</td>\n",
       "      <td>17.504506</td>\n",
       "      <td>18.028400</td>\n",
       "      <td>17.122464</td>\n",
       "    </tr>\n",
       "    <tr>\n",
       "      <td>25%</td>\n",
       "      <td>20.601647</td>\n",
       "      <td>20.131858</td>\n",
       "      <td>19.988400</td>\n",
       "      <td>19.557200</td>\n",
       "      <td>19.973700</td>\n",
       "      <td>20.233400</td>\n",
       "      <td>20.496814</td>\n",
       "      <td>19.674800</td>\n",
       "    </tr>\n",
       "    <tr>\n",
       "      <td>50%</td>\n",
       "      <td>21.905117</td>\n",
       "      <td>21.570492</td>\n",
       "      <td>21.589883</td>\n",
       "      <td>21.419200</td>\n",
       "      <td>21.811200</td>\n",
       "      <td>21.932518</td>\n",
       "      <td>21.860200</td>\n",
       "      <td>21.321200</td>\n",
       "    </tr>\n",
       "    <tr>\n",
       "      <td>75%</td>\n",
       "      <td>23.222400</td>\n",
       "      <td>23.095000</td>\n",
       "      <td>23.340817</td>\n",
       "      <td>23.320400</td>\n",
       "      <td>24.222000</td>\n",
       "      <td>23.949556</td>\n",
       "      <td>23.517625</td>\n",
       "      <td>22.987200</td>\n",
       "    </tr>\n",
       "    <tr>\n",
       "      <td>max</td>\n",
       "      <td>27.416800</td>\n",
       "      <td>26.534800</td>\n",
       "      <td>26.427000</td>\n",
       "      <td>27.171800</td>\n",
       "      <td>28.681000</td>\n",
       "      <td>28.269400</td>\n",
       "      <td>27.652000</td>\n",
       "      <td>25.819400</td>\n",
       "    </tr>\n",
       "  </tbody>\n",
       "</table>\n",
       "</div>"
      ],
      "text/plain": [
       "SENSOR_ID            2             6             7             9   \\\n",
       "count      10080.000000  10080.000000  10080.000000  10080.000000   \n",
       "mean          21.957166     21.629939     21.714271     21.615788   \n",
       "std            2.000003      1.957363      2.150584      2.438546   \n",
       "min           17.641300     17.216932     17.776867     17.471980   \n",
       "25%           20.601647     20.131858     19.988400     19.557200   \n",
       "50%           21.905117     21.570492     21.589883     21.419200   \n",
       "75%           23.222400     23.095000     23.340817     23.320400   \n",
       "max           27.416800     26.534800     26.427000     27.171800   \n",
       "\n",
       "SENSOR_ID            1             3             4             10  \n",
       "count      10080.000000  10080.000000  10080.000000  10080.000000  \n",
       "mean          22.139674     22.130016     22.128592     21.393151  \n",
       "std            2.679119      2.395939      2.195915      2.134782  \n",
       "min           17.195400     17.504506     18.028400     17.122464  \n",
       "25%           19.973700     20.233400     20.496814     19.674800  \n",
       "50%           21.811200     21.932518     21.860200     21.321200  \n",
       "75%           24.222000     23.949556     23.517625     22.987200  \n",
       "max           28.681000     28.269400     27.652000     25.819400  "
      ]
     },
     "execution_count": 19,
     "metadata": {},
     "output_type": "execute_result"
    }
   ],
   "source": [
    "data_samp.describe()"
   ]
  },
  {
   "cell_type": "markdown",
   "metadata": {},
   "source": [
    "Now our data set smoothly tracks Temperature over 1 minute intervals without undefined data points. Let's plot our findings for each sensor in our dataframe."
   ]
  },
  {
   "cell_type": "code",
   "execution_count": 20,
   "metadata": {},
   "outputs": [
    {
     "data": {
      "text/plain": [
       "array([<matplotlib.axes._subplots.AxesSubplot object at 0x1a3afe30d0>,\n",
       "       <matplotlib.axes._subplots.AxesSubplot object at 0x119c76c50>,\n",
       "       <matplotlib.axes._subplots.AxesSubplot object at 0x1a3afe3c50>,\n",
       "       <matplotlib.axes._subplots.AxesSubplot object at 0x1a390b7950>,\n",
       "       <matplotlib.axes._subplots.AxesSubplot object at 0x1a39440fd0>,\n",
       "       <matplotlib.axes._subplots.AxesSubplot object at 0x1a3a679690>,\n",
       "       <matplotlib.axes._subplots.AxesSubplot object at 0x1a3a6aed10>,\n",
       "       <matplotlib.axes._subplots.AxesSubplot object at 0x1a3a6ecf10>],\n",
       "      dtype=object)"
      ]
     },
     "execution_count": 20,
     "metadata": {},
     "output_type": "execute_result"
    },
    {
     "data": {
      "image/png": "[encoded data removed]",
      "text/plain": [
       "<Figure size 720x1440 with 8 Axes>"
      ]
     },
     "metadata": {
      "needs_background": "light"
     },
     "output_type": "display_data"
    }
   ],
   "source": [
    "data_samp.plot(subplots=True, legend=True, figsize=(10,20))"
   ]
  },
  {
   "cell_type": "markdown",
   "metadata": {},
   "source": [
    "## Autoencoder"
   ]
  },
  {
   "cell_type": "markdown",
   "metadata": {},
   "source": [
    "We have collected our time-series data as a vector $\\vec{T}$, where $\\vec{T}$ contains all of the time samples for each sensor value. This can be represented as:\n",
    "\n",
    "$\\vec{T}=\\lbrace\\langle s_1\\cdots s_n\\rangle|s_k\\in S, 1\\leq k\\leq n\\rbrace$, where $S$ is the set of sensors transmitting to the gateway.\n",
    "\n",
    "We choose to use an autoencoder for several reasons:\n",
    "\n",
    "    1. Responds well to seasonal data fluctuation\n",
    "    2. Sending the decoder to the cloud is a one-time operation\n",
    "    3. Trains quickly\n",
    "    4. Easy to understand, compared to other network models (CNNs, or time-series variants)\n",
    "\n",
    "The goal of the autoencoder is to send a _representation_ of the input batch that is smaller in size (less bytes) but can be decoded to reveal the same information. Using our time-series data, we will generate a training set that mimics a batch over a windowed time period."
   ]
  },
  {
   "cell_type": "markdown",
   "metadata": {},
   "source": [
    "![AE](./img/ae.png)"
   ]
  },
  {
   "cell_type": "markdown",
   "metadata": {},
   "source": [
    "Our autoencoder input will be an arbitrarily chosen length, with $n$ dimensions for each input. We will iteratively train the encoder in an attempt to reconstruct the original vectors (as close as possible). Once we have a reasonable reconstruction, we can send the yellow nodes to the cloud. Incoming data will be encoded (seen in red) and sent to the cloud as a smaller representation. Let us begin by choosing a window size for batched time samples."
   ]
  },
  {
   "cell_type": "markdown",
   "metadata": {},
   "source": [
    "### Data Preparation"
   ]
  },
  {
   "cell_type": "code",
   "execution_count": 21,
   "metadata": {},
   "outputs": [],
   "source": [
    "window = 3"
   ]
  },
  {
   "cell_type": "markdown",
   "metadata": {},
   "source": [
    "We will turn this time-series problem into a cross-sectional problem by taking a sliding window of vectors and applying the result to a standard autoencoder. First, let us drop values to make our window compatible with an autoencoder input."
   ]
  },
  {
   "cell_type": "code",
   "execution_count": 22,
   "metadata": {},
   "outputs": [
    {
     "data": {
      "text/html": [
       "<div>\n",
       "<style scoped>\n",
       "    .dataframe tbody tr th:only-of-type {\n",
       "        vertical-align: middle;\n",
       "    }\n",
       "\n",
       "    .dataframe tbody tr th {\n",
       "        vertical-align: top;\n",
       "    }\n",
       "\n",
       "    .dataframe thead th {\n",
       "        text-align: right;\n",
       "    }\n",
       "</style>\n",
       "<table border=\"1\" class=\"dataframe\">\n",
       "  <thead>\n",
       "    <tr style=\"text-align: right;\">\n",
       "      <th>SENSOR_ID</th>\n",
       "      <th>2</th>\n",
       "      <th>6</th>\n",
       "      <th>7</th>\n",
       "      <th>9</th>\n",
       "      <th>1</th>\n",
       "      <th>3</th>\n",
       "      <th>4</th>\n",
       "      <th>10</th>\n",
       "    </tr>\n",
       "    <tr>\n",
       "      <th>DATETIME</th>\n",
       "      <th></th>\n",
       "      <th></th>\n",
       "      <th></th>\n",
       "      <th></th>\n",
       "      <th></th>\n",
       "      <th></th>\n",
       "      <th></th>\n",
       "      <th></th>\n",
       "    </tr>\n",
       "  </thead>\n",
       "  <tbody>\n",
       "    <tr>\n",
       "      <td>2004-03-01 00:00:00</td>\n",
       "      <td>18.8663</td>\n",
       "      <td>18.675200</td>\n",
       "      <td>18.7095</td>\n",
       "      <td>18.489000</td>\n",
       "      <td>17.698805</td>\n",
       "      <td>17.504506</td>\n",
       "      <td>18.729463</td>\n",
       "      <td>17.122464</td>\n",
       "    </tr>\n",
       "    <tr>\n",
       "      <td>2004-03-01 00:01:00</td>\n",
       "      <td>18.8614</td>\n",
       "      <td>18.675200</td>\n",
       "      <td>18.7046</td>\n",
       "      <td>18.482467</td>\n",
       "      <td>18.449800</td>\n",
       "      <td>18.753600</td>\n",
       "      <td>19.111300</td>\n",
       "      <td>18.430200</td>\n",
       "    </tr>\n",
       "    <tr>\n",
       "      <td>2004-03-01 00:02:00</td>\n",
       "      <td>18.8614</td>\n",
       "      <td>18.665400</td>\n",
       "      <td>18.6948</td>\n",
       "      <td>18.469400</td>\n",
       "      <td>18.440000</td>\n",
       "      <td>18.763400</td>\n",
       "      <td>19.106400</td>\n",
       "      <td>17.134191</td>\n",
       "    </tr>\n",
       "    <tr>\n",
       "      <td>2004-03-01 00:03:00</td>\n",
       "      <td>18.8418</td>\n",
       "      <td>18.665400</td>\n",
       "      <td>18.6899</td>\n",
       "      <td>17.471980</td>\n",
       "      <td>17.697222</td>\n",
       "      <td>18.753600</td>\n",
       "      <td>19.106400</td>\n",
       "      <td>17.140065</td>\n",
       "    </tr>\n",
       "    <tr>\n",
       "      <td>2004-03-01 00:04:00</td>\n",
       "      <td>18.8320</td>\n",
       "      <td>18.665400</td>\n",
       "      <td>18.6850</td>\n",
       "      <td>18.479200</td>\n",
       "      <td>18.440000</td>\n",
       "      <td>18.734000</td>\n",
       "      <td>19.111300</td>\n",
       "      <td>18.410600</td>\n",
       "    </tr>\n",
       "    <tr>\n",
       "      <td>...</td>\n",
       "      <td>...</td>\n",
       "      <td>...</td>\n",
       "      <td>...</td>\n",
       "      <td>...</td>\n",
       "      <td>...</td>\n",
       "      <td>...</td>\n",
       "      <td>...</td>\n",
       "      <td>...</td>\n",
       "    </tr>\n",
       "    <tr>\n",
       "      <td>2004-03-07 23:55:00</td>\n",
       "      <td>22.9284</td>\n",
       "      <td>22.477600</td>\n",
       "      <td>22.4923</td>\n",
       "      <td>22.056200</td>\n",
       "      <td>22.683400</td>\n",
       "      <td>22.771600</td>\n",
       "      <td>22.859800</td>\n",
       "      <td>21.958200</td>\n",
       "    </tr>\n",
       "    <tr>\n",
       "      <td>2004-03-07 23:56:00</td>\n",
       "      <td>22.9088</td>\n",
       "      <td>22.467800</td>\n",
       "      <td>22.4972</td>\n",
       "      <td>22.061100</td>\n",
       "      <td>22.673600</td>\n",
       "      <td>22.771600</td>\n",
       "      <td>22.850000</td>\n",
       "      <td>21.953300</td>\n",
       "    </tr>\n",
       "    <tr>\n",
       "      <td>2004-03-07 23:57:00</td>\n",
       "      <td>22.9088</td>\n",
       "      <td>22.467800</td>\n",
       "      <td>22.4923</td>\n",
       "      <td>22.041500</td>\n",
       "      <td>22.678500</td>\n",
       "      <td>22.761800</td>\n",
       "      <td>22.854900</td>\n",
       "      <td>21.948400</td>\n",
       "    </tr>\n",
       "    <tr>\n",
       "      <td>2004-03-07 23:58:00</td>\n",
       "      <td>22.9235</td>\n",
       "      <td>22.448200</td>\n",
       "      <td>22.4923</td>\n",
       "      <td>22.046400</td>\n",
       "      <td>21.665853</td>\n",
       "      <td>22.756900</td>\n",
       "      <td>22.859800</td>\n",
       "      <td>21.953300</td>\n",
       "    </tr>\n",
       "    <tr>\n",
       "      <td>2004-03-07 23:59:00</td>\n",
       "      <td>22.9284</td>\n",
       "      <td>20.793018</td>\n",
       "      <td>22.4874</td>\n",
       "      <td>22.046400</td>\n",
       "      <td>22.693200</td>\n",
       "      <td>22.761800</td>\n",
       "      <td>22.864700</td>\n",
       "      <td>21.948400</td>\n",
       "    </tr>\n",
       "  </tbody>\n",
       "</table>\n",
       "<p>10080 rows × 8 columns</p>\n",
       "</div>"
      ],
      "text/plain": [
       "SENSOR_ID                 2          6        7          9          1   \\\n",
       "DATETIME                                                                 \n",
       "2004-03-01 00:00:00  18.8663  18.675200  18.7095  18.489000  17.698805   \n",
       "2004-03-01 00:01:00  18.8614  18.675200  18.7046  18.482467  18.449800   \n",
       "2004-03-01 00:02:00  18.8614  18.665400  18.6948  18.469400  18.440000   \n",
       "2004-03-01 00:03:00  18.8418  18.665400  18.6899  17.471980  17.697222   \n",
       "2004-03-01 00:04:00  18.8320  18.665400  18.6850  18.479200  18.440000   \n",
       "...                      ...        ...      ...        ...        ...   \n",
       "2004-03-07 23:55:00  22.9284  22.477600  22.4923  22.056200  22.683400   \n",
       "2004-03-07 23:56:00  22.9088  22.467800  22.4972  22.061100  22.673600   \n",
       "2004-03-07 23:57:00  22.9088  22.467800  22.4923  22.041500  22.678500   \n",
       "2004-03-07 23:58:00  22.9235  22.448200  22.4923  22.046400  21.665853   \n",
       "2004-03-07 23:59:00  22.9284  20.793018  22.4874  22.046400  22.693200   \n",
       "\n",
       "SENSOR_ID                   3          4          10  \n",
       "DATETIME                                              \n",
       "2004-03-01 00:00:00  17.504506  18.729463  17.122464  \n",
       "2004-03-01 00:01:00  18.753600  19.111300  18.430200  \n",
       "2004-03-01 00:02:00  18.763400  19.106400  17.134191  \n",
       "2004-03-01 00:03:00  18.753600  19.106400  17.140065  \n",
       "2004-03-01 00:04:00  18.734000  19.111300  18.410600  \n",
       "...                        ...        ...        ...  \n",
       "2004-03-07 23:55:00  22.771600  22.859800  21.958200  \n",
       "2004-03-07 23:56:00  22.771600  22.850000  21.953300  \n",
       "2004-03-07 23:57:00  22.761800  22.854900  21.948400  \n",
       "2004-03-07 23:58:00  22.756900  22.859800  21.953300  \n",
       "2004-03-07 23:59:00  22.761800  22.864700  21.948400  \n",
       "\n",
       "[10080 rows x 8 columns]"
      ]
     },
     "execution_count": 22,
     "metadata": {},
     "output_type": "execute_result"
    }
   ],
   "source": [
    "# Effectively dropping the last data_samp[0] mod <window> values.\n",
    "data_window = data_samp[:math.floor(data_samp.shape[0]/window)*window]\n",
    "data_window"
   ]
  },
  {
   "cell_type": "markdown",
   "metadata": {},
   "source": [
    "The new data window size will guarantee the autoencoder input will be consistent. Now we will define a function to create a sliding window over each timestep, looking like: $\\lbrack t_0, t_1, t_2\\rbrack, \\lbrack t_1, t_2, t_3\\rbrack,\\cdots,\\lbrack t_{n-2}, t_{n-1}, t_n\\rbrack$"
   ]
  },
  {
   "cell_type": "code",
   "execution_count": 23,
   "metadata": {},
   "outputs": [],
   "source": [
    "def build_window(arr, window):\n",
    "    iterator = iter(arr)\n",
    "    n_windows = len(arr)-window+1\n",
    "    for i in range(n_windows):\n",
    "        yield arr[i:i+window]"
   ]
  },
  {
   "cell_type": "code",
   "execution_count": 24,
   "metadata": {},
   "outputs": [],
   "source": [
    "data_window_slide = list(build_window(data_samp.values, window))"
   ]
  },
  {
   "cell_type": "markdown",
   "metadata": {},
   "source": [
    "Now our data is in a sliding window of 3 vectors with 9 sensor dimensions. We would like to concatenate the vectors in each windowed batch:"
   ]
  },
  {
   "cell_type": "code",
   "execution_count": 25,
   "metadata": {},
   "outputs": [],
   "source": [
    "for i in range(len(data_window_slide)):\n",
    "    data_window_slide[i] = data_window_slide[i].flatten()"
   ]
  },
  {
   "cell_type": "code",
   "execution_count": 26,
   "metadata": {},
   "outputs": [
    {
     "data": {
      "text/plain": [
       "[array([18.8663    , 18.6752    , 18.7095    , 18.489     , 17.69880463,\n",
       "        17.50450605, 18.72946268, 17.12246413, 18.8614    , 18.6752    ,\n",
       "        18.7046    , 18.48246667, 18.4498    , 18.7536    , 19.1113    ,\n",
       "        18.4302    , 18.8614    , 18.6654    , 18.6948    , 18.4694    ,\n",
       "        18.44      , 18.7634    , 19.1064    , 17.13419089]),\n",
       " array([18.8614    , 18.6752    , 18.7046    , 18.48246667, 18.4498    ,\n",
       "        18.7536    , 19.1113    , 18.4302    , 18.8614    , 18.6654    ,\n",
       "        18.6948    , 18.4694    , 18.44      , 18.7634    , 19.1064    ,\n",
       "        17.13419089, 18.8418    , 18.6654    , 18.6899    , 17.47197961,\n",
       "        17.69722214, 18.7536    , 19.1064    , 17.1400651 ]),\n",
       " array([18.8614    , 18.6654    , 18.6948    , 18.4694    , 18.44      ,\n",
       "        18.7634    , 19.1064    , 17.13419089, 18.8418    , 18.6654    ,\n",
       "        18.6899    , 17.47197961, 17.69722214, 18.7536    , 19.1064    ,\n",
       "        17.1400651 , 18.832     , 18.6654    , 18.685     , 18.4792    ,\n",
       "        18.44      , 18.734     , 19.1113    , 18.4106    ])]"
      ]
     },
     "execution_count": 26,
     "metadata": {},
     "output_type": "execute_result"
    }
   ],
   "source": [
    "data_window_slide[0:3]"
   ]
  },
  {
   "cell_type": "code",
   "execution_count": 27,
   "metadata": {},
   "outputs": [
    {
     "data": {
      "text/plain": [
       "(24,)"
      ]
     },
     "execution_count": 27,
     "metadata": {},
     "output_type": "execute_result"
    }
   ],
   "source": [
    "data_window_slide[0].shape"
   ]
  },
  {
   "cell_type": "markdown",
   "metadata": {},
   "source": [
    "The advantage of taking the time component out is that we are able to randomize our training representations. Each $n\\times k$ value (where $k$ is the window size, and $n$ is the dimensionality) describes a feature of the graph above, but is still a learnable representation in any order. This makes the encoding more robust to seasonal changes, although they are not represented in the data."
   ]
  },
  {
   "cell_type": "markdown",
   "metadata": {},
   "source": [
    "In order to prevent gradients from vanishing, we need to normalize our data, so we will fit our data to values in the range $\\lbrack0,1\\rbrack$. To accomplish this we can use the following formula:\n",
    "\n",
    "$\\text{norm($x_i$)}=\\frac{x_i-\\text{min($x$)}}{\\text{max($x$)}-\\text{min($x$)}}$."
   ]
  },
  {
   "cell_type": "code",
   "execution_count": 28,
   "metadata": {},
   "outputs": [],
   "source": [
    "data_window_arr = np.array(data_window_slide)"
   ]
  },
  {
   "cell_type": "markdown",
   "metadata": {},
   "source": [
    "First, we convert the list into an array of np.array's. Using the normalize function below, we normalize the data set."
   ]
  },
  {
   "cell_type": "code",
   "execution_count": 29,
   "metadata": {},
   "outputs": [],
   "source": [
    "def normalize(data: list):\n",
    "    min_x = data.min()\n",
    "    max_x = data.max()\n",
    "    denom = max_x - min_x\n",
    "    return (data-min_x) / denom"
   ]
  },
  {
   "cell_type": "code",
   "execution_count": 30,
   "metadata": {},
   "outputs": [],
   "source": [
    "data_window_norm = normalize(data_window_arr)"
   ]
  },
  {
   "cell_type": "code",
   "execution_count": 31,
   "metadata": {},
   "outputs": [
    {
     "data": {
      "text/plain": [
       "array([[0.15086996, 0.13433673, 0.13730423, 0.11822742, 0.04986276,\n",
       "        0.0330528 , 0.13903132, 0.        , 0.15044603, 0.13433673,\n",
       "        0.1368803 , 0.11766218, 0.11483599, 0.14111959, 0.17206642,\n",
       "        0.11314027, 0.15044603, 0.13348887, 0.13603244, 0.1165317 ,\n",
       "        0.11398813, 0.14196745, 0.17164249, 0.00101455],\n",
       "       [0.15044603, 0.13433673, 0.1368803 , 0.11766218, 0.11483599,\n",
       "        0.14111959, 0.17206642, 0.11314027, 0.15044603, 0.13348887,\n",
       "        0.13603244, 0.1165317 , 0.11398813, 0.14196745, 0.17164249,\n",
       "        0.00101455, 0.14875032, 0.13348887, 0.13560851, 0.03023873,\n",
       "        0.04972585, 0.14111959, 0.17164249, 0.00152277],\n",
       "       [0.15044603, 0.13348887, 0.13603244, 0.1165317 , 0.11398813,\n",
       "        0.14196745, 0.17164249, 0.00101455, 0.14875032, 0.13348887,\n",
       "        0.13560851, 0.03023873, 0.04972585, 0.14111959, 0.17164249,\n",
       "        0.00152277, 0.14790246, 0.13348887, 0.13518458, 0.11737956,\n",
       "        0.11398813, 0.13942388, 0.17206642, 0.11144455]])"
      ]
     },
     "execution_count": 31,
     "metadata": {},
     "output_type": "execute_result"
    }
   ],
   "source": [
    "data_window_norm[0:3]"
   ]
  },
  {
   "cell_type": "markdown",
   "metadata": {},
   "source": [
    "### Data Splitting"
   ]
  },
  {
   "cell_type": "markdown",
   "metadata": {},
   "source": [
    "Splitting the dataset into train/test sets. By default, the training/test split will be 90/10"
   ]
  },
  {
   "cell_type": "code",
   "execution_count": 32,
   "metadata": {},
   "outputs": [],
   "source": [
    "def split_data(data, test_size=0.1):\n",
    "    X_train, X_test = train_test_split(data, test_size=test_size)\n",
    "    return X_train, X_test"
   ]
  },
  {
   "cell_type": "code",
   "execution_count": 33,
   "metadata": {},
   "outputs": [],
   "source": [
    "train, test = split_data(data_window_norm)"
   ]
  },
  {
   "cell_type": "code",
   "execution_count": 34,
   "metadata": {},
   "outputs": [
    {
     "name": "stdout",
     "output_type": "stream",
     "text": [
      "Train size: 9070, Test size: 1008\n"
     ]
    }
   ],
   "source": [
    "print('Train size: {}, Test size: {}'.format(len(train), len(test)))"
   ]
  },
  {
   "cell_type": "markdown",
   "metadata": {},
   "source": [
    "We will now define the model:"
   ]
  },
  {
   "cell_type": "code",
   "execution_count": 35,
   "metadata": {},
   "outputs": [],
   "source": [
    "n_features = len(data_window_norm[0])\n",
    "encoding_dim = 6\n",
    "hidden_dim = 16\n",
    "\n",
    "input_layer = Input(shape=(n_features,))\n",
    "dropout_1 = Dropout(rate=0.1)(input_layer)\n",
    "hidden_1 = Dense(hidden_dim, activation='relu')(dropout_1)\n",
    "encoded = Dense(encoding_dim, activation='relu')(hidden_1)\n",
    "hidden_2 = Dense(hidden_dim, activation='relu')(encoded)\n",
    "output_layer = Dense(n_features, activation='relu')(hidden_2)\n",
    "\n",
    "autoencoder = Model(input_layer, output_layer)\n",
    "autoencoder.compile(optimizer='adam', loss='mse')"
   ]
  },
  {
   "cell_type": "code",
   "execution_count": 36,
   "metadata": {},
   "outputs": [
    {
     "name": "stdout",
     "output_type": "stream",
     "text": [
      "Model: \"model_1\"\n",
      "_________________________________________________________________\n",
      "Layer (type)                 Output Shape              Param #   \n",
      "=================================================================\n",
      "input_1 (InputLayer)         (None, 24)                0         \n",
      "_________________________________________________________________\n",
      "dropout_1 (Dropout)          (None, 24)                0         \n",
      "_________________________________________________________________\n",
      "dense_1 (Dense)              (None, 16)                400       \n",
      "_________________________________________________________________\n",
      "dense_2 (Dense)              (None, 6)                 102       \n",
      "_________________________________________________________________\n",
      "dense_3 (Dense)              (None, 16)                112       \n",
      "_________________________________________________________________\n",
      "dense_4 (Dense)              (None, 24)                408       \n",
      "=================================================================\n",
      "Total params: 1,022\n",
      "Trainable params: 1,022\n",
      "Non-trainable params: 0\n",
      "_________________________________________________________________\n"
     ]
    }
   ],
   "source": [
    "autoencoder.summary()"
   ]
  },
  {
   "cell_type": "markdown",
   "metadata": {},
   "source": [
    "Since this is a regression problem, we choose the Mean-squared Error (MSE) objective function. This is the function we will minimize through gradient descent. MSE is a measure of the average squared distance between estimated and actual values.\n",
    "\n",
    "Adam appears to be the optimizer of choice; It converges the fastest of any Keras-implemented optimizer (for most data sets), and with a default learning rate of 0.001 it is unikely to miss any features when updating gradients.\n",
    "\n",
    "For the hidden layer, we chose ReLU as an activation function, since it handles the vanishing gradient problem well (ie. unlike sigmoid, it does not flatten at 0). For the output layer, we use the ReLU function as well.\n",
    "\n",
    "The number of parameters are calculated by looking at the input shape, multiplied by the size of the next layer, plus the number of bias nodes. Bias nodes are used to help the network fit data in the case of all the input features are 0, hence no gradient can be calculated. \n",
    "\n",
    "For the case of Input Layer into the encoded Dense layer, we have 24 nodes, mapping to a hidden layer of 16, with 16 bias nodes connected to the encoded layer, $24\\times16+16=400$."
   ]
  },
  {
   "cell_type": "markdown",
   "metadata": {},
   "source": [
    "Given our autoencoder, let's fit it. Note the target of the autoencoder is the training data as well, so the input is supplied as the target. The testing set will be used for validation."
   ]
  },
  {
   "cell_type": "code",
   "execution_count": 37,
   "metadata": {},
   "outputs": [
    {
     "name": "stdout",
     "output_type": "stream",
     "text": [
      "Train on 9070 samples, validate on 1008 samples\n",
      "Epoch 1/20\n",
      "9070/9070 [==============================] - 2s 226us/step - loss: 0.0859 - val_loss: 0.0794\n",
      "Epoch 2/20\n",
      "9070/9070 [==============================] - 2s 187us/step - loss: 0.0750 - val_loss: 0.0730\n",
      "Epoch 3/20\n",
      "9070/9070 [==============================] - 2s 191us/step - loss: 0.0735 - val_loss: 0.0730\n",
      "Epoch 4/20\n",
      "9070/9070 [==============================] - 2s 194us/step - loss: 0.0527 - val_loss: 0.0387\n",
      "Epoch 5/20\n",
      "9070/9070 [==============================] - 2s 191us/step - loss: 0.0244 - val_loss: 0.0131\n",
      "Epoch 6/20\n",
      "9070/9070 [==============================] - 2s 193us/step - loss: 0.0127 - val_loss: 0.0131\n",
      "Epoch 7/20\n",
      "9070/9070 [==============================] - 2s 271us/step - loss: 0.0126 - val_loss: 0.0136\n",
      "Epoch 8/20\n",
      "9070/9070 [==============================] - 3s 307us/step - loss: 0.0126 - val_loss: 0.0140\n",
      "Epoch 9/20\n",
      "9070/9070 [==============================] - 3s 276us/step - loss: 0.0126 - val_loss: 0.0135\n",
      "Epoch 10/20\n",
      "9070/9070 [==============================] - 3s 348us/step - loss: 0.0126 - val_loss: 0.0131\n",
      "Epoch 11/20\n",
      "9070/9070 [==============================] - 2s 269us/step - loss: 0.0126 - val_loss: 0.0137\n",
      "Epoch 12/20\n",
      "9070/9070 [==============================] - 2s 234us/step - loss: 0.0051 - val_loss: 0.0038\n",
      "Epoch 13/20\n",
      "9070/9070 [==============================] - 3s 306us/step - loss: 0.0026 - val_loss: 0.0036\n",
      "Epoch 14/20\n",
      "9070/9070 [==============================] - 2s 213us/step - loss: 0.0025 - val_loss: 0.0039\n",
      "Epoch 15/20\n",
      "9070/9070 [==============================] - 2s 226us/step - loss: 0.0025 - val_loss: 0.0037\n",
      "Epoch 16/20\n",
      "9070/9070 [==============================] - 2s 246us/step - loss: 0.0025 - val_loss: 0.0043\n",
      "Epoch 17/20\n",
      "9070/9070 [==============================] - 2s 200us/step - loss: 0.0025 - val_loss: 0.0036\n",
      "Epoch 18/20\n",
      "9070/9070 [==============================] - 2s 223us/step - loss: 0.0025 - val_loss: 0.0042\n",
      "Epoch 19/20\n",
      "9070/9070 [==============================] - 2s 233us/step - loss: 0.0025 - val_loss: 0.0039\n",
      "Epoch 20/20\n",
      "9070/9070 [==============================] - 2s 189us/step - loss: 0.0025 - val_loss: 0.0041\n"
     ]
    }
   ],
   "source": [
    "history = autoencoder.fit(train, train,\n",
    "    epochs=20,\n",
    "    batch_size=10,\n",
    "    validation_data=(test, test),\n",
    "    shuffle=True\n",
    ")"
   ]
  },
  {
   "cell_type": "markdown",
   "metadata": {},
   "source": [
    "Plotting the results:"
   ]
  },
  {
   "cell_type": "code",
   "execution_count": 38,
   "metadata": {},
   "outputs": [
    {
     "data": {
      "image/png": "[encoded data removed]",
      "text/plain": [
       "<Figure size 432x288 with 1 Axes>"
      ]
     },
     "metadata": {
      "needs_background": "light"
     },
     "output_type": "display_data"
    }
   ],
   "source": [
    "plt.plot(history.history['loss'])\n",
    "plt.plot(history.history['val_loss'])\n",
    "plt.title('Train vs Validation Loss')\n",
    "plt.ylabel('Loss')\n",
    "plt.xlabel('Epoch')\n",
    "plt.legend(['Train', 'Validation'], loc='upper right')\n",
    "plt.show()"
   ]
  },
  {
   "cell_type": "markdown",
   "metadata": {},
   "source": [
    "After about 11 epochs our training loss and validation loss appear to stabilize. We see the validation loss lagging behind the training loss at points due to the fact that validation loss does not include regularization loss, so ideally the validation plot would be shifted over. The fact that training loss $\\approx$ validation loss could be a sign of underfitting the data. This could be remedied by resampling at a faster rate, performing more intelligent interpolation, or creating a deeper model with more neurons.\n",
    "\n",
    "In previous trials, without using a deep autoencoder, I found that the model would underfit the data, or fail to perform on the training set due to lack of neurons. This loss curve is not ideal, and suggests we are overfitting, but decreasing the number of parameters leads to underfitting."
   ]
  },
  {
   "cell_type": "markdown",
   "metadata": {},
   "source": [
    "### Anomaly Detection"
   ]
  },
  {
   "cell_type": "markdown",
   "metadata": {},
   "source": [
    "Using our encoding layer of the trained model, we can now generate compressed representations of our input batches. As mentioned above, this is powerful not only because of it's compression, but we can detect if a value is anomalous."
   ]
  },
  {
   "cell_type": "markdown",
   "metadata": {},
   "source": [
    "By learning to replicate the highest variation features in the training data, the model can learn how to reproduce the most frequent characteristics of the observations. Given an anomaly, the model should worsen its reconstruction performance. \n",
    "\n",
    "Reconstruction error (MSE) of a data point, or the error between the original data point and its encoding, is used to calculate the anomaly score."
   ]
  },
  {
   "cell_type": "markdown",
   "metadata": {},
   "source": [
    "First let us grab the encoder/decoder layer from the trained model:"
   ]
  },
  {
   "cell_type": "code",
   "execution_count": 39,
   "metadata": {},
   "outputs": [],
   "source": [
    "encoder = Model(input_layer, encoded)"
   ]
  },
  {
   "cell_type": "code",
   "execution_count": 40,
   "metadata": {},
   "outputs": [],
   "source": [
    "encoded_input = Input(shape=(encoding_dim,))\n",
    "# retrieve the decoder layer of the autoencoder model\n",
    "decoder_layer_1 = autoencoder.layers[-2]\n",
    "decoder_layer_2 = autoencoder.layers[-1]\n",
    "decoder = Model(encoded_input, decoder_layer_2(decoder_layer_1(encoded_input)))"
   ]
  },
  {
   "cell_type": "markdown",
   "metadata": {},
   "source": [
    "Let's find a representation of an input vector (3 timestamps, each with 9 sensor dimensions)"
   ]
  },
  {
   "cell_type": "code",
   "execution_count": 41,
   "metadata": {},
   "outputs": [
    {
     "data": {
      "text/plain": [
       "array([[0.33824664, 0.30475623, 0.29966909, 0.27126583, 0.3085716 ,\n",
       "        0.32128947, 0.33697485, 0.27847263, 0.33782271, 0.30560409,\n",
       "        0.29882123, 0.27253762, 0.30645195, 0.32086554, 0.33612699,\n",
       "        0.27847263, 0.33612699, 0.30475623, 0.30051694, 0.27168976,\n",
       "        0.30645195, 0.27819138, 0.33443127, 0.27847263]])"
      ]
     },
     "execution_count": 41,
     "metadata": {},
     "output_type": "execute_result"
    }
   ],
   "source": [
    "sample_test = test[100:101]\n",
    "sample_test"
   ]
  },
  {
   "cell_type": "code",
   "execution_count": 42,
   "metadata": {},
   "outputs": [],
   "source": [
    "encoded_test = encoder.predict(sample_test)"
   ]
  },
  {
   "cell_type": "code",
   "execution_count": 43,
   "metadata": {},
   "outputs": [
    {
     "data": {
      "text/plain": [
       "array([[0.31793088, 0.2755904 , 0.2723632 , 0.23608893, 0.26703122,\n",
       "        0.28922725, 0.30731118, 0.23917231, 0.32168457, 0.28130543,\n",
       "        0.27108848, 0.23196314, 0.26822272, 0.29023027, 0.30659106,\n",
       "        0.24122056, 0.31864512, 0.27794048, 0.26926923, 0.23340245,\n",
       "        0.2674284 , 0.28826475, 0.3034975 , 0.23906878]], dtype=float32)"
      ]
     },
     "execution_count": 43,
     "metadata": {},
     "output_type": "execute_result"
    }
   ],
   "source": [
    "reconstructed = decoder.predict(encoded_test)\n",
    "reconstructed"
   ]
  },
  {
   "cell_type": "markdown",
   "metadata": {},
   "source": [
    "Now, let's introduce an anomalous reading to a sensor in a random position."
   ]
  },
  {
   "cell_type": "code",
   "execution_count": 44,
   "metadata": {},
   "outputs": [],
   "source": [
    "random_test = test\n",
    "random_test[0][random.randint(0,len(random_test[0])-1)] = 0.99"
   ]
  },
  {
   "cell_type": "code",
   "execution_count": 45,
   "metadata": {},
   "outputs": [
    {
     "data": {
      "text/plain": [
       "array([0.16655534, 0.14366317, 0.14281531, 0.07140807, 0.12868434,\n",
       "       0.14988079, 0.17672964, 0.11017277, 0.16655534, 0.14239138,\n",
       "       0.14140221, 0.99      , 0.12840172, 0.14959817, 0.17672964,\n",
       "       0.1063574 , 0.16570748, 0.14281531, 0.14111959, 0.10974884,\n",
       "       0.12840172, 0.14535888, 0.1444574 , 0.1091836 ])"
      ]
     },
     "execution_count": 45,
     "metadata": {},
     "output_type": "execute_result"
    }
   ],
   "source": [
    "random_test[0]"
   ]
  },
  {
   "cell_type": "markdown",
   "metadata": {},
   "source": [
    "Value of 0.99 is in the array, which will overshadow the smaller dimensions."
   ]
  },
  {
   "cell_type": "code",
   "execution_count": 46,
   "metadata": {},
   "outputs": [
    {
     "data": {
      "text/plain": [
       "array([[0.        , 0.        , 0.43330833, 0.        , 0.23136383,\n",
       "        0.11150733]], dtype=float32)"
      ]
     },
     "execution_count": 46,
     "metadata": {},
     "output_type": "execute_result"
    }
   ],
   "source": [
    "random_encoded_test = encoder.predict(random_test[0:1])\n",
    "random_encoded_test"
   ]
  },
  {
   "cell_type": "code",
   "execution_count": 47,
   "metadata": {},
   "outputs": [
    {
     "data": {
      "text/plain": [
       "array([[0.2442038 , 0.20867433, 0.17903203, 0.16694704, 0.20341665,\n",
       "        0.2010685 , 0.2447666 , 0.18289757, 0.24849245, 0.22206672,\n",
       "        0.21039666, 0.1760722 , 0.21299535, 0.20985767, 0.2558973 ,\n",
       "        0.15085147, 0.24254161, 0.26347345, 0.21332687, 0.18181841,\n",
       "        0.21904278, 0.23856479, 0.24943599, 0.1777417 ]], dtype=float32)"
      ]
     },
     "execution_count": 47,
     "metadata": {},
     "output_type": "execute_result"
    }
   ],
   "source": [
    "random_reconstructed = decoder.predict(random_encoded_test)\n",
    "random_reconstructed"
   ]
  },
  {
   "cell_type": "markdown",
   "metadata": {},
   "source": [
    "Comparing the normal encoding to the anomalous one:"
   ]
  },
  {
   "cell_type": "code",
   "execution_count": 48,
   "metadata": {},
   "outputs": [
    {
     "data": {
      "text/plain": [
       "array([0.        , 0.        , 0.57471514, 0.        , 0.02097753,\n",
       "       0.        ], dtype=float32)"
      ]
     },
     "execution_count": 48,
     "metadata": {},
     "output_type": "execute_result"
    }
   ],
   "source": [
    "encoded_test[0]"
   ]
  },
  {
   "cell_type": "code",
   "execution_count": 49,
   "metadata": {},
   "outputs": [
    {
     "name": "stdout",
     "output_type": "stream",
     "text": [
      "Value 0 difference: |0.0-0.0|=0.0\n",
      "\n",
      "Value 1 difference: |0.0-0.0|=0.0\n",
      "\n",
      "Value 2 difference: |0.5747151374816895-0.43330833315849304|=0.1414068043231964\n",
      "\n",
      "Value 3 difference: |0.0-0.0|=0.0\n",
      "\n",
      "Value 4 difference: |0.020977526903152466-0.23136383295059204|=0.21038630604743958\n",
      "\n",
      "Value 5 difference: |0.0-0.11150732636451721|=0.11150732636451721\n",
      "\n"
     ]
    }
   ],
   "source": [
    "for i in range(len(encoded_test[0])):\n",
    "    print('Value {} difference: |{}-{}|={}\\n'.format(i, encoded_test[0][i], \n",
    "                                                     random_encoded_test[0][i], \n",
    "                                                     abs(encoded_test[0][i]-random_encoded_test[0][i])))"
   ]
  },
  {
   "cell_type": "markdown",
   "metadata": {},
   "source": [
    "Given this compressed form, we can use other methods, like calculating the number of standard deviations from a mean reading to determine anomalous data points."
   ]
  },
  {
   "cell_type": "markdown",
   "metadata": {},
   "source": [
    "## LSTM Encoder-Decoder (Future Work)"
   ]
  },
  {
   "cell_type": "markdown",
   "metadata": {},
   "source": [
    "Given an array of 9 sensor values with readings at every 2 minute interval, we would like to generate a compressed representation of these values, like the section above.\n",
    "\n",
    "Let us consider the same vector $\\vec{T}$ as our sensors temperature representation, but this time as time-series set.\n",
    "\n",
    "Using the scale from $x_1\\cdots x_{Tx}$ as a batch, we could choose a size similar to our sliding window in the previous concept.\n",
    "\n",
    "This approach is different from above in that it offers a key capability: *prediction*. Using the LSTM approach, we will be able to predict values, and potentially send predictions to the cloud before readings are made. If an anomaly is detected in our actual readings we can update the cloud data, but in the average case this will outperform a traditional gateway. Of course, there are trade-offs to this approach. The upside is there will be no need to send the decoder to the cloud, since we can send batches of predicted values instead. The downside is the performance, and time to train is high.\n",
    "\n"
   ]
  },
  {
   "cell_type": "markdown",
   "metadata": {},
   "source": [
    "![AUTOENCODER](./img/autoencoder.png)"
   ]
  }
 ],
 "metadata": {
  "kernelspec": {
   "display_name": "Python 3",
   "language": "python",
   "name": "python3"
  },
  "language_info": {
   "codemirror_mode": {
    "name": "ipython",
    "version": 3
   },
   "file_extension": ".py",
   "mimetype": "text/x-python",
   "name": "python",
   "nbconvert_exporter": "python",
   "pygments_lexer": "ipython3",
   "version": "3.7.4"
  }
 },
 "nbformat": 4,
 "nbformat_minor": 4
}
