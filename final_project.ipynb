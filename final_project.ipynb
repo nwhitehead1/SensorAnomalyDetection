{
 "cells": [
  {
   "cell_type": "markdown",
   "metadata": {},
   "source": [
    "## Compressing Data to the IoT Gateway using Autoencoders\n",
    "\n",
    "Dataset: http://db.csail.mit.edu/labdata/labdata.html\n",
    "\n",
    "The goal of this project is to reduce the amount of data sent to the gateway layer from edge devices. We use a dataset collected from Intel Labs, and attempt to reduce the size of the data into a form that is a representation of the original data. By reducing the amount of data sent from the sensor to the gateway, we can increase data throughput and decrease network latency."
   ]
  },
  {
   "cell_type": "markdown",
   "metadata": {},
   "source": [
    "### Data Loading"
   ]
  },
  {
   "cell_type": "code",
   "execution_count": 1,
   "metadata": {},
   "outputs": [],
   "source": [
    "import gzip\n",
    "import pandas as pd\n",
    "import matplotlib.pyplot as plt\n",
    "from matplotlib import cm"
   ]
  },
  {
   "cell_type": "code",
   "execution_count": 43,
   "metadata": {},
   "outputs": [
    {
     "data": {
      "text/html": [
       "<div>\n",
       "<style scoped>\n",
       "    .dataframe tbody tr th:only-of-type {\n",
       "        vertical-align: middle;\n",
       "    }\n",
       "\n",
       "    .dataframe tbody tr th {\n",
       "        vertical-align: top;\n",
       "    }\n",
       "\n",
       "    .dataframe thead th {\n",
       "        text-align: right;\n",
       "    }\n",
       "</style>\n",
       "<table border=\"1\" class=\"dataframe\">\n",
       "  <thead>\n",
       "    <tr style=\"text-align: right;\">\n",
       "      <th></th>\n",
       "      <th>EPOCH</th>\n",
       "      <th>MOTE_ID</th>\n",
       "      <th>TEMPERATURE</th>\n",
       "      <th>HUMIDITY</th>\n",
       "      <th>LIGHT</th>\n",
       "      <th>VOLTAGE</th>\n",
       "    </tr>\n",
       "    <tr>\n",
       "      <th>DATETIME</th>\n",
       "      <th></th>\n",
       "      <th></th>\n",
       "      <th></th>\n",
       "      <th></th>\n",
       "      <th></th>\n",
       "      <th></th>\n",
       "    </tr>\n",
       "  </thead>\n",
       "  <tbody>\n",
       "    <tr>\n",
       "      <td>2004-03-31 03:38:15.757551</td>\n",
       "      <td>2</td>\n",
       "      <td>1.0</td>\n",
       "      <td>122.1530</td>\n",
       "      <td>-3.91901</td>\n",
       "      <td>11.04</td>\n",
       "      <td>2.03397</td>\n",
       "    </tr>\n",
       "    <tr>\n",
       "      <td>2004-02-28 00:59:16.027850</td>\n",
       "      <td>3</td>\n",
       "      <td>1.0</td>\n",
       "      <td>19.9884</td>\n",
       "      <td>37.09330</td>\n",
       "      <td>45.08</td>\n",
       "      <td>2.69964</td>\n",
       "    </tr>\n",
       "    <tr>\n",
       "      <td>2004-02-28 01:03:16.333930</td>\n",
       "      <td>11</td>\n",
       "      <td>1.0</td>\n",
       "      <td>19.3024</td>\n",
       "      <td>38.46290</td>\n",
       "      <td>45.08</td>\n",
       "      <td>2.68742</td>\n",
       "    </tr>\n",
       "    <tr>\n",
       "      <td>2004-02-28 01:06:16.013453</td>\n",
       "      <td>17</td>\n",
       "      <td>1.0</td>\n",
       "      <td>19.1652</td>\n",
       "      <td>38.80390</td>\n",
       "      <td>45.08</td>\n",
       "      <td>2.68742</td>\n",
       "    </tr>\n",
       "    <tr>\n",
       "      <td>2004-02-28 01:06:46.778088</td>\n",
       "      <td>18</td>\n",
       "      <td>1.0</td>\n",
       "      <td>19.1750</td>\n",
       "      <td>38.83790</td>\n",
       "      <td>45.08</td>\n",
       "      <td>2.69964</td>\n",
       "    </tr>\n",
       "  </tbody>\n",
       "</table>\n",
       "</div>"
      ],
      "text/plain": [
       "                            EPOCH  MOTE_ID  TEMPERATURE  HUMIDITY  LIGHT  \\\n",
       "DATETIME                                                                   \n",
       "2004-03-31 03:38:15.757551      2      1.0     122.1530  -3.91901  11.04   \n",
       "2004-02-28 00:59:16.027850      3      1.0      19.9884  37.09330  45.08   \n",
       "2004-02-28 01:03:16.333930     11      1.0      19.3024  38.46290  45.08   \n",
       "2004-02-28 01:06:16.013453     17      1.0      19.1652  38.80390  45.08   \n",
       "2004-02-28 01:06:46.778088     18      1.0      19.1750  38.83790  45.08   \n",
       "\n",
       "                            VOLTAGE  \n",
       "DATETIME                             \n",
       "2004-03-31 03:38:15.757551  2.03397  \n",
       "2004-02-28 00:59:16.027850  2.69964  \n",
       "2004-02-28 01:03:16.333930  2.68742  \n",
       "2004-02-28 01:06:16.013453  2.68742  \n",
       "2004-02-28 01:06:46.778088  2.69964  "
      ]
     },
     "execution_count": 43,
     "metadata": {},
     "output_type": "execute_result"
    }
   ],
   "source": [
    "with gzip.open('data.txt.gz', 'rb') as data_bytes:\n",
    "    data = pd.read_csv(data_bytes, header=None, sep=' ', parse_dates=[[0, 1]], squeeze=True)\n",
    "data.columns = ['DATETIME','EPOCH','MOTE_ID','TEMPERATURE','HUMIDITY','LIGHT','VOLTAGE']\n",
    "data = data.set_index('DATETIME')\n",
    "data.head()"
   ]
  },
  {
   "cell_type": "code",
   "execution_count": 44,
   "metadata": {},
   "outputs": [
    {
     "data": {
      "text/html": [
       "<div>\n",
       "<style scoped>\n",
       "    .dataframe tbody tr th:only-of-type {\n",
       "        vertical-align: middle;\n",
       "    }\n",
       "\n",
       "    .dataframe tbody tr th {\n",
       "        vertical-align: top;\n",
       "    }\n",
       "\n",
       "    .dataframe thead th {\n",
       "        text-align: right;\n",
       "    }\n",
       "</style>\n",
       "<table border=\"1\" class=\"dataframe\">\n",
       "  <thead>\n",
       "    <tr style=\"text-align: right;\">\n",
       "      <th></th>\n",
       "      <th>EPOCH</th>\n",
       "      <th>MOTE_ID</th>\n",
       "      <th>TEMPERATURE</th>\n",
       "      <th>HUMIDITY</th>\n",
       "      <th>LIGHT</th>\n",
       "      <th>VOLTAGE</th>\n",
       "    </tr>\n",
       "  </thead>\n",
       "  <tbody>\n",
       "    <tr>\n",
       "      <td>count</td>\n",
       "      <td>2.313682e+06</td>\n",
       "      <td>2.313156e+06</td>\n",
       "      <td>2.312781e+06</td>\n",
       "      <td>2.312780e+06</td>\n",
       "      <td>2.219804e+06</td>\n",
       "      <td>2.313156e+06</td>\n",
       "    </tr>\n",
       "    <tr>\n",
       "      <td>mean</td>\n",
       "      <td>3.303993e+04</td>\n",
       "      <td>2.854412e+01</td>\n",
       "      <td>3.920700e+01</td>\n",
       "      <td>3.390814e+01</td>\n",
       "      <td>4.072110e+02</td>\n",
       "      <td>2.492552e+00</td>\n",
       "    </tr>\n",
       "    <tr>\n",
       "      <td>std</td>\n",
       "      <td>1.836852e+04</td>\n",
       "      <td>5.062408e+01</td>\n",
       "      <td>3.741923e+01</td>\n",
       "      <td>1.732152e+01</td>\n",
       "      <td>5.394276e+02</td>\n",
       "      <td>1.795743e-01</td>\n",
       "    </tr>\n",
       "    <tr>\n",
       "      <td>min</td>\n",
       "      <td>0.000000e+00</td>\n",
       "      <td>1.000000e+00</td>\n",
       "      <td>-3.840000e+01</td>\n",
       "      <td>-8.983130e+03</td>\n",
       "      <td>0.000000e+00</td>\n",
       "      <td>9.100830e-03</td>\n",
       "    </tr>\n",
       "    <tr>\n",
       "      <td>25%</td>\n",
       "      <td>1.757200e+04</td>\n",
       "      <td>1.700000e+01</td>\n",
       "      <td>2.040980e+01</td>\n",
       "      <td>3.187760e+01</td>\n",
       "      <td>3.956000e+01</td>\n",
       "      <td>2.385220e+00</td>\n",
       "    </tr>\n",
       "    <tr>\n",
       "      <td>50%</td>\n",
       "      <td>3.332700e+04</td>\n",
       "      <td>2.900000e+01</td>\n",
       "      <td>2.243840e+01</td>\n",
       "      <td>3.928030e+01</td>\n",
       "      <td>1.582400e+02</td>\n",
       "      <td>2.527320e+00</td>\n",
       "    </tr>\n",
       "    <tr>\n",
       "      <td>75%</td>\n",
       "      <td>4.778900e+04</td>\n",
       "      <td>4.100000e+01</td>\n",
       "      <td>2.702480e+01</td>\n",
       "      <td>4.358550e+01</td>\n",
       "      <td>5.372800e+02</td>\n",
       "      <td>2.627960e+00</td>\n",
       "    </tr>\n",
       "    <tr>\n",
       "      <td>max</td>\n",
       "      <td>6.553500e+04</td>\n",
       "      <td>6.540700e+04</td>\n",
       "      <td>3.855680e+02</td>\n",
       "      <td>1.375120e+02</td>\n",
       "      <td>1.847360e+03</td>\n",
       "      <td>1.856000e+01</td>\n",
       "    </tr>\n",
       "  </tbody>\n",
       "</table>\n",
       "</div>"
      ],
      "text/plain": [
       "              EPOCH       MOTE_ID   TEMPERATURE      HUMIDITY         LIGHT  \\\n",
       "count  2.313682e+06  2.313156e+06  2.312781e+06  2.312780e+06  2.219804e+06   \n",
       "mean   3.303993e+04  2.854412e+01  3.920700e+01  3.390814e+01  4.072110e+02   \n",
       "std    1.836852e+04  5.062408e+01  3.741923e+01  1.732152e+01  5.394276e+02   \n",
       "min    0.000000e+00  1.000000e+00 -3.840000e+01 -8.983130e+03  0.000000e+00   \n",
       "25%    1.757200e+04  1.700000e+01  2.040980e+01  3.187760e+01  3.956000e+01   \n",
       "50%    3.332700e+04  2.900000e+01  2.243840e+01  3.928030e+01  1.582400e+02   \n",
       "75%    4.778900e+04  4.100000e+01  2.702480e+01  4.358550e+01  5.372800e+02   \n",
       "max    6.553500e+04  6.540700e+04  3.855680e+02  1.375120e+02  1.847360e+03   \n",
       "\n",
       "            VOLTAGE  \n",
       "count  2.313156e+06  \n",
       "mean   2.492552e+00  \n",
       "std    1.795743e-01  \n",
       "min    9.100830e-03  \n",
       "25%    2.385220e+00  \n",
       "50%    2.527320e+00  \n",
       "75%    2.627960e+00  \n",
       "max    1.856000e+01  "
      ]
     },
     "execution_count": 44,
     "metadata": {},
     "output_type": "execute_result"
    }
   ],
   "source": [
    "data.describe()"
   ]
  },
  {
   "cell_type": "markdown",
   "metadata": {},
   "source": [
    "We will use sensor data between March 1st and March 15th"
   ]
  },
  {
   "cell_type": "code",
   "execution_count": 45,
   "metadata": {},
   "outputs": [],
   "source": [
    "data = data.loc['2004-03-01':'2004-03-31']"
   ]
  },
  {
   "cell_type": "code",
   "execution_count": 46,
   "metadata": {},
   "outputs": [
    {
     "data": {
      "text/plain": [
       "EPOCH            int64\n",
       "MOTE_ID        float64\n",
       "TEMPERATURE    float64\n",
       "HUMIDITY       float64\n",
       "LIGHT          float64\n",
       "VOLTAGE        float64\n",
       "dtype: object"
      ]
     },
     "execution_count": 46,
     "metadata": {},
     "output_type": "execute_result"
    }
   ],
   "source": [
    "data.dtypes"
   ]
  },
  {
   "cell_type": "code",
   "execution_count": 47,
   "metadata": {},
   "outputs": [
    {
     "data": {
      "image/png": "[encoded data removed]",
      "text/plain": [
       "<Figure size 720x504 with 1 Axes>"
      ]
     },
     "metadata": {
      "needs_background": "light"
     },
     "output_type": "display_data"
    }
   ],
   "source": [
    "mote_loc_data = pd.read_csv('mote_loc.txt', header=None, sep=' ')\n",
    "mote_loc_data.columns = ['MOTE_ID', 'X', 'Y']\n",
    "\n",
    "plt.figure(figsize=(10,7))\n",
    "plt.scatter(mote_loc_data.X, mote_loc_data.Y, c='blue')\n",
    "mote_label = [i for i in range(1,len(mote_loc_data)+1)]\n",
    "for label, x, y in zip(mote_label, mote_loc_data.X, mote_loc_data.Y):\n",
    "    plt.annotate(\n",
    "        label, xy=(x,y),\n",
    "        xytext=(5, -5),\n",
    "        textcoords='offset points'\n",
    "    )"
   ]
  },
  {
   "cell_type": "markdown",
   "metadata": {},
   "source": [
    "### Data Cleanup"
   ]
  },
  {
   "cell_type": "code",
   "execution_count": 48,
   "metadata": {},
   "outputs": [
    {
     "data": {
      "text/plain": [
       "EPOCH              0\n",
       "MOTE_ID          275\n",
       "TEMPERATURE      353\n",
       "HUMIDITY         354\n",
       "LIGHT          86658\n",
       "VOLTAGE          275\n",
       "dtype: int64"
      ]
     },
     "execution_count": 48,
     "metadata": {},
     "output_type": "execute_result"
    }
   ],
   "source": [
    "data.isna().sum()"
   ]
  },
  {
   "cell_type": "code",
   "execution_count": 49,
   "metadata": {},
   "outputs": [
    {
     "data": {
      "text/html": [
       "<div>\n",
       "<style scoped>\n",
       "    .dataframe tbody tr th:only-of-type {\n",
       "        vertical-align: middle;\n",
       "    }\n",
       "\n",
       "    .dataframe tbody tr th {\n",
       "        vertical-align: top;\n",
       "    }\n",
       "\n",
       "    .dataframe thead th {\n",
       "        text-align: right;\n",
       "    }\n",
       "</style>\n",
       "<table border=\"1\" class=\"dataframe\">\n",
       "  <thead>\n",
       "    <tr style=\"text-align: right;\">\n",
       "      <th></th>\n",
       "      <th>EPOCH</th>\n",
       "      <th>MOTE_ID</th>\n",
       "      <th>TEMPERATURE</th>\n",
       "      <th>HUMIDITY</th>\n",
       "      <th>LIGHT</th>\n",
       "      <th>VOLTAGE</th>\n",
       "    </tr>\n",
       "  </thead>\n",
       "  <tbody>\n",
       "    <tr>\n",
       "      <td>EPOCH</td>\n",
       "      <td>1.000000</td>\n",
       "      <td>0.005392</td>\n",
       "      <td>0.279826</td>\n",
       "      <td>-0.160902</td>\n",
       "      <td>0.041259</td>\n",
       "      <td>-0.631027</td>\n",
       "    </tr>\n",
       "    <tr>\n",
       "      <td>MOTE_ID</td>\n",
       "      <td>0.005392</td>\n",
       "      <td>1.000000</td>\n",
       "      <td>-0.014565</td>\n",
       "      <td>0.090979</td>\n",
       "      <td>0.109979</td>\n",
       "      <td>-0.000465</td>\n",
       "    </tr>\n",
       "    <tr>\n",
       "      <td>TEMPERATURE</td>\n",
       "      <td>0.279826</td>\n",
       "      <td>-0.014565</td>\n",
       "      <td>1.000000</td>\n",
       "      <td>-0.688070</td>\n",
       "      <td>0.010626</td>\n",
       "      <td>-0.744604</td>\n",
       "    </tr>\n",
       "    <tr>\n",
       "      <td>HUMIDITY</td>\n",
       "      <td>-0.160902</td>\n",
       "      <td>0.090979</td>\n",
       "      <td>-0.688070</td>\n",
       "      <td>1.000000</td>\n",
       "      <td>-0.080524</td>\n",
       "      <td>0.480602</td>\n",
       "    </tr>\n",
       "    <tr>\n",
       "      <td>LIGHT</td>\n",
       "      <td>0.041259</td>\n",
       "      <td>0.109979</td>\n",
       "      <td>0.010626</td>\n",
       "      <td>-0.080524</td>\n",
       "      <td>1.000000</td>\n",
       "      <td>0.078339</td>\n",
       "    </tr>\n",
       "    <tr>\n",
       "      <td>VOLTAGE</td>\n",
       "      <td>-0.631027</td>\n",
       "      <td>-0.000465</td>\n",
       "      <td>-0.744604</td>\n",
       "      <td>0.480602</td>\n",
       "      <td>0.078339</td>\n",
       "      <td>1.000000</td>\n",
       "    </tr>\n",
       "  </tbody>\n",
       "</table>\n",
       "</div>"
      ],
      "text/plain": [
       "                EPOCH   MOTE_ID  TEMPERATURE  HUMIDITY     LIGHT   VOLTAGE\n",
       "EPOCH        1.000000  0.005392     0.279826 -0.160902  0.041259 -0.631027\n",
       "MOTE_ID      0.005392  1.000000    -0.014565  0.090979  0.109979 -0.000465\n",
       "TEMPERATURE  0.279826 -0.014565     1.000000 -0.688070  0.010626 -0.744604\n",
       "HUMIDITY    -0.160902  0.090979    -0.688070  1.000000 -0.080524  0.480602\n",
       "LIGHT        0.041259  0.109979     0.010626 -0.080524  1.000000  0.078339\n",
       "VOLTAGE     -0.631027 -0.000465    -0.744604  0.480602  0.078339  1.000000"
      ]
     },
     "execution_count": 49,
     "metadata": {},
     "output_type": "execute_result"
    }
   ],
   "source": [
    "data.corr()"
   ]
  },
  {
   "cell_type": "markdown",
   "metadata": {},
   "source": [
    "First, consider the MOTE_ID. If the mote_id is null, then clearly their is either a misreading or the dataset has errors. We can sefely drop these datapoints since they have no observation data, nor do they give information on what sensor is doing the reading. Likewise, we can eliminate all data from sensors labeled > 54, as there are only 54 sensors in our array."
   ]
  },
  {
   "cell_type": "code",
   "execution_count": 50,
   "metadata": {},
   "outputs": [],
   "source": [
    "data.dropna(subset=['MOTE_ID'], inplace=True)\n",
    "data = data[data.MOTE_ID <= len(mote_loc_data)].copy()"
   ]
  },
  {
   "cell_type": "markdown",
   "metadata": {},
   "source": [
    "We can also make MOTE_ID an integer, since it is a unique identifier for a sensor."
   ]
  },
  {
   "cell_type": "code",
   "execution_count": 51,
   "metadata": {},
   "outputs": [
    {
     "data": {
      "text/plain": [
       "EPOCH            int64\n",
       "MOTE_ID          int64\n",
       "TEMPERATURE    float64\n",
       "HUMIDITY       float64\n",
       "LIGHT          float64\n",
       "VOLTAGE        float64\n",
       "dtype: object"
      ]
     },
     "execution_count": 51,
     "metadata": {},
     "output_type": "execute_result"
    }
   ],
   "source": [
    "data.MOTE_ID = data.MOTE_ID.astype(int)\n",
    "data.dtypes"
   ]
  },
  {
   "cell_type": "markdown",
   "metadata": {},
   "source": [
    "We can remove values where temperature readings are unreasonable."
   ]
  },
  {
   "cell_type": "code",
   "execution_count": 52,
   "metadata": {},
   "outputs": [],
   "source": [
    "data = data[(data.TEMPERATURE >= -5) & (data.TEMPERATURE <= 50)].copy()"
   ]
  },
  {
   "cell_type": "markdown",
   "metadata": {},
   "source": [
    "Next, we use linear interpolation to fill in blank values."
   ]
  },
  {
   "cell_type": "code",
   "execution_count": 53,
   "metadata": {},
   "outputs": [
    {
     "data": {
      "text/plain": [
       "EPOCH          0\n",
       "MOTE_ID        0\n",
       "TEMPERATURE    0\n",
       "HUMIDITY       0\n",
       "LIGHT          0\n",
       "VOLTAGE        0\n",
       "dtype: int64"
      ]
     },
     "execution_count": 53,
     "metadata": {},
     "output_type": "execute_result"
    }
   ],
   "source": [
    "data.LIGHT = data.LIGHT.interpolate()\n",
    "data.TEMPERATURE = data.TEMPERATURE.interpolate()\n",
    "data.HUMIDITY = data.HUMIDITY.interpolate()\n",
    "data.VOLTAGE = data.VOLTAGE.interpolate()\n",
    "data.isna().sum()"
   ]
  },
  {
   "cell_type": "markdown",
   "metadata": {},
   "source": [
    "Our data is now merged and we have a clean set to work with."
   ]
  },
  {
   "cell_type": "code",
   "execution_count": 54,
   "metadata": {},
   "outputs": [
    {
     "data": {
      "text/html": [
       "<div>\n",
       "<style scoped>\n",
       "    .dataframe tbody tr th:only-of-type {\n",
       "        vertical-align: middle;\n",
       "    }\n",
       "\n",
       "    .dataframe tbody tr th {\n",
       "        vertical-align: top;\n",
       "    }\n",
       "\n",
       "    .dataframe thead th {\n",
       "        text-align: right;\n",
       "    }\n",
       "</style>\n",
       "<table border=\"1\" class=\"dataframe\">\n",
       "  <thead>\n",
       "    <tr style=\"text-align: right;\">\n",
       "      <th></th>\n",
       "      <th>EPOCH</th>\n",
       "      <th>MOTE_ID</th>\n",
       "      <th>TEMPERATURE</th>\n",
       "      <th>HUMIDITY</th>\n",
       "      <th>LIGHT</th>\n",
       "      <th>VOLTAGE</th>\n",
       "    </tr>\n",
       "  </thead>\n",
       "  <tbody>\n",
       "    <tr>\n",
       "      <td>count</td>\n",
       "      <td>1.714223e+06</td>\n",
       "      <td>1.714223e+06</td>\n",
       "      <td>1.714223e+06</td>\n",
       "      <td>1.714223e+06</td>\n",
       "      <td>1.714223e+06</td>\n",
       "      <td>1.714223e+06</td>\n",
       "    </tr>\n",
       "    <tr>\n",
       "      <td>mean</td>\n",
       "      <td>3.298180e+04</td>\n",
       "      <td>2.884696e+01</td>\n",
       "      <td>2.245408e+01</td>\n",
       "      <td>3.923228e+01</td>\n",
       "      <td>4.057393e+02</td>\n",
       "      <td>2.543088e+00</td>\n",
       "    </tr>\n",
       "    <tr>\n",
       "      <td>std</td>\n",
       "      <td>1.706122e+04</td>\n",
       "      <td>1.514509e+01</td>\n",
       "      <td>3.955246e+00</td>\n",
       "      <td>9.958647e+00</td>\n",
       "      <td>5.476523e+02</td>\n",
       "      <td>1.171380e-01</td>\n",
       "    </tr>\n",
       "    <tr>\n",
       "      <td>min</td>\n",
       "      <td>0.000000e+00</td>\n",
       "      <td>1.000000e+00</td>\n",
       "      <td>-4.227400e+00</td>\n",
       "      <td>-8.983130e+03</td>\n",
       "      <td>0.000000e+00</td>\n",
       "      <td>3.468550e-02</td>\n",
       "    </tr>\n",
       "    <tr>\n",
       "      <td>25%</td>\n",
       "      <td>1.872700e+04</td>\n",
       "      <td>1.700000e+01</td>\n",
       "      <td>2.030200e+01</td>\n",
       "      <td>3.509150e+01</td>\n",
       "      <td>3.374889e+01</td>\n",
       "      <td>2.464400e+00</td>\n",
       "    </tr>\n",
       "    <tr>\n",
       "      <td>50%</td>\n",
       "      <td>3.085100e+04</td>\n",
       "      <td>2.900000e+01</td>\n",
       "      <td>2.194840e+01</td>\n",
       "      <td>4.043280e+01</td>\n",
       "      <td>1.508800e+02</td>\n",
       "      <td>2.560000e+00</td>\n",
       "    </tr>\n",
       "    <tr>\n",
       "      <td>75%</td>\n",
       "      <td>4.610100e+04</td>\n",
       "      <td>4.200000e+01</td>\n",
       "      <td>2.387900e+01</td>\n",
       "      <td>4.401760e+01</td>\n",
       "      <td>5.529438e+02</td>\n",
       "      <td>2.627960e+00</td>\n",
       "    </tr>\n",
       "    <tr>\n",
       "      <td>max</td>\n",
       "      <td>6.553500e+04</td>\n",
       "      <td>5.400000e+01</td>\n",
       "      <td>4.999600e+01</td>\n",
       "      <td>1.148940e+02</td>\n",
       "      <td>1.847360e+03</td>\n",
       "      <td>2.911370e+00</td>\n",
       "    </tr>\n",
       "  </tbody>\n",
       "</table>\n",
       "</div>"
      ],
      "text/plain": [
       "              EPOCH       MOTE_ID   TEMPERATURE      HUMIDITY         LIGHT  \\\n",
       "count  1.714223e+06  1.714223e+06  1.714223e+06  1.714223e+06  1.714223e+06   \n",
       "mean   3.298180e+04  2.884696e+01  2.245408e+01  3.923228e+01  4.057393e+02   \n",
       "std    1.706122e+04  1.514509e+01  3.955246e+00  9.958647e+00  5.476523e+02   \n",
       "min    0.000000e+00  1.000000e+00 -4.227400e+00 -8.983130e+03  0.000000e+00   \n",
       "25%    1.872700e+04  1.700000e+01  2.030200e+01  3.509150e+01  3.374889e+01   \n",
       "50%    3.085100e+04  2.900000e+01  2.194840e+01  4.043280e+01  1.508800e+02   \n",
       "75%    4.610100e+04  4.200000e+01  2.387900e+01  4.401760e+01  5.529438e+02   \n",
       "max    6.553500e+04  5.400000e+01  4.999600e+01  1.148940e+02  1.847360e+03   \n",
       "\n",
       "            VOLTAGE  \n",
       "count  1.714223e+06  \n",
       "mean   2.543088e+00  \n",
       "std    1.171380e-01  \n",
       "min    3.468550e-02  \n",
       "25%    2.464400e+00  \n",
       "50%    2.560000e+00  \n",
       "75%    2.627960e+00  \n",
       "max    2.911370e+00  "
      ]
     },
     "execution_count": 54,
     "metadata": {},
     "output_type": "execute_result"
    }
   ],
   "source": [
    "data.describe()"
   ]
  },
  {
   "cell_type": "markdown",
   "metadata": {},
   "source": [
    "Here is a visualization on our observable variables."
   ]
  },
  {
   "cell_type": "code",
   "execution_count": 55,
   "metadata": {},
   "outputs": [
    {
     "data": {
      "image/png": "[encoded data removed]",
      "text/plain": [
       "<Figure size 432x288 with 4 Axes>"
      ]
     },
     "metadata": {
      "needs_background": "light"
     },
     "output_type": "display_data"
    }
   ],
   "source": [
    "data[['TEMPERATURE', 'HUMIDITY', 'LIGHT', 'VOLTAGE']].hist(bins=10, color='blue', edgecolor='black', linewidth=1.0,\n",
    "           xlabelsize=8, ylabelsize=8, grid=False)    \n",
    "plt.tight_layout(rect=(0, 0, 1.2, 1.2))  "
   ]
  },
  {
   "cell_type": "markdown",
   "metadata": {},
   "source": [
    "Here are the Box and Whisker plots for the observable values, further illustrating outliers."
   ]
  },
  {
   "cell_type": "code",
   "execution_count": 56,
   "metadata": {},
   "outputs": [
    {
     "data": {
      "image/png": "[encoded data removed]",
      "text/plain": [
       "<Figure size 720x720 with 4 Axes>"
      ]
     },
     "metadata": {
      "needs_background": "light"
     },
     "output_type": "display_data"
    }
   ],
   "source": [
    "fig, axes = plt.subplots(nrows=2, ncols=2, figsize=(10,10))\n",
    "data.boxplot(column='TEMPERATURE', ax=axes[0,0])\n",
    "data.boxplot(column='HUMIDITY', ax=axes[0,1])\n",
    "data.boxplot(column='LIGHT', ax=axes[1,0])\n",
    "data.boxplot(column='VOLTAGE', ax=axes[1,1])\n",
    "plt.show()"
   ]
  },
  {
   "cell_type": "markdown",
   "metadata": {},
   "source": [
    "### Data Splitting"
   ]
  },
  {
   "cell_type": "code",
   "execution_count": null,
   "metadata": {},
   "outputs": [],
   "source": []
  }
 ],
 "metadata": {
  "kernelspec": {
   "display_name": "Python 3",
   "language": "python",
   "name": "python3"
  },
  "language_info": {
   "codemirror_mode": {
    "name": "ipython",
    "version": 3
   },
   "file_extension": ".py",
   "mimetype": "text/x-python",
   "name": "python",
   "nbconvert_exporter": "python",
   "pygments_lexer": "ipython3",
   "version": "3.7.3"
  }
 },
 "nbformat": 4,
 "nbformat_minor": 4
}
