{
 "cells": [
  {
   "cell_type": "markdown",
   "metadata": {},
   "source": [
    "## Compressing Data to the IoT Gateway using Autoencoders\n",
    "\n",
    "Dataset: http://db.csail.mit.edu/labdata/labdata.html\n",
    "\n",
    "The goal of this project is to reduce the amount of data sent to the gateway layer from edge devices. We use a dataset collected from Intel Labs, and attempt to reduce the size of the data into a form that is a representation of the original data. By reducing the amount of data sent from the sensor to the gateway, we can increase data throughput and decrease network latency."
   ]
  },
  {
   "cell_type": "markdown",
   "metadata": {},
   "source": [
    "### Data Loading"
   ]
  },
  {
   "cell_type": "code",
   "execution_count": 1,
   "metadata": {},
   "outputs": [],
   "source": [
    "import gzip\n",
    "import pandas as pd"
   ]
  },
  {
   "cell_type": "code",
   "execution_count": 2,
   "metadata": {},
   "outputs": [
    {
     "data": {
      "text/plain": [
       "(2313682, 6)"
      ]
     },
     "execution_count": 2,
     "metadata": {},
     "output_type": "execute_result"
    }
   ],
   "source": [
    "with gzip.open('data.txt.gz', 'rb') as data_bytes:\n",
    "    data = pd.read_csv(data_bytes, header=None, sep=' ', parse_dates=[[0, 1]], squeeze=True)\n",
    "data.columns = ['DATETIME','EPOCH','MOTE_ID','TEMPERATURE','HUMIDITY','LIGHT','VOLTAGE']\n",
    "data = data.set_index('DATETIME')\n",
    "data.shape"
   ]
  },
  {
   "cell_type": "markdown",
   "metadata": {},
   "source": [
    "### Data Pre-processing"
   ]
  },
  {
   "cell_type": "markdown",
   "metadata": {},
   "source": [
    "We will consider sensor data between March 1st and March 10th, resampled every 5 minutes. We will ignore the epoch column, as it does not provide any statistical relevance."
   ]
  },
  {
   "cell_type": "code",
   "execution_count": 3,
   "metadata": {},
   "outputs": [
    {
     "data": {
      "text/html": [
       "<div>\n",
       "<style scoped>\n",
       "    .dataframe tbody tr th:only-of-type {\n",
       "        vertical-align: middle;\n",
       "    }\n",
       "\n",
       "    .dataframe tbody tr th {\n",
       "        vertical-align: top;\n",
       "    }\n",
       "\n",
       "    .dataframe thead th {\n",
       "        text-align: right;\n",
       "    }\n",
       "</style>\n",
       "<table border=\"1\" class=\"dataframe\">\n",
       "  <thead>\n",
       "    <tr style=\"text-align: right;\">\n",
       "      <th></th>\n",
       "      <th>MOTE_ID</th>\n",
       "      <th>TEMPERATURE</th>\n",
       "      <th>HUMIDITY</th>\n",
       "      <th>LIGHT</th>\n",
       "      <th>VOLTAGE</th>\n",
       "    </tr>\n",
       "    <tr>\n",
       "      <th>DATETIME</th>\n",
       "      <th></th>\n",
       "      <th></th>\n",
       "      <th></th>\n",
       "      <th></th>\n",
       "      <th></th>\n",
       "    </tr>\n",
       "  </thead>\n",
       "  <tbody>\n",
       "    <tr>\n",
       "      <td>2004-03-01 00:01:57.130850</td>\n",
       "      <td>1.0</td>\n",
       "      <td>18.4498</td>\n",
       "      <td>43.1191</td>\n",
       "      <td>43.24</td>\n",
       "      <td>2.67532</td>\n",
       "    </tr>\n",
       "    <tr>\n",
       "      <td>2004-03-01 00:02:50.458234</td>\n",
       "      <td>1.0</td>\n",
       "      <td>18.4400</td>\n",
       "      <td>43.0858</td>\n",
       "      <td>43.24</td>\n",
       "      <td>2.66332</td>\n",
       "    </tr>\n",
       "    <tr>\n",
       "      <td>2004-03-01 00:04:26.606602</td>\n",
       "      <td>1.0</td>\n",
       "      <td>18.4400</td>\n",
       "      <td>43.1191</td>\n",
       "      <td>43.24</td>\n",
       "      <td>2.65143</td>\n",
       "    </tr>\n",
       "    <tr>\n",
       "      <td>2004-03-01 00:05:28.379208</td>\n",
       "      <td>1.0</td>\n",
       "      <td>18.4498</td>\n",
       "      <td>43.0524</td>\n",
       "      <td>43.24</td>\n",
       "      <td>2.65143</td>\n",
       "    </tr>\n",
       "    <tr>\n",
       "      <td>2004-03-01 00:05:50.456126</td>\n",
       "      <td>1.0</td>\n",
       "      <td>18.4302</td>\n",
       "      <td>43.1525</td>\n",
       "      <td>43.24</td>\n",
       "      <td>2.66332</td>\n",
       "    </tr>\n",
       "  </tbody>\n",
       "</table>\n",
       "</div>"
      ],
      "text/plain": [
       "                            MOTE_ID  TEMPERATURE  HUMIDITY  LIGHT  VOLTAGE\n",
       "DATETIME                                                                  \n",
       "2004-03-01 00:01:57.130850      1.0      18.4498   43.1191  43.24  2.67532\n",
       "2004-03-01 00:02:50.458234      1.0      18.4400   43.0858  43.24  2.66332\n",
       "2004-03-01 00:04:26.606602      1.0      18.4400   43.1191  43.24  2.65143\n",
       "2004-03-01 00:05:28.379208      1.0      18.4498   43.0524  43.24  2.65143\n",
       "2004-03-01 00:05:50.456126      1.0      18.4302   43.1525  43.24  2.66332"
      ]
     },
     "execution_count": 3,
     "metadata": {},
     "output_type": "execute_result"
    }
   ],
   "source": [
    "data_samp = data.drop('EPOCH', axis=1)\n",
    "data_samp = data_samp.loc['2004-03-01':'2004-03-10']\n",
    "data_samp.head()"
   ]
  },
  {
   "cell_type": "markdown",
   "metadata": {},
   "source": [
    "For the sake of out experiment, let us only consider sensors 1-10. We will drop sensors where Sensor_ID is NA, and make Sensor_ID an integer."
   ]
  },
  {
   "cell_type": "code",
   "execution_count": 4,
   "metadata": {},
   "outputs": [
    {
     "name": "stdout",
     "output_type": "stream",
     "text": [
      "Sensor_ID - Min: 1, Max: 10\n"
     ]
    },
    {
     "data": {
      "text/plain": [
       "(154618, 5)"
      ]
     },
     "execution_count": 4,
     "metadata": {},
     "output_type": "execute_result"
    }
   ],
   "source": [
    "data_samp.dropna(subset=['MOTE_ID'], inplace=True)\n",
    "data_samp.MOTE_ID = data_samp.MOTE_ID.astype(int)\n",
    "\n",
    "data_samp = data_samp[(data_samp.MOTE_ID >= 1) & (data_samp.MOTE_ID <= 10)].copy()\n",
    "print('Sensor_ID - Min: {}, Max: {}'.format(data_samp.MOTE_ID.min(), data_samp.MOTE_ID.max()))\n",
    "data_samp.shape"
   ]
  },
  {
   "cell_type": "markdown",
   "metadata": {},
   "source": [
    "Constructing a dataframe where Sensor_ID is the key. This will be more representative of inbound samples."
   ]
  },
  {
   "cell_type": "code",
   "execution_count": 5,
   "metadata": {},
   "outputs": [],
   "source": [
    "sensor_df = data_samp.set_index('MOTE_ID', append=True).unstack()"
   ]
  },
  {
   "cell_type": "markdown",
   "metadata": {},
   "source": [
    "Resampling the dataframe over 5 minutes, excluding the MOTE_ID index."
   ]
  },
  {
   "cell_type": "code",
   "execution_count": 6,
   "metadata": {},
   "outputs": [],
   "source": [
    "sensor_df = sensor_df.resample('5min').mean()"
   ]
  },
  {
   "cell_type": "markdown",
   "metadata": {},
   "source": [
    "Checking for empty data values..."
   ]
  },
  {
   "cell_type": "code",
   "execution_count": 7,
   "metadata": {},
   "outputs": [
    {
     "data": {
      "text/plain": [
       "             MOTE_ID\n",
       "TEMPERATURE  1             0\n",
       "             2            24\n",
       "             3             0\n",
       "             4             5\n",
       "             5          2702\n",
       "             6            16\n",
       "             7             0\n",
       "             8            20\n",
       "             9             1\n",
       "             10            2\n",
       "HUMIDITY     1             0\n",
       "             2            24\n",
       "             3             0\n",
       "             4             5\n",
       "             5          2702\n",
       "             6            16\n",
       "             7             0\n",
       "             8            20\n",
       "             9             1\n",
       "             10            2\n",
       "LIGHT        1             0\n",
       "             2            24\n",
       "             3             0\n",
       "             4             5\n",
       "             5          2702\n",
       "             6            16\n",
       "             7             0\n",
       "             8           174\n",
       "             9           201\n",
       "             10            2\n",
       "VOLTAGE      1             0\n",
       "             2            24\n",
       "             3             0\n",
       "             4             5\n",
       "             5          2685\n",
       "             6            16\n",
       "             7             0\n",
       "             8            20\n",
       "             9             1\n",
       "             10            2\n",
       "dtype: int64"
      ]
     },
     "execution_count": 7,
     "metadata": {},
     "output_type": "execute_result"
    }
   ],
   "source": [
    "sensor_df.isna().sum()"
   ]
  },
  {
   "cell_type": "markdown",
   "metadata": {},
   "source": [
    "Dropping Sensor_ID 5 since it appears to be missing every value."
   ]
  },
  {
   "cell_type": "code",
   "execution_count": 8,
   "metadata": {},
   "outputs": [],
   "source": [
    "sensor_df = sensor_df.T.drop(5, level='MOTE_ID')"
   ]
  },
  {
   "cell_type": "markdown",
   "metadata": {},
   "source": [
    "Looking at missing data values, we can apply linear interpolation to fill in the missing values to complete our data set."
   ]
  },
  {
   "cell_type": "code",
   "execution_count": 9,
   "metadata": {},
   "outputs": [],
   "source": [
    "sensor_df.T.TEMPERATURE = sensor_df.T.TEMPERATURE.interpolate()\n",
    "sensor_df.T.LIGHT = sensor_df.T.LIGHT.interpolate()\n",
    "sensor_df.T.HUMIDITY = sensor_df.T.HUMIDITY.interpolate()\n",
    "sensor_df.T.VOLTAGE = sensor_df.T.VOLTAGE.interpolate()"
   ]
  },
  {
   "cell_type": "markdown",
   "metadata": {},
   "source": [
    "Reassign our transposed matrix to the original matrix."
   ]
  },
  {
   "cell_type": "code",
   "execution_count": 10,
   "metadata": {},
   "outputs": [
    {
     "data": {
      "text/html": [
       "<div>\n",
       "<style scoped>\n",
       "    .dataframe tbody tr th:only-of-type {\n",
       "        vertical-align: middle;\n",
       "    }\n",
       "\n",
       "    .dataframe tbody tr th {\n",
       "        vertical-align: top;\n",
       "    }\n",
       "\n",
       "    .dataframe thead tr th {\n",
       "        text-align: left;\n",
       "    }\n",
       "</style>\n",
       "<table border=\"1\" class=\"dataframe\">\n",
       "  <thead>\n",
       "    <tr>\n",
       "      <th></th>\n",
       "      <th colspan=\"9\" halign=\"left\">TEMPERATURE</th>\n",
       "      <th>HUMIDITY</th>\n",
       "      <th>...</th>\n",
       "      <th>LIGHT</th>\n",
       "      <th colspan=\"9\" halign=\"left\">VOLTAGE</th>\n",
       "    </tr>\n",
       "    <tr>\n",
       "      <th>MOTE_ID</th>\n",
       "      <th>1</th>\n",
       "      <th>2</th>\n",
       "      <th>3</th>\n",
       "      <th>4</th>\n",
       "      <th>6</th>\n",
       "      <th>7</th>\n",
       "      <th>8</th>\n",
       "      <th>9</th>\n",
       "      <th>10</th>\n",
       "      <th>1</th>\n",
       "      <th>...</th>\n",
       "      <th>10</th>\n",
       "      <th>1</th>\n",
       "      <th>2</th>\n",
       "      <th>3</th>\n",
       "      <th>4</th>\n",
       "      <th>6</th>\n",
       "      <th>7</th>\n",
       "      <th>8</th>\n",
       "      <th>9</th>\n",
       "      <th>10</th>\n",
       "    </tr>\n",
       "  </thead>\n",
       "  <tbody>\n",
       "    <tr>\n",
       "      <td>count</td>\n",
       "      <td>2702.000000</td>\n",
       "      <td>2702.000000</td>\n",
       "      <td>2702.000000</td>\n",
       "      <td>2702.000000</td>\n",
       "      <td>2702.000000</td>\n",
       "      <td>2702.000000</td>\n",
       "      <td>2702.000000</td>\n",
       "      <td>2702.000000</td>\n",
       "      <td>2702.000000</td>\n",
       "      <td>2702.000000</td>\n",
       "      <td>...</td>\n",
       "      <td>2702.000000</td>\n",
       "      <td>2702.000000</td>\n",
       "      <td>2702.000000</td>\n",
       "      <td>2702.000000</td>\n",
       "      <td>2702.000000</td>\n",
       "      <td>2702.000000</td>\n",
       "      <td>2702.000000</td>\n",
       "      <td>2702.000000</td>\n",
       "      <td>2702.000000</td>\n",
       "      <td>2702.000000</td>\n",
       "    </tr>\n",
       "    <tr>\n",
       "      <td>mean</td>\n",
       "      <td>22.191947</td>\n",
       "      <td>22.126232</td>\n",
       "      <td>22.241036</td>\n",
       "      <td>22.250472</td>\n",
       "      <td>21.786246</td>\n",
       "      <td>21.844609</td>\n",
       "      <td>21.623283</td>\n",
       "      <td>21.802205</td>\n",
       "      <td>21.549315</td>\n",
       "      <td>36.879670</td>\n",
       "      <td>...</td>\n",
       "      <td>222.379571</td>\n",
       "      <td>2.647379</td>\n",
       "      <td>2.621846</td>\n",
       "      <td>2.646400</td>\n",
       "      <td>2.612014</td>\n",
       "      <td>2.594415</td>\n",
       "      <td>2.636490</td>\n",
       "      <td>2.639891</td>\n",
       "      <td>2.703093</td>\n",
       "      <td>2.624886</td>\n",
       "    </tr>\n",
       "    <tr>\n",
       "      <td>std</td>\n",
       "      <td>2.394438</td>\n",
       "      <td>1.944199</td>\n",
       "      <td>2.197299</td>\n",
       "      <td>2.048391</td>\n",
       "      <td>1.874742</td>\n",
       "      <td>1.954887</td>\n",
       "      <td>2.172489</td>\n",
       "      <td>2.258432</td>\n",
       "      <td>1.976303</td>\n",
       "      <td>5.150745</td>\n",
       "      <td>...</td>\n",
       "      <td>229.620618</td>\n",
       "      <td>0.037045</td>\n",
       "      <td>0.032103</td>\n",
       "      <td>0.036021</td>\n",
       "      <td>0.040019</td>\n",
       "      <td>0.028881</td>\n",
       "      <td>0.034912</td>\n",
       "      <td>0.038534</td>\n",
       "      <td>0.038082</td>\n",
       "      <td>0.034211</td>\n",
       "    </tr>\n",
       "    <tr>\n",
       "      <td>min</td>\n",
       "      <td>17.203975</td>\n",
       "      <td>17.675600</td>\n",
       "      <td>17.605040</td>\n",
       "      <td>18.043644</td>\n",
       "      <td>17.616800</td>\n",
       "      <td>17.801775</td>\n",
       "      <td>15.708250</td>\n",
       "      <td>17.522067</td>\n",
       "      <td>17.561267</td>\n",
       "      <td>22.550817</td>\n",
       "      <td>...</td>\n",
       "      <td>0.920000</td>\n",
       "      <td>2.579066</td>\n",
       "      <td>2.558626</td>\n",
       "      <td>2.579066</td>\n",
       "      <td>2.519670</td>\n",
       "      <td>2.538120</td>\n",
       "      <td>2.571080</td>\n",
       "      <td>1.970964</td>\n",
       "      <td>2.633800</td>\n",
       "      <td>2.560000</td>\n",
       "    </tr>\n",
       "    <tr>\n",
       "      <td>25%</td>\n",
       "      <td>20.586813</td>\n",
       "      <td>20.893308</td>\n",
       "      <td>20.771338</td>\n",
       "      <td>20.992287</td>\n",
       "      <td>20.543675</td>\n",
       "      <td>20.577994</td>\n",
       "      <td>20.089667</td>\n",
       "      <td>20.140300</td>\n",
       "      <td>20.170843</td>\n",
       "      <td>32.837400</td>\n",
       "      <td>...</td>\n",
       "      <td>53.360000</td>\n",
       "      <td>2.616390</td>\n",
       "      <td>2.593540</td>\n",
       "      <td>2.616390</td>\n",
       "      <td>2.582260</td>\n",
       "      <td>2.571080</td>\n",
       "      <td>2.606345</td>\n",
       "      <td>2.609215</td>\n",
       "      <td>2.675320</td>\n",
       "      <td>2.596383</td>\n",
       "    </tr>\n",
       "    <tr>\n",
       "      <td>50%</td>\n",
       "      <td>22.032400</td>\n",
       "      <td>22.251500</td>\n",
       "      <td>22.213408</td>\n",
       "      <td>22.051562</td>\n",
       "      <td>21.824267</td>\n",
       "      <td>21.744914</td>\n",
       "      <td>21.717011</td>\n",
       "      <td>21.813825</td>\n",
       "      <td>21.618467</td>\n",
       "      <td>37.702394</td>\n",
       "      <td>...</td>\n",
       "      <td>75.440000</td>\n",
       "      <td>2.647009</td>\n",
       "      <td>2.622588</td>\n",
       "      <td>2.645535</td>\n",
       "      <td>2.604910</td>\n",
       "      <td>2.593540</td>\n",
       "      <td>2.635260</td>\n",
       "      <td>2.639640</td>\n",
       "      <td>2.699640</td>\n",
       "      <td>2.624103</td>\n",
       "    </tr>\n",
       "    <tr>\n",
       "      <td>75%</td>\n",
       "      <td>23.877775</td>\n",
       "      <td>23.353475</td>\n",
       "      <td>23.705108</td>\n",
       "      <td>23.427850</td>\n",
       "      <td>23.168990</td>\n",
       "      <td>23.178028</td>\n",
       "      <td>22.910900</td>\n",
       "      <td>23.154719</td>\n",
       "      <td>22.813250</td>\n",
       "      <td>40.781445</td>\n",
       "      <td>...</td>\n",
       "      <td>426.880000</td>\n",
       "      <td>2.675320</td>\n",
       "      <td>2.649072</td>\n",
       "      <td>2.673820</td>\n",
       "      <td>2.641539</td>\n",
       "      <td>2.616390</td>\n",
       "      <td>2.652916</td>\n",
       "      <td>2.659375</td>\n",
       "      <td>2.724400</td>\n",
       "      <td>2.649676</td>\n",
       "    </tr>\n",
       "    <tr>\n",
       "      <td>max</td>\n",
       "      <td>28.641800</td>\n",
       "      <td>27.387400</td>\n",
       "      <td>28.200800</td>\n",
       "      <td>27.630440</td>\n",
       "      <td>26.507578</td>\n",
       "      <td>26.422100</td>\n",
       "      <td>26.382356</td>\n",
       "      <td>27.142400</td>\n",
       "      <td>25.819400</td>\n",
       "      <td>47.562725</td>\n",
       "      <td>...</td>\n",
       "      <td>835.360000</td>\n",
       "      <td>2.742390</td>\n",
       "      <td>2.699657</td>\n",
       "      <td>2.736960</td>\n",
       "      <td>2.724400</td>\n",
       "      <td>2.675320</td>\n",
       "      <td>2.735390</td>\n",
       "      <td>2.741183</td>\n",
       "      <td>2.809478</td>\n",
       "      <td>2.713530</td>\n",
       "    </tr>\n",
       "  </tbody>\n",
       "</table>\n",
       "<p>8 rows × 36 columns</p>\n",
       "</div>"
      ],
      "text/plain": [
       "         TEMPERATURE                                                      \\\n",
       "MOTE_ID           1            2            3            4            6    \n",
       "count    2702.000000  2702.000000  2702.000000  2702.000000  2702.000000   \n",
       "mean       22.191947    22.126232    22.241036    22.250472    21.786246   \n",
       "std         2.394438     1.944199     2.197299     2.048391     1.874742   \n",
       "min        17.203975    17.675600    17.605040    18.043644    17.616800   \n",
       "25%        20.586813    20.893308    20.771338    20.992287    20.543675   \n",
       "50%        22.032400    22.251500    22.213408    22.051562    21.824267   \n",
       "75%        23.877775    23.353475    23.705108    23.427850    23.168990   \n",
       "max        28.641800    27.387400    28.200800    27.630440    26.507578   \n",
       "\n",
       "                                                                HUMIDITY  ...  \\\n",
       "MOTE_ID           7            8            9            10           1   ...   \n",
       "count    2702.000000  2702.000000  2702.000000  2702.000000  2702.000000  ...   \n",
       "mean       21.844609    21.623283    21.802205    21.549315    36.879670  ...   \n",
       "std         1.954887     2.172489     2.258432     1.976303     5.150745  ...   \n",
       "min        17.801775    15.708250    17.522067    17.561267    22.550817  ...   \n",
       "25%        20.577994    20.089667    20.140300    20.170843    32.837400  ...   \n",
       "50%        21.744914    21.717011    21.813825    21.618467    37.702394  ...   \n",
       "75%        23.178028    22.910900    23.154719    22.813250    40.781445  ...   \n",
       "max        26.422100    26.382356    27.142400    25.819400    47.562725  ...   \n",
       "\n",
       "               LIGHT      VOLTAGE                                         \\\n",
       "MOTE_ID           10           1            2            3            4    \n",
       "count    2702.000000  2702.000000  2702.000000  2702.000000  2702.000000   \n",
       "mean      222.379571     2.647379     2.621846     2.646400     2.612014   \n",
       "std       229.620618     0.037045     0.032103     0.036021     0.040019   \n",
       "min         0.920000     2.579066     2.558626     2.579066     2.519670   \n",
       "25%        53.360000     2.616390     2.593540     2.616390     2.582260   \n",
       "50%        75.440000     2.647009     2.622588     2.645535     2.604910   \n",
       "75%       426.880000     2.675320     2.649072     2.673820     2.641539   \n",
       "max       835.360000     2.742390     2.699657     2.736960     2.724400   \n",
       "\n",
       "                                                                          \n",
       "MOTE_ID           6            7            8            9            10  \n",
       "count    2702.000000  2702.000000  2702.000000  2702.000000  2702.000000  \n",
       "mean        2.594415     2.636490     2.639891     2.703093     2.624886  \n",
       "std         0.028881     0.034912     0.038534     0.038082     0.034211  \n",
       "min         2.538120     2.571080     1.970964     2.633800     2.560000  \n",
       "25%         2.571080     2.606345     2.609215     2.675320     2.596383  \n",
       "50%         2.593540     2.635260     2.639640     2.699640     2.624103  \n",
       "75%         2.616390     2.652916     2.659375     2.724400     2.649676  \n",
       "max         2.675320     2.735390     2.741183     2.809478     2.713530  \n",
       "\n",
       "[8 rows x 36 columns]"
      ]
     },
     "execution_count": 10,
     "metadata": {},
     "output_type": "execute_result"
    }
   ],
   "source": [
    "sensor_df = sensor_df.T\n",
    "sensor_df.describe()"
   ]
  },
  {
   "cell_type": "code",
   "execution_count": 11,
   "metadata": {
    "scrolled": true
   },
   "outputs": [],
   "source": [
    "#from keras.layers import Input, Dense\n",
    "#from keras.models import Model"
   ]
  },
  {
   "cell_type": "code",
   "execution_count": 12,
   "metadata": {},
   "outputs": [],
   "source": [
    "#input_layer = Input(shape=(4,))\n",
    "# \"encoded\" is the encoded representation of the input\n",
    "#encoded = Dense(1, activation='relu')(input_layer)\n",
    "# \"decoded\" is the lossy reconstruction of the input\n",
    "#decoded = Dense(4, activation='sigmoid')(encoded)\n",
    "\n",
    "# this model maps an input to its reconstruction\n",
    "#autoencoder = Model(input_layer, decoded)"
   ]
  },
  {
   "cell_type": "code",
   "execution_count": 13,
   "metadata": {},
   "outputs": [],
   "source": [
    "# autoencoder.summary()"
   ]
  },
  {
   "cell_type": "code",
   "execution_count": null,
   "metadata": {},
   "outputs": [],
   "source": []
  }
 ],
 "metadata": {
  "kernelspec": {
   "display_name": "Python 3",
   "language": "python",
   "name": "python3"
  },
  "language_info": {
   "codemirror_mode": {
    "name": "ipython",
    "version": 3
   },
   "file_extension": ".py",
   "mimetype": "text/x-python",
   "name": "python",
   "nbconvert_exporter": "python",
   "pygments_lexer": "ipython3",
   "version": "3.7.4"
  }
 },
 "nbformat": 4,
 "nbformat_minor": 4
}
