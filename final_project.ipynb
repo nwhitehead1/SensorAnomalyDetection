{
 "cells": [
  {
   "cell_type": "markdown",
   "metadata": {},
   "source": [
    "## Compressing Data to the IoT Gateway using Autoencoders\n",
    "\n",
    "Dataset: http://db.csail.mit.edu/labdata/labdata.html\n",
    "\n",
    "The goal of this project is to reduce the amount of data sent to the gateway layer from edge devices. We use a dataset collected from Intel Labs, and attempt to reduce the size of the data into a form that is a representation of the original data. By reducing the amount of data sent from the sensor to the gateway, we can increase data throughput and decrease network latency."
   ]
  },
  {
   "cell_type": "markdown",
   "metadata": {},
   "source": [
    "### Data Loading"
   ]
  },
  {
   "cell_type": "code",
   "execution_count": 1,
   "metadata": {},
   "outputs": [],
   "source": [
    "import gzip\n",
    "import pandas as pd\n",
    "import matplotlib.pyplot as plt"
   ]
  },
  {
   "cell_type": "code",
   "execution_count": 2,
   "metadata": {},
   "outputs": [
    {
     "data": {
      "text/plain": [
       "(2313682, 6)"
      ]
     },
     "execution_count": 2,
     "metadata": {},
     "output_type": "execute_result"
    }
   ],
   "source": [
    "with gzip.open('data.txt.gz', 'rb') as data_bytes:\n",
    "    data = pd.read_csv(data_bytes, header=None, sep=' ', parse_dates=[[0, 1]], squeeze=True)\n",
    "data.columns = ['DATETIME','EPOCH','MOTE_ID','TEMPERATURE','HUMIDITY','LIGHT','VOLTAGE']\n",
    "data = data.set_index('DATETIME')\n",
    "data.shape"
   ]
  },
  {
   "cell_type": "markdown",
   "metadata": {},
   "source": [
    "### Data Pre-processing"
   ]
  },
  {
   "cell_type": "markdown",
   "metadata": {},
   "source": [
    "We will consider sensor data between March 1st and March 10th, resampled every 5 minutes. We will ignore the epoch column, as it does not provide any statistical relevance."
   ]
  },
  {
   "cell_type": "code",
   "execution_count": 3,
   "metadata": {},
   "outputs": [
    {
     "data": {
      "text/html": [
       "<div>\n",
       "<style scoped>\n",
       "    .dataframe tbody tr th:only-of-type {\n",
       "        vertical-align: middle;\n",
       "    }\n",
       "\n",
       "    .dataframe tbody tr th {\n",
       "        vertical-align: top;\n",
       "    }\n",
       "\n",
       "    .dataframe thead th {\n",
       "        text-align: right;\n",
       "    }\n",
       "</style>\n",
       "<table border=\"1\" class=\"dataframe\">\n",
       "  <thead>\n",
       "    <tr style=\"text-align: right;\">\n",
       "      <th></th>\n",
       "      <th>MOTE_ID</th>\n",
       "      <th>TEMPERATURE</th>\n",
       "      <th>HUMIDITY</th>\n",
       "      <th>LIGHT</th>\n",
       "      <th>VOLTAGE</th>\n",
       "    </tr>\n",
       "    <tr>\n",
       "      <th>DATETIME</th>\n",
       "      <th></th>\n",
       "      <th></th>\n",
       "      <th></th>\n",
       "      <th></th>\n",
       "      <th></th>\n",
       "    </tr>\n",
       "  </thead>\n",
       "  <tbody>\n",
       "    <tr>\n",
       "      <td>2004-03-01 00:01:57.130850</td>\n",
       "      <td>1.0</td>\n",
       "      <td>18.4498</td>\n",
       "      <td>43.1191</td>\n",
       "      <td>43.24</td>\n",
       "      <td>2.67532</td>\n",
       "    </tr>\n",
       "    <tr>\n",
       "      <td>2004-03-01 00:02:50.458234</td>\n",
       "      <td>1.0</td>\n",
       "      <td>18.4400</td>\n",
       "      <td>43.0858</td>\n",
       "      <td>43.24</td>\n",
       "      <td>2.66332</td>\n",
       "    </tr>\n",
       "    <tr>\n",
       "      <td>2004-03-01 00:04:26.606602</td>\n",
       "      <td>1.0</td>\n",
       "      <td>18.4400</td>\n",
       "      <td>43.1191</td>\n",
       "      <td>43.24</td>\n",
       "      <td>2.65143</td>\n",
       "    </tr>\n",
       "    <tr>\n",
       "      <td>2004-03-01 00:05:28.379208</td>\n",
       "      <td>1.0</td>\n",
       "      <td>18.4498</td>\n",
       "      <td>43.0524</td>\n",
       "      <td>43.24</td>\n",
       "      <td>2.65143</td>\n",
       "    </tr>\n",
       "    <tr>\n",
       "      <td>2004-03-01 00:05:50.456126</td>\n",
       "      <td>1.0</td>\n",
       "      <td>18.4302</td>\n",
       "      <td>43.1525</td>\n",
       "      <td>43.24</td>\n",
       "      <td>2.66332</td>\n",
       "    </tr>\n",
       "  </tbody>\n",
       "</table>\n",
       "</div>"
      ],
      "text/plain": [
       "                            MOTE_ID  TEMPERATURE  HUMIDITY  LIGHT  VOLTAGE\n",
       "DATETIME                                                                  \n",
       "2004-03-01 00:01:57.130850      1.0      18.4498   43.1191  43.24  2.67532\n",
       "2004-03-01 00:02:50.458234      1.0      18.4400   43.0858  43.24  2.66332\n",
       "2004-03-01 00:04:26.606602      1.0      18.4400   43.1191  43.24  2.65143\n",
       "2004-03-01 00:05:28.379208      1.0      18.4498   43.0524  43.24  2.65143\n",
       "2004-03-01 00:05:50.456126      1.0      18.4302   43.1525  43.24  2.66332"
      ]
     },
     "execution_count": 3,
     "metadata": {},
     "output_type": "execute_result"
    }
   ],
   "source": [
    "data_samp = data.drop('EPOCH', axis=1)\n",
    "data_samp = data_samp.loc['2004-03-01':'2004-03-10']\n",
    "data_samp.head()"
   ]
  },
  {
   "cell_type": "markdown",
   "metadata": {},
   "source": [
    "For the sake of out experiment, let us only consider sensors 1-10. We will drop sensors where Sensor_ID is NA, and make Sensor_ID an integer."
   ]
  },
  {
   "cell_type": "code",
   "execution_count": 4,
   "metadata": {},
   "outputs": [
    {
     "name": "stdout",
     "output_type": "stream",
     "text": [
      "Sensor_ID - Min: 1, Max: 10\n"
     ]
    },
    {
     "data": {
      "text/plain": [
       "(154618, 5)"
      ]
     },
     "execution_count": 4,
     "metadata": {},
     "output_type": "execute_result"
    }
   ],
   "source": [
    "data_samp.dropna(subset=['MOTE_ID'], inplace=True)\n",
    "data_samp.MOTE_ID = data_samp.MOTE_ID.astype(int)\n",
    "\n",
    "data_samp = data_samp[(data_samp.MOTE_ID >= 1) & (data_samp.MOTE_ID <= 10)].copy()\n",
    "print('Sensor_ID - Min: {}, Max: {}'.format(data_samp.MOTE_ID.min(), data_samp.MOTE_ID.max()))\n",
    "data_samp.shape"
   ]
  },
  {
   "cell_type": "markdown",
   "metadata": {},
   "source": [
    "Constructing a dataframe where Sensor_ID is the key. This will be more representative of inbound samples."
   ]
  },
  {
   "cell_type": "code",
   "execution_count": 5,
   "metadata": {},
   "outputs": [],
   "source": [
    "sensor_df = data_samp.set_index('MOTE_ID', append=True).unstack()"
   ]
  },
  {
   "cell_type": "markdown",
   "metadata": {},
   "source": [
    "Resampling the dataframe every minute, excluding the MOTE_ID index."
   ]
  },
  {
   "cell_type": "code",
   "execution_count": 6,
   "metadata": {},
   "outputs": [],
   "source": [
    "sensor_df = sensor_df.resample('1min').mean()"
   ]
  },
  {
   "cell_type": "markdown",
   "metadata": {},
   "source": [
    "Checking for empty data values..."
   ]
  },
  {
   "cell_type": "code",
   "execution_count": 7,
   "metadata": {},
   "outputs": [
    {
     "data": {
      "text/plain": [
       "             MOTE_ID\n",
       "TEMPERATURE  1           1673\n",
       "             2           3693\n",
       "             3           1652\n",
       "             4           2693\n",
       "             5          13507\n",
       "             6           3611\n",
       "             7            550\n",
       "             8           4066\n",
       "             9           1179\n",
       "             10          1804\n",
       "HUMIDITY     1           1673\n",
       "             2           3693\n",
       "             3           1652\n",
       "             4           2693\n",
       "             5          13507\n",
       "             6           3611\n",
       "             7            550\n",
       "             8           4066\n",
       "             9           1179\n",
       "             10          1804\n",
       "LIGHT        1           1673\n",
       "             2           3693\n",
       "             3           1652\n",
       "             4           2693\n",
       "             5          13507\n",
       "             6           3611\n",
       "             7            550\n",
       "             8           4740\n",
       "             9           2131\n",
       "             10          1804\n",
       "VOLTAGE      1           1673\n",
       "             2           3693\n",
       "             3           1652\n",
       "             4           2693\n",
       "             5          13490\n",
       "             6           3611\n",
       "             7            550\n",
       "             8           4066\n",
       "             9           1179\n",
       "             10          1804\n",
       "dtype: int64"
      ]
     },
     "execution_count": 7,
     "metadata": {},
     "output_type": "execute_result"
    }
   ],
   "source": [
    "sensor_df.isna().sum()"
   ]
  },
  {
   "cell_type": "markdown",
   "metadata": {},
   "source": [
    "Dropping Sensor_ID 5 since it appears to be missing every value."
   ]
  },
  {
   "cell_type": "code",
   "execution_count": 8,
   "metadata": {},
   "outputs": [],
   "source": [
    "sensor_df = sensor_df.T.drop(5, level='MOTE_ID')"
   ]
  },
  {
   "cell_type": "markdown",
   "metadata": {},
   "source": [
    "Looking at missing data values, we can apply linear interpolation to fill in the missing values to complete our data set."
   ]
  },
  {
   "cell_type": "code",
   "execution_count": 9,
   "metadata": {},
   "outputs": [],
   "source": [
    "sensor_df = sensor_df.interpolate(method='linear', limit_direction='both', axis=0)"
   ]
  },
  {
   "cell_type": "markdown",
   "metadata": {},
   "source": [
    "Reassign our transposed matrix to the original matrix."
   ]
  },
  {
   "cell_type": "code",
   "execution_count": 10,
   "metadata": {},
   "outputs": [
    {
     "data": {
      "text/html": [
       "<div>\n",
       "<style scoped>\n",
       "    .dataframe tbody tr th:only-of-type {\n",
       "        vertical-align: middle;\n",
       "    }\n",
       "\n",
       "    .dataframe tbody tr th {\n",
       "        vertical-align: top;\n",
       "    }\n",
       "\n",
       "    .dataframe thead tr th {\n",
       "        text-align: left;\n",
       "    }\n",
       "</style>\n",
       "<table border=\"1\" class=\"dataframe\">\n",
       "  <thead>\n",
       "    <tr>\n",
       "      <th></th>\n",
       "      <th colspan=\"9\" halign=\"left\">TEMPERATURE</th>\n",
       "      <th>HUMIDITY</th>\n",
       "      <th>...</th>\n",
       "      <th>LIGHT</th>\n",
       "      <th colspan=\"9\" halign=\"left\">VOLTAGE</th>\n",
       "    </tr>\n",
       "    <tr>\n",
       "      <th>MOTE_ID</th>\n",
       "      <th>1</th>\n",
       "      <th>2</th>\n",
       "      <th>3</th>\n",
       "      <th>4</th>\n",
       "      <th>6</th>\n",
       "      <th>7</th>\n",
       "      <th>8</th>\n",
       "      <th>9</th>\n",
       "      <th>10</th>\n",
       "      <th>1</th>\n",
       "      <th>...</th>\n",
       "      <th>10</th>\n",
       "      <th>1</th>\n",
       "      <th>2</th>\n",
       "      <th>3</th>\n",
       "      <th>4</th>\n",
       "      <th>6</th>\n",
       "      <th>7</th>\n",
       "      <th>8</th>\n",
       "      <th>9</th>\n",
       "      <th>10</th>\n",
       "    </tr>\n",
       "  </thead>\n",
       "  <tbody>\n",
       "    <tr>\n",
       "      <td>count</td>\n",
       "      <td>13507.000000</td>\n",
       "      <td>13507.000000</td>\n",
       "      <td>13507.000000</td>\n",
       "      <td>13507.000000</td>\n",
       "      <td>13507.000000</td>\n",
       "      <td>13507.000000</td>\n",
       "      <td>13507.000000</td>\n",
       "      <td>13507.000000</td>\n",
       "      <td>13507.000000</td>\n",
       "      <td>13507.000000</td>\n",
       "      <td>...</td>\n",
       "      <td>13507.000000</td>\n",
       "      <td>13507.000000</td>\n",
       "      <td>13507.000000</td>\n",
       "      <td>13507.000000</td>\n",
       "      <td>13507.000000</td>\n",
       "      <td>13507.000000</td>\n",
       "      <td>13507.000000</td>\n",
       "      <td>13507.000000</td>\n",
       "      <td>13507.000000</td>\n",
       "      <td>13507.000000</td>\n",
       "    </tr>\n",
       "    <tr>\n",
       "      <td>mean</td>\n",
       "      <td>22.181167</td>\n",
       "      <td>22.158077</td>\n",
       "      <td>22.232428</td>\n",
       "      <td>22.203846</td>\n",
       "      <td>21.855226</td>\n",
       "      <td>21.841898</td>\n",
       "      <td>21.695400</td>\n",
       "      <td>21.853032</td>\n",
       "      <td>22.559221</td>\n",
       "      <td>36.003710</td>\n",
       "      <td>...</td>\n",
       "      <td>241.672481</td>\n",
       "      <td>20.711778</td>\n",
       "      <td>6.254754</td>\n",
       "      <td>3.165763</td>\n",
       "      <td>2.723097</td>\n",
       "      <td>2.636697</td>\n",
       "      <td>2.640670</td>\n",
       "      <td>2.650242</td>\n",
       "      <td>2.696847</td>\n",
       "      <td>2.634631</td>\n",
       "    </tr>\n",
       "    <tr>\n",
       "      <td>std</td>\n",
       "      <td>2.343358</td>\n",
       "      <td>2.046743</td>\n",
       "      <td>2.174981</td>\n",
       "      <td>2.051291</td>\n",
       "      <td>1.917945</td>\n",
       "      <td>1.959220</td>\n",
       "      <td>2.158277</td>\n",
       "      <td>2.316887</td>\n",
       "      <td>3.308306</td>\n",
       "      <td>5.502399</td>\n",
       "      <td>...</td>\n",
       "      <td>268.866349</td>\n",
       "      <td>80.108533</td>\n",
       "      <td>31.107179</td>\n",
       "      <td>10.679782</td>\n",
       "      <td>4.180948</td>\n",
       "      <td>1.856831</td>\n",
       "      <td>0.534506</td>\n",
       "      <td>0.270067</td>\n",
       "      <td>0.041185</td>\n",
       "      <td>0.044625</td>\n",
       "    </tr>\n",
       "    <tr>\n",
       "      <td>min</td>\n",
       "      <td>17.195400</td>\n",
       "      <td>17.464900</td>\n",
       "      <td>17.577600</td>\n",
       "      <td>17.680500</td>\n",
       "      <td>17.616800</td>\n",
       "      <td>17.499200</td>\n",
       "      <td>10.487300</td>\n",
       "      <td>17.396300</td>\n",
       "      <td>17.548200</td>\n",
       "      <td>21.565114</td>\n",
       "      <td>...</td>\n",
       "      <td>0.878901</td>\n",
       "      <td>1.297802</td>\n",
       "      <td>1.716703</td>\n",
       "      <td>2.135604</td>\n",
       "      <td>2.368009</td>\n",
       "      <td>2.538120</td>\n",
       "      <td>2.560000</td>\n",
       "      <td>1.325538</td>\n",
       "      <td>2.560000</td>\n",
       "      <td>2.560000</td>\n",
       "    </tr>\n",
       "    <tr>\n",
       "      <td>25%</td>\n",
       "      <td>20.637650</td>\n",
       "      <td>20.831200</td>\n",
       "      <td>20.782200</td>\n",
       "      <td>20.899800</td>\n",
       "      <td>20.605800</td>\n",
       "      <td>20.561700</td>\n",
       "      <td>20.204000</td>\n",
       "      <td>20.179500</td>\n",
       "      <td>20.537200</td>\n",
       "      <td>31.029433</td>\n",
       "      <td>...</td>\n",
       "      <td>50.085715</td>\n",
       "      <td>2.616390</td>\n",
       "      <td>2.600569</td>\n",
       "      <td>2.616390</td>\n",
       "      <td>2.582260</td>\n",
       "      <td>2.571080</td>\n",
       "      <td>2.604910</td>\n",
       "      <td>2.616390</td>\n",
       "      <td>2.669320</td>\n",
       "      <td>2.599225</td>\n",
       "    </tr>\n",
       "    <tr>\n",
       "      <td>50%</td>\n",
       "      <td>22.066000</td>\n",
       "      <td>22.242400</td>\n",
       "      <td>22.193400</td>\n",
       "      <td>22.056200</td>\n",
       "      <td>21.850400</td>\n",
       "      <td>21.742600</td>\n",
       "      <td>21.752400</td>\n",
       "      <td>21.811200</td>\n",
       "      <td>21.825900</td>\n",
       "      <td>36.577400</td>\n",
       "      <td>...</td>\n",
       "      <td>75.440000</td>\n",
       "      <td>2.651430</td>\n",
       "      <td>2.627960</td>\n",
       "      <td>2.639640</td>\n",
       "      <td>2.610650</td>\n",
       "      <td>2.601120</td>\n",
       "      <td>2.633800</td>\n",
       "      <td>2.648880</td>\n",
       "      <td>2.699640</td>\n",
       "      <td>2.627960</td>\n",
       "    </tr>\n",
       "    <tr>\n",
       "      <td>75%</td>\n",
       "      <td>23.768750</td>\n",
       "      <td>23.452700</td>\n",
       "      <td>23.673200</td>\n",
       "      <td>23.447800</td>\n",
       "      <td>23.199533</td>\n",
       "      <td>23.168500</td>\n",
       "      <td>23.006800</td>\n",
       "      <td>23.201167</td>\n",
       "      <td>24.065200</td>\n",
       "      <td>40.424350</td>\n",
       "      <td>...</td>\n",
       "      <td>441.600000</td>\n",
       "      <td>2.687420</td>\n",
       "      <td>2.651430</td>\n",
       "      <td>2.669640</td>\n",
       "      <td>2.645535</td>\n",
       "      <td>2.627960</td>\n",
       "      <td>2.651430</td>\n",
       "      <td>2.675320</td>\n",
       "      <td>2.724400</td>\n",
       "      <td>2.651430</td>\n",
       "    </tr>\n",
       "    <tr>\n",
       "      <td>max</td>\n",
       "      <td>28.681000</td>\n",
       "      <td>28.220400</td>\n",
       "      <td>28.269400</td>\n",
       "      <td>27.652000</td>\n",
       "      <td>27.213940</td>\n",
       "      <td>26.855260</td>\n",
       "      <td>30.502160</td>\n",
       "      <td>34.730040</td>\n",
       "      <td>39.093600</td>\n",
       "      <td>47.733800</td>\n",
       "      <td>...</td>\n",
       "      <td>1478.415928</td>\n",
       "      <td>1109.471856</td>\n",
       "      <td>740.527784</td>\n",
       "      <td>465.208754</td>\n",
       "      <td>311.030943</td>\n",
       "      <td>156.853131</td>\n",
       "      <td>64.622222</td>\n",
       "      <td>33.685926</td>\n",
       "      <td>2.814790</td>\n",
       "      <td>2.814790</td>\n",
       "    </tr>\n",
       "  </tbody>\n",
       "</table>\n",
       "<p>8 rows × 36 columns</p>\n",
       "</div>"
      ],
      "text/plain": [
       "          TEMPERATURE                                                          \\\n",
       "MOTE_ID            1             2             3             4             6    \n",
       "count    13507.000000  13507.000000  13507.000000  13507.000000  13507.000000   \n",
       "mean        22.181167     22.158077     22.232428     22.203846     21.855226   \n",
       "std          2.343358      2.046743      2.174981      2.051291      1.917945   \n",
       "min         17.195400     17.464900     17.577600     17.680500     17.616800   \n",
       "25%         20.637650     20.831200     20.782200     20.899800     20.605800   \n",
       "50%         22.066000     22.242400     22.193400     22.056200     21.850400   \n",
       "75%         23.768750     23.452700     23.673200     23.447800     23.199533   \n",
       "max         28.681000     28.220400     28.269400     27.652000     27.213940   \n",
       "\n",
       "                                                                     HUMIDITY  \\\n",
       "MOTE_ID            7             8             9             10            1    \n",
       "count    13507.000000  13507.000000  13507.000000  13507.000000  13507.000000   \n",
       "mean        21.841898     21.695400     21.853032     22.559221     36.003710   \n",
       "std          1.959220      2.158277      2.316887      3.308306      5.502399   \n",
       "min         17.499200     10.487300     17.396300     17.548200     21.565114   \n",
       "25%         20.561700     20.204000     20.179500     20.537200     31.029433   \n",
       "50%         21.742600     21.752400     21.811200     21.825900     36.577400   \n",
       "75%         23.168500     23.006800     23.201167     24.065200     40.424350   \n",
       "max         26.855260     30.502160     34.730040     39.093600     47.733800   \n",
       "\n",
       "         ...         LIGHT       VOLTAGE                              \\\n",
       "MOTE_ID  ...            10            1             2             3    \n",
       "count    ...  13507.000000  13507.000000  13507.000000  13507.000000   \n",
       "mean     ...    241.672481     20.711778      6.254754      3.165763   \n",
       "std      ...    268.866349     80.108533     31.107179     10.679782   \n",
       "min      ...      0.878901      1.297802      1.716703      2.135604   \n",
       "25%      ...     50.085715      2.616390      2.600569      2.616390   \n",
       "50%      ...     75.440000      2.651430      2.627960      2.639640   \n",
       "75%      ...    441.600000      2.687420      2.651430      2.669640   \n",
       "max      ...   1478.415928   1109.471856    740.527784    465.208754   \n",
       "\n",
       "                                                                               \\\n",
       "MOTE_ID            4             6             7             8             9    \n",
       "count    13507.000000  13507.000000  13507.000000  13507.000000  13507.000000   \n",
       "mean         2.723097      2.636697      2.640670      2.650242      2.696847   \n",
       "std          4.180948      1.856831      0.534506      0.270067      0.041185   \n",
       "min          2.368009      2.538120      2.560000      1.325538      2.560000   \n",
       "25%          2.582260      2.571080      2.604910      2.616390      2.669320   \n",
       "50%          2.610650      2.601120      2.633800      2.648880      2.699640   \n",
       "75%          2.645535      2.627960      2.651430      2.675320      2.724400   \n",
       "max        311.030943    156.853131     64.622222     33.685926      2.814790   \n",
       "\n",
       "                       \n",
       "MOTE_ID            10  \n",
       "count    13507.000000  \n",
       "mean         2.634631  \n",
       "std          0.044625  \n",
       "min          2.560000  \n",
       "25%          2.599225  \n",
       "50%          2.627960  \n",
       "75%          2.651430  \n",
       "max          2.814790  \n",
       "\n",
       "[8 rows x 36 columns]"
      ]
     },
     "execution_count": 10,
     "metadata": {},
     "output_type": "execute_result"
    }
   ],
   "source": [
    "sensor_df = sensor_df.T\n",
    "sensor_df.describe()"
   ]
  },
  {
   "cell_type": "markdown",
   "metadata": {},
   "source": [
    "Unstacking the Sensor_ID brings it back to a column."
   ]
  },
  {
   "cell_type": "code",
   "execution_count": 19,
   "metadata": {},
   "outputs": [],
   "source": [
    "sensor_df = sensor_df.unstack(level=0)"
   ]
  },
  {
   "cell_type": "code",
   "execution_count": 20,
   "metadata": {},
   "outputs": [
    {
     "data": {
      "text/plain": [
       "MultiIndex([( 1, '2004-03-01 00:00:00'),\n",
       "            ( 1, '2004-03-01 00:01:00'),\n",
       "            ( 1, '2004-03-01 00:02:00'),\n",
       "            ( 1, '2004-03-01 00:03:00'),\n",
       "            ( 1, '2004-03-01 00:04:00'),\n",
       "            ( 1, '2004-03-01 00:05:00'),\n",
       "            ( 1, '2004-03-01 00:06:00'),\n",
       "            ( 1, '2004-03-01 00:07:00'),\n",
       "            ( 1, '2004-03-01 00:08:00'),\n",
       "            ( 1, '2004-03-01 00:09:00'),\n",
       "            ...\n",
       "            (10, '2004-03-10 08:57:00'),\n",
       "            (10, '2004-03-10 08:58:00'),\n",
       "            (10, '2004-03-10 08:59:00'),\n",
       "            (10, '2004-03-10 09:00:00'),\n",
       "            (10, '2004-03-10 09:01:00'),\n",
       "            (10, '2004-03-10 09:02:00'),\n",
       "            (10, '2004-03-10 09:03:00'),\n",
       "            (10, '2004-03-10 09:04:00'),\n",
       "            (10, '2004-03-10 09:05:00'),\n",
       "            (10, '2004-03-10 09:06:00')],\n",
       "           names=['MOTE_ID', 'DATETIME'], length=121563)"
      ]
     },
     "execution_count": 20,
     "metadata": {},
     "output_type": "execute_result"
    }
   ],
   "source": [
    "sensor_df.index"
   ]
  },
  {
   "cell_type": "code",
   "execution_count": 22,
   "metadata": {},
   "outputs": [],
   "source": [
    "test_df = sensor_df.iloc[sensor_df.index.get_level_values('MOTE_ID')==1]"
   ]
  },
  {
   "cell_type": "code",
   "execution_count": 23,
   "metadata": {},
   "outputs": [
    {
     "data": {
      "text/plain": [
       "<matplotlib.axes._subplots.AxesSubplot at 0x1179eb150>"
      ]
     },
     "execution_count": 23,
     "metadata": {},
     "output_type": "execute_result"
    },
    {
     "data": {
      "image/png": "[encoded data removed]",
      "text/plain": [
       "<Figure size 432x288 with 1 Axes>"
      ]
     },
     "metadata": {
      "needs_background": "light"
     },
     "output_type": "display_data"
    }
   ],
   "source": [
    "test_df.TEMPERATURE.plot()"
   ]
  },
  {
   "cell_type": "code",
   "execution_count": 21,
   "metadata": {},
   "outputs": [
    {
     "data": {
      "text/html": [
       "<div>\n",
       "<style scoped>\n",
       "    .dataframe tbody tr th:only-of-type {\n",
       "        vertical-align: middle;\n",
       "    }\n",
       "\n",
       "    .dataframe tbody tr th {\n",
       "        vertical-align: top;\n",
       "    }\n",
       "\n",
       "    .dataframe thead th {\n",
       "        text-align: right;\n",
       "    }\n",
       "</style>\n",
       "<table border=\"1\" class=\"dataframe\">\n",
       "  <thead>\n",
       "    <tr style=\"text-align: right;\">\n",
       "      <th></th>\n",
       "      <th></th>\n",
       "      <th>TEMPERATURE</th>\n",
       "      <th>HUMIDITY</th>\n",
       "      <th>LIGHT</th>\n",
       "      <th>VOLTAGE</th>\n",
       "    </tr>\n",
       "    <tr>\n",
       "      <th>MOTE_ID</th>\n",
       "      <th>DATETIME</th>\n",
       "      <th></th>\n",
       "      <th></th>\n",
       "      <th></th>\n",
       "      <th></th>\n",
       "    </tr>\n",
       "  </thead>\n",
       "  <tbody>\n",
       "    <tr>\n",
       "      <td rowspan=\"5\" valign=\"top\">1</td>\n",
       "      <td>2004-03-01 00:00:00</td>\n",
       "      <td>18.86630</td>\n",
       "      <td>35.186733</td>\n",
       "      <td>100.528133</td>\n",
       "      <td>36.72369</td>\n",
       "    </tr>\n",
       "    <tr>\n",
       "      <td>2004-03-01 00:01:00</td>\n",
       "      <td>18.44980</td>\n",
       "      <td>43.119100</td>\n",
       "      <td>43.240000</td>\n",
       "      <td>2.67532</td>\n",
       "    </tr>\n",
       "    <tr>\n",
       "      <td>2004-03-01 00:02:00</td>\n",
       "      <td>18.44000</td>\n",
       "      <td>43.085800</td>\n",
       "      <td>43.240000</td>\n",
       "      <td>2.66332</td>\n",
       "    </tr>\n",
       "    <tr>\n",
       "      <td>2004-03-01 00:03:00</td>\n",
       "      <td>18.84180</td>\n",
       "      <td>37.120938</td>\n",
       "      <td>107.346400</td>\n",
       "      <td>29.11973</td>\n",
       "    </tr>\n",
       "    <tr>\n",
       "      <td>2004-03-01 00:04:00</td>\n",
       "      <td>18.44000</td>\n",
       "      <td>43.119100</td>\n",
       "      <td>43.240000</td>\n",
       "      <td>2.65143</td>\n",
       "    </tr>\n",
       "    <tr>\n",
       "      <td>...</td>\n",
       "      <td>...</td>\n",
       "      <td>...</td>\n",
       "      <td>...</td>\n",
       "      <td>...</td>\n",
       "      <td>...</td>\n",
       "    </tr>\n",
       "    <tr>\n",
       "      <td rowspan=\"5\" valign=\"top\">10</td>\n",
       "      <td>2004-03-10 09:02:00</td>\n",
       "      <td>24.69240</td>\n",
       "      <td>29.969100</td>\n",
       "      <td>507.840000</td>\n",
       "      <td>2.60491</td>\n",
       "    </tr>\n",
       "    <tr>\n",
       "      <td>2004-03-10 09:03:00</td>\n",
       "      <td>29.13160</td>\n",
       "      <td>267.439900</td>\n",
       "      <td>924.976770</td>\n",
       "      <td>2.68742</td>\n",
       "    </tr>\n",
       "    <tr>\n",
       "      <td>2004-03-10 09:04:00</td>\n",
       "      <td>24.71200</td>\n",
       "      <td>29.827100</td>\n",
       "      <td>507.840000</td>\n",
       "      <td>2.60491</td>\n",
       "    </tr>\n",
       "    <tr>\n",
       "      <td>2004-03-10 09:05:00</td>\n",
       "      <td>24.70710</td>\n",
       "      <td>29.827100</td>\n",
       "      <td>507.840000</td>\n",
       "      <td>2.60491</td>\n",
       "    </tr>\n",
       "    <tr>\n",
       "      <td>2004-03-10 09:06:00</td>\n",
       "      <td>29.27085</td>\n",
       "      <td>226.977900</td>\n",
       "      <td>866.091130</td>\n",
       "      <td>2.62796</td>\n",
       "    </tr>\n",
       "  </tbody>\n",
       "</table>\n",
       "<p>121563 rows × 4 columns</p>\n",
       "</div>"
      ],
      "text/plain": [
       "                             TEMPERATURE    HUMIDITY       LIGHT   VOLTAGE\n",
       "MOTE_ID DATETIME                                                          \n",
       "1       2004-03-01 00:00:00     18.86630   35.186733  100.528133  36.72369\n",
       "        2004-03-01 00:01:00     18.44980   43.119100   43.240000   2.67532\n",
       "        2004-03-01 00:02:00     18.44000   43.085800   43.240000   2.66332\n",
       "        2004-03-01 00:03:00     18.84180   37.120938  107.346400  29.11973\n",
       "        2004-03-01 00:04:00     18.44000   43.119100   43.240000   2.65143\n",
       "...                                  ...         ...         ...       ...\n",
       "10      2004-03-10 09:02:00     24.69240   29.969100  507.840000   2.60491\n",
       "        2004-03-10 09:03:00     29.13160  267.439900  924.976770   2.68742\n",
       "        2004-03-10 09:04:00     24.71200   29.827100  507.840000   2.60491\n",
       "        2004-03-10 09:05:00     24.70710   29.827100  507.840000   2.60491\n",
       "        2004-03-10 09:06:00     29.27085  226.977900  866.091130   2.62796\n",
       "\n",
       "[121563 rows x 4 columns]"
      ]
     },
     "execution_count": 21,
     "metadata": {},
     "output_type": "execute_result"
    }
   ],
   "source": [
    "sensor_df"
   ]
  },
  {
   "cell_type": "code",
   "execution_count": 15,
   "metadata": {
    "scrolled": true
   },
   "outputs": [],
   "source": [
    "#from keras.layers import Input, Dense\n",
    "#from keras.models import Model"
   ]
  },
  {
   "cell_type": "code",
   "execution_count": 31,
   "metadata": {},
   "outputs": [
    {
     "data": {
      "text/html": [
       "<div>\n",
       "<style scoped>\n",
       "    .dataframe tbody tr th:only-of-type {\n",
       "        vertical-align: middle;\n",
       "    }\n",
       "\n",
       "    .dataframe tbody tr th {\n",
       "        vertical-align: top;\n",
       "    }\n",
       "\n",
       "    .dataframe thead th {\n",
       "        text-align: right;\n",
       "    }\n",
       "</style>\n",
       "<table border=\"1\" class=\"dataframe\">\n",
       "  <thead>\n",
       "    <tr style=\"text-align: right;\">\n",
       "      <th></th>\n",
       "      <th>MOTE_ID</th>\n",
       "      <th>TEMPERATURE</th>\n",
       "      <th>HUMIDITY</th>\n",
       "      <th>LIGHT</th>\n",
       "      <th>VOLTAGE</th>\n",
       "    </tr>\n",
       "    <tr>\n",
       "      <th>DATETIME</th>\n",
       "      <th></th>\n",
       "      <th></th>\n",
       "      <th></th>\n",
       "      <th></th>\n",
       "      <th></th>\n",
       "    </tr>\n",
       "  </thead>\n",
       "  <tbody>\n",
       "    <tr>\n",
       "      <th>2004-03-01 00:00:00</th>\n",
       "      <td>1</td>\n",
       "      <td>18.8663</td>\n",
       "      <td>35.186733</td>\n",
       "      <td>100.528133</td>\n",
       "      <td>36.72369</td>\n",
       "    </tr>\n",
       "    <tr>\n",
       "      <th>2004-03-01 00:01:00</th>\n",
       "      <td>1</td>\n",
       "      <td>18.4498</td>\n",
       "      <td>43.119100</td>\n",
       "      <td>43.240000</td>\n",
       "      <td>2.67532</td>\n",
       "    </tr>\n",
       "    <tr>\n",
       "      <th>2004-03-01 00:02:00</th>\n",
       "      <td>1</td>\n",
       "      <td>18.4400</td>\n",
       "      <td>43.085800</td>\n",
       "      <td>43.240000</td>\n",
       "      <td>2.66332</td>\n",
       "    </tr>\n",
       "    <tr>\n",
       "      <th>2004-03-01 00:03:00</th>\n",
       "      <td>1</td>\n",
       "      <td>18.8418</td>\n",
       "      <td>37.120938</td>\n",
       "      <td>107.346400</td>\n",
       "      <td>29.11973</td>\n",
       "    </tr>\n",
       "    <tr>\n",
       "      <th>2004-03-01 00:04:00</th>\n",
       "      <td>1</td>\n",
       "      <td>18.4400</td>\n",
       "      <td>43.119100</td>\n",
       "      <td>43.240000</td>\n",
       "      <td>2.65143</td>\n",
       "    </tr>\n",
       "  </tbody>\n",
       "</table>\n",
       "</div>"
      ],
      "text/plain": [
       "                     MOTE_ID  TEMPERATURE   HUMIDITY       LIGHT   VOLTAGE\n",
       "DATETIME                                                                  \n",
       "2004-03-01 00:00:00        1      18.8663  35.186733  100.528133  36.72369\n",
       "2004-03-01 00:01:00        1      18.4498  43.119100   43.240000   2.67532\n",
       "2004-03-01 00:02:00        1      18.4400  43.085800   43.240000   2.66332\n",
       "2004-03-01 00:03:00        1      18.8418  37.120938  107.346400  29.11973\n",
       "2004-03-01 00:04:00        1      18.4400  43.119100   43.240000   2.65143"
      ]
     },
     "execution_count": 31,
     "metadata": {},
     "output_type": "execute_result"
    }
   ],
   "source": [
    "sensor_df.columns = sensor_df.columns.get_level_values(0)\n",
    "sensor_df.head()"
   ]
  },
  {
   "cell_type": "code",
   "execution_count": 16,
   "metadata": {},
   "outputs": [],
   "source": [
    "#input_layer = Input(shape=(4,))\n",
    "# \"encoded\" is the encoded representation of the input\n",
    "#encoded = Dense(1, activation='relu')(input_layer)\n",
    "# \"decoded\" is the lossy reconstruction of the input\n",
    "#decoded = Dense(4, activation='sigmoid')(encoded)\n",
    "\n",
    "# this model maps an input to its reconstruction\n",
    "#autoencoder = Model(input_layer, decoded)"
   ]
  },
  {
   "cell_type": "code",
   "execution_count": 17,
   "metadata": {},
   "outputs": [],
   "source": [
    "# autoencoder.summary()"
   ]
  },
  {
   "cell_type": "code",
   "execution_count": null,
   "metadata": {},
   "outputs": [],
   "source": []
  }
 ],
 "metadata": {
  "kernelspec": {
   "display_name": "Python 3",
   "language": "python",
   "name": "python3"
  },
  "language_info": {
   "codemirror_mode": {
    "name": "ipython",
    "version": 3
   },
   "file_extension": ".py",
   "mimetype": "text/x-python",
   "name": "python",
   "nbconvert_exporter": "python",
   "pygments_lexer": "ipython3",
   "version": "3.7.3"
  }
 },
 "nbformat": 4,
 "nbformat_minor": 4
}
