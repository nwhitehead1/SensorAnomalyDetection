{
 "cells": [
  {
   "cell_type": "markdown",
   "metadata": {},
   "source": [
    "## Compressing Data to the IoT Gateway using Autoencoders\n",
    "\n",
    "Dataset: http://db.csail.mit.edu/labdata/labdata.html\n",
    "\n",
    "The goal of this project is to reduce the amount of data sent to the gateway layer from edge devices. We use a dataset collected from Intel Labs, and attempt to reduce the size of the data into a form that is a representation of the original data. By reducing the amount of data sent from the sensor to the gateway, we can increase data throughput and decrease network latency."
   ]
  },
  {
   "cell_type": "markdown",
   "metadata": {},
   "source": [
    "### Data Loading"
   ]
  },
  {
   "cell_type": "code",
   "execution_count": 1,
   "metadata": {},
   "outputs": [],
   "source": [
    "import gzip\n",
    "import pandas as pd"
   ]
  },
  {
   "cell_type": "code",
   "execution_count": 2,
   "metadata": {},
   "outputs": [
    {
     "data": {
      "text/plain": [
       "(2313682, 6)"
      ]
     },
     "execution_count": 2,
     "metadata": {},
     "output_type": "execute_result"
    }
   ],
   "source": [
    "with gzip.open('data.txt.gz', 'rb') as data_bytes:\n",
    "    data = pd.read_csv(data_bytes, header=None, sep=' ', parse_dates=[[0, 1]], squeeze=True)\n",
    "data.columns = ['DATETIME','EPOCH','MOTE_ID','TEMPERATURE','HUMIDITY','LIGHT','VOLTAGE']\n",
    "data = data.set_index('DATETIME')\n",
    "data.shape"
   ]
  },
  {
   "cell_type": "markdown",
   "metadata": {},
   "source": [
    "We will consider sensor data between March 1st and March 10th, resampled every 5 minutes. We will ignore the epoch column, as it does not provide any statistical relevance."
   ]
  },
  {
   "cell_type": "code",
   "execution_count": 3,
   "metadata": {},
   "outputs": [
    {
     "data": {
      "text/html": [
       "<div>\n",
       "<style scoped>\n",
       "    .dataframe tbody tr th:only-of-type {\n",
       "        vertical-align: middle;\n",
       "    }\n",
       "\n",
       "    .dataframe tbody tr th {\n",
       "        vertical-align: top;\n",
       "    }\n",
       "\n",
       "    .dataframe thead th {\n",
       "        text-align: right;\n",
       "    }\n",
       "</style>\n",
       "<table border=\"1\" class=\"dataframe\">\n",
       "  <thead>\n",
       "    <tr style=\"text-align: right;\">\n",
       "      <th></th>\n",
       "      <th>MOTE_ID</th>\n",
       "      <th>TEMPERATURE</th>\n",
       "      <th>HUMIDITY</th>\n",
       "      <th>LIGHT</th>\n",
       "      <th>VOLTAGE</th>\n",
       "    </tr>\n",
       "    <tr>\n",
       "      <th>DATETIME</th>\n",
       "      <th></th>\n",
       "      <th></th>\n",
       "      <th></th>\n",
       "      <th></th>\n",
       "      <th></th>\n",
       "    </tr>\n",
       "  </thead>\n",
       "  <tbody>\n",
       "    <tr>\n",
       "      <td>2004-03-01 00:01:57.130850</td>\n",
       "      <td>1.0</td>\n",
       "      <td>18.4498</td>\n",
       "      <td>43.1191</td>\n",
       "      <td>43.24</td>\n",
       "      <td>2.67532</td>\n",
       "    </tr>\n",
       "    <tr>\n",
       "      <td>2004-03-01 00:02:50.458234</td>\n",
       "      <td>1.0</td>\n",
       "      <td>18.4400</td>\n",
       "      <td>43.0858</td>\n",
       "      <td>43.24</td>\n",
       "      <td>2.66332</td>\n",
       "    </tr>\n",
       "    <tr>\n",
       "      <td>2004-03-01 00:04:26.606602</td>\n",
       "      <td>1.0</td>\n",
       "      <td>18.4400</td>\n",
       "      <td>43.1191</td>\n",
       "      <td>43.24</td>\n",
       "      <td>2.65143</td>\n",
       "    </tr>\n",
       "    <tr>\n",
       "      <td>2004-03-01 00:05:28.379208</td>\n",
       "      <td>1.0</td>\n",
       "      <td>18.4498</td>\n",
       "      <td>43.0524</td>\n",
       "      <td>43.24</td>\n",
       "      <td>2.65143</td>\n",
       "    </tr>\n",
       "    <tr>\n",
       "      <td>2004-03-01 00:05:50.456126</td>\n",
       "      <td>1.0</td>\n",
       "      <td>18.4302</td>\n",
       "      <td>43.1525</td>\n",
       "      <td>43.24</td>\n",
       "      <td>2.66332</td>\n",
       "    </tr>\n",
       "  </tbody>\n",
       "</table>\n",
       "</div>"
      ],
      "text/plain": [
       "                            MOTE_ID  TEMPERATURE  HUMIDITY  LIGHT  VOLTAGE\n",
       "DATETIME                                                                  \n",
       "2004-03-01 00:01:57.130850      1.0      18.4498   43.1191  43.24  2.67532\n",
       "2004-03-01 00:02:50.458234      1.0      18.4400   43.0858  43.24  2.66332\n",
       "2004-03-01 00:04:26.606602      1.0      18.4400   43.1191  43.24  2.65143\n",
       "2004-03-01 00:05:28.379208      1.0      18.4498   43.0524  43.24  2.65143\n",
       "2004-03-01 00:05:50.456126      1.0      18.4302   43.1525  43.24  2.66332"
      ]
     },
     "execution_count": 3,
     "metadata": {},
     "output_type": "execute_result"
    }
   ],
   "source": [
    "data_samp = data.drop('EPOCH', axis=1)\n",
    "data_samp = data_samp.loc['2004-03-01':'2004-03-10']\n",
    "data_samp.head()"
   ]
  },
  {
   "cell_type": "markdown",
   "metadata": {},
   "source": [
    "For the sake of out experiment, let us only consider sensors 1-10. We will drop sensors where Sensor_ID is NA, and make Sensor_ID an integer."
   ]
  },
  {
   "cell_type": "code",
   "execution_count": 4,
   "metadata": {},
   "outputs": [
    {
     "name": "stdout",
     "output_type": "stream",
     "text": [
      "Sensor_ID - Min: 1, Max: 10\n"
     ]
    },
    {
     "data": {
      "text/plain": [
       "(154618, 5)"
      ]
     },
     "execution_count": 4,
     "metadata": {},
     "output_type": "execute_result"
    }
   ],
   "source": [
    "data_samp.dropna(subset=['MOTE_ID'], inplace=True)\n",
    "data_samp.MOTE_ID = data_samp.MOTE_ID.astype(int)\n",
    "\n",
    "data_samp = data_samp[(data_samp.MOTE_ID >= 1) & (data_samp.MOTE_ID <= 10)].copy()\n",
    "print('Sensor_ID - Min: {}, Max: {}'.format(data_samp.MOTE_ID.min(), data_samp.MOTE_ID.max()))\n",
    "data_samp.shape"
   ]
  },
  {
   "cell_type": "markdown",
   "metadata": {},
   "source": [
    "Constructing a dataframe where Sensor_ID is the key. This will be more representative of inbound samples."
   ]
  },
  {
   "cell_type": "code",
   "execution_count": 81,
   "metadata": {},
   "outputs": [
    {
     "data": {
      "text/plain": [
       "             MOTE_ID\n",
       "TEMPERATURE  1            0\n",
       "             2           24\n",
       "             3            0\n",
       "             4            5\n",
       "             6           16\n",
       "             7            0\n",
       "             8           20\n",
       "             9            1\n",
       "             10           2\n",
       "HUMIDITY     1            0\n",
       "             2           24\n",
       "             3            0\n",
       "             4            5\n",
       "             6           16\n",
       "             7            0\n",
       "             8           20\n",
       "             9            1\n",
       "             10           2\n",
       "LIGHT        1            0\n",
       "             2           24\n",
       "             3            0\n",
       "             4            5\n",
       "             6           16\n",
       "             7            0\n",
       "             8          174\n",
       "             9          201\n",
       "             10           2\n",
       "VOLTAGE      1            0\n",
       "             2           24\n",
       "             3            0\n",
       "             4            5\n",
       "             6           16\n",
       "             7            0\n",
       "             8           20\n",
       "             9            1\n",
       "             10           2\n",
       "dtype: int64"
      ]
     },
     "execution_count": 81,
     "metadata": {},
     "output_type": "execute_result"
    }
   ],
   "source": [
    "sensor_df = data_samp.set_index('MOTE_ID', append=True).unstack()\n",
    "\n",
    "sensor_df = sensor_df.resample('5min').mean()\n",
    "#mask, idx = sensor_df.T.index.get_loc_level(5, level='MOTE_ID')\n",
    "\n",
    "# Dropping Sensor_ID = 5\n",
    "sensor_df = sensor_df.T.drop(5, level='MOTE_ID')\n",
    "# Reassign transpose of sensor dataframe to sensor dataframe\n",
    "sensor_df = sensor_df.T\n",
    "\n",
    "sensor_df.isna().sum()"
   ]
  },
  {
   "cell_type": "markdown",
   "metadata": {},
   "source": [
    "Sensor 5 has no data, so we will drop it."
   ]
  },
  {
   "cell_type": "code",
   "execution_count": 34,
   "metadata": {},
   "outputs": [
    {
     "ename": "SyntaxError",
     "evalue": "invalid syntax (<ipython-input-34-943357cb03ae>, line 1)",
     "output_type": "error",
     "traceback": [
      "\u001b[0;36m  File \u001b[0;32m\"<ipython-input-34-943357cb03ae>\"\u001b[0;36m, line \u001b[0;32m1\u001b[0m\n\u001b[0;31m    print(sensor_df.T..droplevel(level=1))\u001b[0m\n\u001b[0m                      ^\u001b[0m\n\u001b[0;31mSyntaxError\u001b[0m\u001b[0;31m:\u001b[0m invalid syntax\n"
     ]
    }
   ],
   "source": []
  },
  {
   "cell_type": "markdown",
   "metadata": {},
   "source": [
    "TESTING STUFF"
   ]
  },
  {
   "cell_type": "code",
   "execution_count": null,
   "metadata": {},
   "outputs": [],
   "source": [
    "#from keras.layers import Input, Dense\n",
    "#from keras.models import Model"
   ]
  },
  {
   "cell_type": "code",
   "execution_count": null,
   "metadata": {},
   "outputs": [],
   "source": [
    "#input_layer = Input(shape=(4,))\n",
    "# \"encoded\" is the encoded representation of the input\n",
    "#encoded = Dense(1, activation='relu')(input_layer)\n",
    "# \"decoded\" is the lossy reconstruction of the input\n",
    "#decoded = Dense(4, activation='sigmoid')(encoded)\n",
    "\n",
    "# this model maps an input to its reconstruction\n",
    "#autoencoder = Model(input_layer, decoded)"
   ]
  },
  {
   "cell_type": "code",
   "execution_count": null,
   "metadata": {},
   "outputs": [],
   "source": [
    "# autoencoder.summary()"
   ]
  },
  {
   "cell_type": "code",
   "execution_count": null,
   "metadata": {},
   "outputs": [],
   "source": []
  }
 ],
 "metadata": {
  "kernelspec": {
   "display_name": "Python 3",
   "language": "python",
   "name": "python3"
  },
  "language_info": {
   "codemirror_mode": {
    "name": "ipython",
    "version": 3
   },
   "file_extension": ".py",
   "mimetype": "text/x-python",
   "name": "python",
   "nbconvert_exporter": "python",
   "pygments_lexer": "ipython3",
   "version": "3.7.4"
  }
 },
 "nbformat": 4,
 "nbformat_minor": 4
}
