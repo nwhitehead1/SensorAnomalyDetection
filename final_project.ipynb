{
 "cells": [
  {
   "cell_type": "markdown",
   "metadata": {},
   "source": [
    "## Compressing Data to the IoT Gateway using Autoencoders\n",
    "\n",
    "Dataset: http://db.csail.mit.edu/labdata/labdata.html\n",
    "\n",
    "The goal of this project is to reduce the amount of data sent to the gateway layer from edge devices. We use a dataset collected from Intel Labs, and attempt to reduce the size of the data into a form that is a representation of the original data. By reducing the amount of data sent from the sensor to the gateway, we can increase data throughput and decrease network latency."
   ]
  },
  {
   "cell_type": "markdown",
   "metadata": {},
   "source": [
    "### Data Loading"
   ]
  },
  {
   "cell_type": "code",
   "execution_count": 1,
   "metadata": {},
   "outputs": [],
   "source": [
    "import gzip\n",
    "import pandas as pd\n",
    "import matplotlib.pyplot as plt"
   ]
  },
  {
   "cell_type": "code",
   "execution_count": 2,
   "metadata": {},
   "outputs": [
    {
     "data": {
      "text/plain": [
       "(2313682, 6)"
      ]
     },
     "execution_count": 2,
     "metadata": {},
     "output_type": "execute_result"
    }
   ],
   "source": [
    "with gzip.open('data.txt.gz', 'rb') as data_bytes:\n",
    "    data = pd.read_csv(data_bytes, header=None, sep=' ', parse_dates=[[0, 1]], squeeze=True)\n",
    "data.columns = ['DATETIME','EPOCH','MOTE_ID','TEMPERATURE','HUMIDITY','LIGHT','VOLTAGE']\n",
    "data = data.set_index('DATETIME')\n",
    "data.shape"
   ]
  },
  {
   "cell_type": "markdown",
   "metadata": {},
   "source": [
    "### Data Pre-processing"
   ]
  },
  {
   "cell_type": "markdown",
   "metadata": {},
   "source": [
    "We will consider sensor data between March 1st and March 10th, resampled every 5 minutes. We will ignore the epoch column, as it does not provide any statistical relevance."
   ]
  },
  {
   "cell_type": "code",
   "execution_count": 3,
   "metadata": {},
   "outputs": [
    {
     "data": {
      "text/html": [
       "<div>\n",
       "<style scoped>\n",
       "    .dataframe tbody tr th:only-of-type {\n",
       "        vertical-align: middle;\n",
       "    }\n",
       "\n",
       "    .dataframe tbody tr th {\n",
       "        vertical-align: top;\n",
       "    }\n",
       "\n",
       "    .dataframe thead th {\n",
       "        text-align: right;\n",
       "    }\n",
       "</style>\n",
       "<table border=\"1\" class=\"dataframe\">\n",
       "  <thead>\n",
       "    <tr style=\"text-align: right;\">\n",
       "      <th></th>\n",
       "      <th>MOTE_ID</th>\n",
       "      <th>TEMPERATURE</th>\n",
       "      <th>HUMIDITY</th>\n",
       "      <th>LIGHT</th>\n",
       "      <th>VOLTAGE</th>\n",
       "    </tr>\n",
       "    <tr>\n",
       "      <th>DATETIME</th>\n",
       "      <th></th>\n",
       "      <th></th>\n",
       "      <th></th>\n",
       "      <th></th>\n",
       "      <th></th>\n",
       "    </tr>\n",
       "  </thead>\n",
       "  <tbody>\n",
       "    <tr>\n",
       "      <td>2004-03-01 00:01:57.130850</td>\n",
       "      <td>1.0</td>\n",
       "      <td>18.4498</td>\n",
       "      <td>43.1191</td>\n",
       "      <td>43.24</td>\n",
       "      <td>2.67532</td>\n",
       "    </tr>\n",
       "    <tr>\n",
       "      <td>2004-03-01 00:02:50.458234</td>\n",
       "      <td>1.0</td>\n",
       "      <td>18.4400</td>\n",
       "      <td>43.0858</td>\n",
       "      <td>43.24</td>\n",
       "      <td>2.66332</td>\n",
       "    </tr>\n",
       "    <tr>\n",
       "      <td>2004-03-01 00:04:26.606602</td>\n",
       "      <td>1.0</td>\n",
       "      <td>18.4400</td>\n",
       "      <td>43.1191</td>\n",
       "      <td>43.24</td>\n",
       "      <td>2.65143</td>\n",
       "    </tr>\n",
       "    <tr>\n",
       "      <td>2004-03-01 00:05:28.379208</td>\n",
       "      <td>1.0</td>\n",
       "      <td>18.4498</td>\n",
       "      <td>43.0524</td>\n",
       "      <td>43.24</td>\n",
       "      <td>2.65143</td>\n",
       "    </tr>\n",
       "    <tr>\n",
       "      <td>2004-03-01 00:05:50.456126</td>\n",
       "      <td>1.0</td>\n",
       "      <td>18.4302</td>\n",
       "      <td>43.1525</td>\n",
       "      <td>43.24</td>\n",
       "      <td>2.66332</td>\n",
       "    </tr>\n",
       "  </tbody>\n",
       "</table>\n",
       "</div>"
      ],
      "text/plain": [
       "                            MOTE_ID  TEMPERATURE  HUMIDITY  LIGHT  VOLTAGE\n",
       "DATETIME                                                                  \n",
       "2004-03-01 00:01:57.130850      1.0      18.4498   43.1191  43.24  2.67532\n",
       "2004-03-01 00:02:50.458234      1.0      18.4400   43.0858  43.24  2.66332\n",
       "2004-03-01 00:04:26.606602      1.0      18.4400   43.1191  43.24  2.65143\n",
       "2004-03-01 00:05:28.379208      1.0      18.4498   43.0524  43.24  2.65143\n",
       "2004-03-01 00:05:50.456126      1.0      18.4302   43.1525  43.24  2.66332"
      ]
     },
     "execution_count": 3,
     "metadata": {},
     "output_type": "execute_result"
    }
   ],
   "source": [
    "data_samp = data.drop('EPOCH', axis=1)\n",
    "data_samp = data_samp.loc['2004-03-01':'2004-03-10']\n",
    "data_samp.head()"
   ]
  },
  {
   "cell_type": "markdown",
   "metadata": {},
   "source": [
    "For the sake of out experiment, let us only consider sensors 1-10. We will drop sensors where Sensor_ID is NA, and make Sensor_ID an integer."
   ]
  },
  {
   "cell_type": "code",
   "execution_count": 4,
   "metadata": {},
   "outputs": [
    {
     "name": "stdout",
     "output_type": "stream",
     "text": [
      "Sensor_ID - Min: 1, Max: 10\n"
     ]
    },
    {
     "data": {
      "text/plain": [
       "(154618, 5)"
      ]
     },
     "execution_count": 4,
     "metadata": {},
     "output_type": "execute_result"
    }
   ],
   "source": [
    "data_samp.dropna(subset=['MOTE_ID'], inplace=True)\n",
    "data_samp.MOTE_ID = data_samp.MOTE_ID.astype(int)\n",
    "\n",
    "data_samp = data_samp[(data_samp.MOTE_ID >= 1) & (data_samp.MOTE_ID <= 10)].copy()\n",
    "print('Sensor_ID - Min: {}, Max: {}'.format(data_samp.MOTE_ID.min(), data_samp.MOTE_ID.max()))\n",
    "data_samp.shape"
   ]
  },
  {
   "cell_type": "markdown",
   "metadata": {},
   "source": [
    "For the purposes of a proof of concept, we will make this a univariate problem (not including DateTime)."
   ]
  },
  {
   "cell_type": "code",
   "execution_count": 37,
   "metadata": {},
   "outputs": [],
   "source": [
    "data_samp.drop(['HUMIDITY', 'LIGHT', \n",
    "                'VOLTAGE'], axis=1, inplace=True)"
   ]
  },
  {
   "cell_type": "markdown",
   "metadata": {},
   "source": [
    "Constructing a dataframe where Sensor_ID is the key. This will be more representative of inbound samples."
   ]
  },
  {
   "cell_type": "code",
   "execution_count": 38,
   "metadata": {},
   "outputs": [],
   "source": [
    "sensor_df = data_samp.set_index('MOTE_ID', append=True).unstack()"
   ]
  },
  {
   "cell_type": "markdown",
   "metadata": {},
   "source": [
    "Resampling the dataframe every minute, excluding the Sensor_ID index."
   ]
  },
  {
   "cell_type": "code",
   "execution_count": 39,
   "metadata": {},
   "outputs": [
    {
     "data": {
      "text/html": [
       "<div>\n",
       "<style scoped>\n",
       "    .dataframe tbody tr th:only-of-type {\n",
       "        vertical-align: middle;\n",
       "    }\n",
       "\n",
       "    .dataframe tbody tr th {\n",
       "        vertical-align: top;\n",
       "    }\n",
       "\n",
       "    .dataframe thead tr th {\n",
       "        text-align: left;\n",
       "    }\n",
       "\n",
       "    .dataframe thead tr:last-of-type th {\n",
       "        text-align: right;\n",
       "    }\n",
       "</style>\n",
       "<table border=\"1\" class=\"dataframe\">\n",
       "  <thead>\n",
       "    <tr>\n",
       "      <th></th>\n",
       "      <th colspan=\"10\" halign=\"left\">TEMPERATURE</th>\n",
       "    </tr>\n",
       "    <tr>\n",
       "      <th>MOTE_ID</th>\n",
       "      <th>1</th>\n",
       "      <th>2</th>\n",
       "      <th>3</th>\n",
       "      <th>4</th>\n",
       "      <th>5</th>\n",
       "      <th>6</th>\n",
       "      <th>7</th>\n",
       "      <th>8</th>\n",
       "      <th>9</th>\n",
       "      <th>10</th>\n",
       "    </tr>\n",
       "    <tr>\n",
       "      <th>DATETIME</th>\n",
       "      <th></th>\n",
       "      <th></th>\n",
       "      <th></th>\n",
       "      <th></th>\n",
       "      <th></th>\n",
       "      <th></th>\n",
       "      <th></th>\n",
       "      <th></th>\n",
       "      <th></th>\n",
       "      <th></th>\n",
       "    </tr>\n",
       "  </thead>\n",
       "  <tbody>\n",
       "    <tr>\n",
       "      <td>2004-03-01 00:00:21.445722</td>\n",
       "      <td>NaN</td>\n",
       "      <td>NaN</td>\n",
       "      <td>NaN</td>\n",
       "      <td>NaN</td>\n",
       "      <td>NaN</td>\n",
       "      <td>NaN</td>\n",
       "      <td>NaN</td>\n",
       "      <td>NaN</td>\n",
       "      <td>18.489</td>\n",
       "      <td>NaN</td>\n",
       "    </tr>\n",
       "    <tr>\n",
       "      <td>2004-03-01 00:00:22.429139</td>\n",
       "      <td>NaN</td>\n",
       "      <td>18.8712</td>\n",
       "      <td>NaN</td>\n",
       "      <td>NaN</td>\n",
       "      <td>NaN</td>\n",
       "      <td>NaN</td>\n",
       "      <td>NaN</td>\n",
       "      <td>NaN</td>\n",
       "      <td>NaN</td>\n",
       "      <td>NaN</td>\n",
       "    </tr>\n",
       "    <tr>\n",
       "      <td>2004-03-01 00:00:25.633782</td>\n",
       "      <td>NaN</td>\n",
       "      <td>NaN</td>\n",
       "      <td>NaN</td>\n",
       "      <td>NaN</td>\n",
       "      <td>NaN</td>\n",
       "      <td>NaN</td>\n",
       "      <td>18.7144</td>\n",
       "      <td>NaN</td>\n",
       "      <td>NaN</td>\n",
       "      <td>NaN</td>\n",
       "    </tr>\n",
       "    <tr>\n",
       "      <td>2004-03-01 00:00:52.381230</td>\n",
       "      <td>NaN</td>\n",
       "      <td>18.8614</td>\n",
       "      <td>NaN</td>\n",
       "      <td>NaN</td>\n",
       "      <td>NaN</td>\n",
       "      <td>NaN</td>\n",
       "      <td>NaN</td>\n",
       "      <td>NaN</td>\n",
       "      <td>NaN</td>\n",
       "      <td>NaN</td>\n",
       "    </tr>\n",
       "    <tr>\n",
       "      <td>2004-03-01 00:00:53.317719</td>\n",
       "      <td>NaN</td>\n",
       "      <td>NaN</td>\n",
       "      <td>NaN</td>\n",
       "      <td>NaN</td>\n",
       "      <td>NaN</td>\n",
       "      <td>NaN</td>\n",
       "      <td>18.7046</td>\n",
       "      <td>NaN</td>\n",
       "      <td>NaN</td>\n",
       "      <td>NaN</td>\n",
       "    </tr>\n",
       "    <tr>\n",
       "      <td>...</td>\n",
       "      <td>...</td>\n",
       "      <td>...</td>\n",
       "      <td>...</td>\n",
       "      <td>...</td>\n",
       "      <td>...</td>\n",
       "      <td>...</td>\n",
       "      <td>...</td>\n",
       "      <td>...</td>\n",
       "      <td>...</td>\n",
       "      <td>...</td>\n",
       "    </tr>\n",
       "    <tr>\n",
       "      <td>2004-03-10 09:06:02.532096</td>\n",
       "      <td>NaN</td>\n",
       "      <td>NaN</td>\n",
       "      <td>NaN</td>\n",
       "      <td>NaN</td>\n",
       "      <td>NaN</td>\n",
       "      <td>NaN</td>\n",
       "      <td>NaN</td>\n",
       "      <td>25.5058</td>\n",
       "      <td>NaN</td>\n",
       "      <td>NaN</td>\n",
       "    </tr>\n",
       "    <tr>\n",
       "      <td>2004-03-10 09:06:02.659997</td>\n",
       "      <td>NaN</td>\n",
       "      <td>NaN</td>\n",
       "      <td>23.6536</td>\n",
       "      <td>NaN</td>\n",
       "      <td>NaN</td>\n",
       "      <td>NaN</td>\n",
       "      <td>NaN</td>\n",
       "      <td>NaN</td>\n",
       "      <td>NaN</td>\n",
       "      <td>NaN</td>\n",
       "    </tr>\n",
       "    <tr>\n",
       "      <td>2004-03-10 09:06:07.690233</td>\n",
       "      <td>NaN</td>\n",
       "      <td>NaN</td>\n",
       "      <td>NaN</td>\n",
       "      <td>NaN</td>\n",
       "      <td>NaN</td>\n",
       "      <td>NaN</td>\n",
       "      <td>23.9280</td>\n",
       "      <td>NaN</td>\n",
       "      <td>NaN</td>\n",
       "      <td>NaN</td>\n",
       "    </tr>\n",
       "    <tr>\n",
       "      <td>2004-03-10 09:06:08.303196</td>\n",
       "      <td>NaN</td>\n",
       "      <td>23.1636</td>\n",
       "      <td>NaN</td>\n",
       "      <td>NaN</td>\n",
       "      <td>NaN</td>\n",
       "      <td>NaN</td>\n",
       "      <td>NaN</td>\n",
       "      <td>NaN</td>\n",
       "      <td>NaN</td>\n",
       "      <td>NaN</td>\n",
       "    </tr>\n",
       "    <tr>\n",
       "      <td>2004-03-10 09:06:09.297230</td>\n",
       "      <td>NaN</td>\n",
       "      <td>NaN</td>\n",
       "      <td>NaN</td>\n",
       "      <td>23.8692</td>\n",
       "      <td>NaN</td>\n",
       "      <td>NaN</td>\n",
       "      <td>NaN</td>\n",
       "      <td>NaN</td>\n",
       "      <td>NaN</td>\n",
       "      <td>NaN</td>\n",
       "    </tr>\n",
       "  </tbody>\n",
       "</table>\n",
       "<p>154618 rows × 10 columns</p>\n",
       "</div>"
      ],
      "text/plain": [
       "                           TEMPERATURE                                     \\\n",
       "MOTE_ID                             1        2        3        4   5   6    \n",
       "DATETIME                                                                    \n",
       "2004-03-01 00:00:21.445722         NaN      NaN      NaN      NaN NaN NaN   \n",
       "2004-03-01 00:00:22.429139         NaN  18.8712      NaN      NaN NaN NaN   \n",
       "2004-03-01 00:00:25.633782         NaN      NaN      NaN      NaN NaN NaN   \n",
       "2004-03-01 00:00:52.381230         NaN  18.8614      NaN      NaN NaN NaN   \n",
       "2004-03-01 00:00:53.317719         NaN      NaN      NaN      NaN NaN NaN   \n",
       "...                                ...      ...      ...      ...  ..  ..   \n",
       "2004-03-10 09:06:02.532096         NaN      NaN      NaN      NaN NaN NaN   \n",
       "2004-03-10 09:06:02.659997         NaN      NaN  23.6536      NaN NaN NaN   \n",
       "2004-03-10 09:06:07.690233         NaN      NaN      NaN      NaN NaN NaN   \n",
       "2004-03-10 09:06:08.303196         NaN  23.1636      NaN      NaN NaN NaN   \n",
       "2004-03-10 09:06:09.297230         NaN      NaN      NaN  23.8692 NaN NaN   \n",
       "\n",
       "                                                          \n",
       "MOTE_ID                          7        8       9   10  \n",
       "DATETIME                                                  \n",
       "2004-03-01 00:00:21.445722      NaN      NaN  18.489 NaN  \n",
       "2004-03-01 00:00:22.429139      NaN      NaN     NaN NaN  \n",
       "2004-03-01 00:00:25.633782  18.7144      NaN     NaN NaN  \n",
       "2004-03-01 00:00:52.381230      NaN      NaN     NaN NaN  \n",
       "2004-03-01 00:00:53.317719  18.7046      NaN     NaN NaN  \n",
       "...                             ...      ...     ...  ..  \n",
       "2004-03-10 09:06:02.532096      NaN  25.5058     NaN NaN  \n",
       "2004-03-10 09:06:02.659997      NaN      NaN     NaN NaN  \n",
       "2004-03-10 09:06:07.690233  23.9280      NaN     NaN NaN  \n",
       "2004-03-10 09:06:08.303196      NaN      NaN     NaN NaN  \n",
       "2004-03-10 09:06:09.297230      NaN      NaN     NaN NaN  \n",
       "\n",
       "[154618 rows x 10 columns]"
      ]
     },
     "execution_count": 39,
     "metadata": {},
     "output_type": "execute_result"
    }
   ],
   "source": [
    "sensor_df"
   ]
  },
  {
   "cell_type": "code",
   "execution_count": 40,
   "metadata": {},
   "outputs": [],
   "source": [
    "sensor_df = sensor_df.resample('5min').mean()"
   ]
  },
  {
   "cell_type": "markdown",
   "metadata": {},
   "source": [
    "Checking for empty data values..."
   ]
  },
  {
   "cell_type": "code",
   "execution_count": 41,
   "metadata": {},
   "outputs": [
    {
     "data": {
      "text/plain": [
       "             MOTE_ID\n",
       "TEMPERATURE  1             0\n",
       "             2            24\n",
       "             3             0\n",
       "             4             5\n",
       "             5          2702\n",
       "             6            16\n",
       "             7             0\n",
       "             8            20\n",
       "             9             1\n",
       "             10            2\n",
       "dtype: int64"
      ]
     },
     "execution_count": 41,
     "metadata": {},
     "output_type": "execute_result"
    }
   ],
   "source": [
    "sensor_df.isna().sum()"
   ]
  },
  {
   "cell_type": "markdown",
   "metadata": {},
   "source": [
    "Dropping Sensor_ID 5 since it appears to be missing every value."
   ]
  },
  {
   "cell_type": "code",
   "execution_count": 42,
   "metadata": {},
   "outputs": [],
   "source": [
    "sensor_df = sensor_df.stack().drop(5, level='MOTE_ID')"
   ]
  },
  {
   "cell_type": "markdown",
   "metadata": {},
   "source": [
    "Looking at missing data values, we can apply linear interpolation to fill in the missing values to complete our data set."
   ]
  },
  {
   "cell_type": "code",
   "execution_count": 43,
   "metadata": {},
   "outputs": [],
   "source": [
    "sensor_df = sensor_df.interpolate(method='linear', limit_direction='both', axis=0)"
   ]
  },
  {
   "cell_type": "code",
   "execution_count": 44,
   "metadata": {},
   "outputs": [
    {
     "data": {
      "text/html": [
       "<div>\n",
       "<style scoped>\n",
       "    .dataframe tbody tr th:only-of-type {\n",
       "        vertical-align: middle;\n",
       "    }\n",
       "\n",
       "    .dataframe tbody tr th {\n",
       "        vertical-align: top;\n",
       "    }\n",
       "\n",
       "    .dataframe thead th {\n",
       "        text-align: right;\n",
       "    }\n",
       "</style>\n",
       "<table border=\"1\" class=\"dataframe\">\n",
       "  <thead>\n",
       "    <tr style=\"text-align: right;\">\n",
       "      <th></th>\n",
       "      <th>TEMPERATURE</th>\n",
       "    </tr>\n",
       "  </thead>\n",
       "  <tbody>\n",
       "    <tr>\n",
       "      <td>count</td>\n",
       "      <td>24250.000000</td>\n",
       "    </tr>\n",
       "    <tr>\n",
       "      <td>mean</td>\n",
       "      <td>21.934324</td>\n",
       "    </tr>\n",
       "    <tr>\n",
       "      <td>std</td>\n",
       "      <td>2.112951</td>\n",
       "    </tr>\n",
       "    <tr>\n",
       "      <td>min</td>\n",
       "      <td>15.708250</td>\n",
       "    </tr>\n",
       "    <tr>\n",
       "      <td>25%</td>\n",
       "      <td>20.518927</td>\n",
       "    </tr>\n",
       "    <tr>\n",
       "      <td>50%</td>\n",
       "      <td>21.876942</td>\n",
       "    </tr>\n",
       "    <tr>\n",
       "      <td>75%</td>\n",
       "      <td>23.308518</td>\n",
       "    </tr>\n",
       "    <tr>\n",
       "      <td>max</td>\n",
       "      <td>28.641800</td>\n",
       "    </tr>\n",
       "  </tbody>\n",
       "</table>\n",
       "</div>"
      ],
      "text/plain": [
       "        TEMPERATURE\n",
       "count  24250.000000\n",
       "mean      21.934324\n",
       "std        2.112951\n",
       "min       15.708250\n",
       "25%       20.518927\n",
       "50%       21.876942\n",
       "75%       23.308518\n",
       "max       28.641800"
      ]
     },
     "execution_count": 44,
     "metadata": {},
     "output_type": "execute_result"
    }
   ],
   "source": [
    "sensor_df.describe()"
   ]
  },
  {
   "cell_type": "markdown",
   "metadata": {},
   "source": [
    "Reassign our transposed matrix to the original matrix."
   ]
  },
  {
   "cell_type": "code",
   "execution_count": 45,
   "metadata": {},
   "outputs": [
    {
     "data": {
      "text/html": [
       "<div>\n",
       "<style scoped>\n",
       "    .dataframe tbody tr th:only-of-type {\n",
       "        vertical-align: middle;\n",
       "    }\n",
       "\n",
       "    .dataframe tbody tr th {\n",
       "        vertical-align: top;\n",
       "    }\n",
       "\n",
       "    .dataframe thead th {\n",
       "        text-align: right;\n",
       "    }\n",
       "</style>\n",
       "<table border=\"1\" class=\"dataframe\">\n",
       "  <thead>\n",
       "    <tr style=\"text-align: right;\">\n",
       "      <th></th>\n",
       "      <th></th>\n",
       "      <th>TEMPERATURE</th>\n",
       "    </tr>\n",
       "    <tr>\n",
       "      <th>DATETIME</th>\n",
       "      <th>MOTE_ID</th>\n",
       "      <th></th>\n",
       "    </tr>\n",
       "  </thead>\n",
       "  <tbody>\n",
       "    <tr>\n",
       "      <td rowspan=\"5\" valign=\"top\">2004-03-01 00:00:00</td>\n",
       "      <td>1</td>\n",
       "      <td>18.443267</td>\n",
       "    </tr>\n",
       "    <tr>\n",
       "      <td>2</td>\n",
       "      <td>18.850375</td>\n",
       "    </tr>\n",
       "    <tr>\n",
       "      <td>3</td>\n",
       "      <td>18.751640</td>\n",
       "    </tr>\n",
       "    <tr>\n",
       "      <td>4</td>\n",
       "      <td>19.109200</td>\n",
       "    </tr>\n",
       "    <tr>\n",
       "      <td>6</td>\n",
       "      <td>18.669075</td>\n",
       "    </tr>\n",
       "    <tr>\n",
       "      <td>...</td>\n",
       "      <td>...</td>\n",
       "      <td>...</td>\n",
       "    </tr>\n",
       "    <tr>\n",
       "      <td rowspan=\"5\" valign=\"top\">2004-03-10 09:05:00</td>\n",
       "      <td>6</td>\n",
       "      <td>24.138700</td>\n",
       "    </tr>\n",
       "    <tr>\n",
       "      <td>7</td>\n",
       "      <td>23.937800</td>\n",
       "    </tr>\n",
       "    <tr>\n",
       "      <td>8</td>\n",
       "      <td>25.515600</td>\n",
       "    </tr>\n",
       "    <tr>\n",
       "      <td>9</td>\n",
       "      <td>26.250600</td>\n",
       "    </tr>\n",
       "    <tr>\n",
       "      <td>10</td>\n",
       "      <td>24.707100</td>\n",
       "    </tr>\n",
       "  </tbody>\n",
       "</table>\n",
       "<p>24250 rows × 1 columns</p>\n",
       "</div>"
      ],
      "text/plain": [
       "                             TEMPERATURE\n",
       "DATETIME            MOTE_ID             \n",
       "2004-03-01 00:00:00 1          18.443267\n",
       "                    2          18.850375\n",
       "                    3          18.751640\n",
       "                    4          19.109200\n",
       "                    6          18.669075\n",
       "...                                  ...\n",
       "2004-03-10 09:05:00 6          24.138700\n",
       "                    7          23.937800\n",
       "                    8          25.515600\n",
       "                    9          26.250600\n",
       "                    10         24.707100\n",
       "\n",
       "[24250 rows x 1 columns]"
      ]
     },
     "execution_count": 45,
     "metadata": {},
     "output_type": "execute_result"
    }
   ],
   "source": [
    "sensor_df"
   ]
  },
  {
   "cell_type": "code",
   "execution_count": 46,
   "metadata": {},
   "outputs": [],
   "source": [
    "sensor_df = sensor_df.reset_index(level=1)"
   ]
  },
  {
   "cell_type": "code",
   "execution_count": 47,
   "metadata": {},
   "outputs": [
    {
     "data": {
      "text/html": [
       "<div>\n",
       "<style scoped>\n",
       "    .dataframe tbody tr th:only-of-type {\n",
       "        vertical-align: middle;\n",
       "    }\n",
       "\n",
       "    .dataframe tbody tr th {\n",
       "        vertical-align: top;\n",
       "    }\n",
       "\n",
       "    .dataframe thead th {\n",
       "        text-align: right;\n",
       "    }\n",
       "</style>\n",
       "<table border=\"1\" class=\"dataframe\">\n",
       "  <thead>\n",
       "    <tr style=\"text-align: right;\">\n",
       "      <th></th>\n",
       "      <th>MOTE_ID</th>\n",
       "      <th>TEMPERATURE</th>\n",
       "    </tr>\n",
       "    <tr>\n",
       "      <th>DATETIME</th>\n",
       "      <th></th>\n",
       "      <th></th>\n",
       "    </tr>\n",
       "  </thead>\n",
       "  <tbody>\n",
       "    <tr>\n",
       "      <td>2004-03-01</td>\n",
       "      <td>1</td>\n",
       "      <td>18.443267</td>\n",
       "    </tr>\n",
       "    <tr>\n",
       "      <td>2004-03-01</td>\n",
       "      <td>2</td>\n",
       "      <td>18.850375</td>\n",
       "    </tr>\n",
       "    <tr>\n",
       "      <td>2004-03-01</td>\n",
       "      <td>3</td>\n",
       "      <td>18.751640</td>\n",
       "    </tr>\n",
       "    <tr>\n",
       "      <td>2004-03-01</td>\n",
       "      <td>4</td>\n",
       "      <td>19.109200</td>\n",
       "    </tr>\n",
       "    <tr>\n",
       "      <td>2004-03-01</td>\n",
       "      <td>6</td>\n",
       "      <td>18.669075</td>\n",
       "    </tr>\n",
       "  </tbody>\n",
       "</table>\n",
       "</div>"
      ],
      "text/plain": [
       "            MOTE_ID  TEMPERATURE\n",
       "DATETIME                        \n",
       "2004-03-01        1    18.443267\n",
       "2004-03-01        2    18.850375\n",
       "2004-03-01        3    18.751640\n",
       "2004-03-01        4    19.109200\n",
       "2004-03-01        6    18.669075"
      ]
     },
     "execution_count": 47,
     "metadata": {},
     "output_type": "execute_result"
    }
   ],
   "source": [
    "sensor_df.head()"
   ]
  },
  {
   "cell_type": "markdown",
   "metadata": {},
   "source": [
    "As a sample, let us show timeseries plots for Temperature over our time window:"
   ]
  },
  {
   "cell_type": "code",
   "execution_count": null,
   "metadata": {},
   "outputs": [],
   "source": [
    "#input_layer = Input(shape=(4,))\n",
    "# \"encoded\" is the encoded representation of the input\n",
    "#encoded = Dense(1, activation='relu')(input_layer)\n",
    "# \"decoded\" is the lossy reconstruction of the input\n",
    "#decoded = Dense(4, activation='sigmoid')(encoded)\n",
    "\n",
    "# this model maps an input to its reconstruction\n",
    "#autoencoder = Model(input_layer, decoded)"
   ]
  },
  {
   "cell_type": "code",
   "execution_count": null,
   "metadata": {},
   "outputs": [],
   "source": [
    "# autoencoder.summary()"
   ]
  },
  {
   "cell_type": "code",
   "execution_count": null,
   "metadata": {},
   "outputs": [],
   "source": []
  }
 ],
 "metadata": {
  "kernelspec": {
   "display_name": "Python 3",
   "language": "python",
   "name": "python3"
  },
  "language_info": {
   "codemirror_mode": {
    "name": "ipython",
    "version": 3
   },
   "file_extension": ".py",
   "mimetype": "text/x-python",
   "name": "python",
   "nbconvert_exporter": "python",
   "pygments_lexer": "ipython3",
   "version": "3.7.4"
  }
 },
 "nbformat": 4,
 "nbformat_minor": 4
}
