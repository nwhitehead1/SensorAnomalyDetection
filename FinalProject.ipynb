{
 "cells": [
  {
   "cell_type": "markdown",
   "metadata": {},
   "source": [
    "## Anomalous Sensor Detection and Filtering Data to the IoT Gateway using LSTM's\n",
    "\n",
    "Dataset: http://db.csail.mit.edu/labdata/labdata.html\n",
    "\n",
    "The goal of this exercise is to detect anomalies and filter time-series data streams. By reducing the amount of data sent from the sensor to the gateway, we can increase data throughput and decrease network latency.\n",
    "    \n",
    "    - Can we infer data from sensors that are close to other sensors?"
   ]
  },
  {
   "cell_type": "markdown",
   "metadata": {},
   "source": [
    "### Data Loading"
   ]
  },
  {
   "cell_type": "code",
   "execution_count": 2,
   "metadata": {},
   "outputs": [],
   "source": [
    "import gzip\n",
    "import pandas as pd\n",
    "import matplotlib.pyplot as plt\n",
    "from matplotlib import cm"
   ]
  },
  {
   "cell_type": "code",
   "execution_count": 3,
   "metadata": {},
   "outputs": [
    {
     "data": {
      "text/html": [
       "<div>\n",
       "<style scoped>\n",
       "    .dataframe tbody tr th:only-of-type {\n",
       "        vertical-align: middle;\n",
       "    }\n",
       "\n",
       "    .dataframe tbody tr th {\n",
       "        vertical-align: top;\n",
       "    }\n",
       "\n",
       "    .dataframe thead th {\n",
       "        text-align: right;\n",
       "    }\n",
       "</style>\n",
       "<table border=\"1\" class=\"dataframe\">\n",
       "  <thead>\n",
       "    <tr style=\"text-align: right;\">\n",
       "      <th></th>\n",
       "      <th>EPOCH</th>\n",
       "      <th>MOTE_ID</th>\n",
       "      <th>TEMPERATURE</th>\n",
       "      <th>HUMIDITY</th>\n",
       "      <th>LIGHT</th>\n",
       "      <th>VOLTAGE</th>\n",
       "    </tr>\n",
       "    <tr>\n",
       "      <th>DATETIME</th>\n",
       "      <th></th>\n",
       "      <th></th>\n",
       "      <th></th>\n",
       "      <th></th>\n",
       "      <th></th>\n",
       "      <th></th>\n",
       "    </tr>\n",
       "  </thead>\n",
       "  <tbody>\n",
       "    <tr>\n",
       "      <th>2004-03-31 03:38:15.757551</th>\n",
       "      <td>2</td>\n",
       "      <td>1.0</td>\n",
       "      <td>122.1530</td>\n",
       "      <td>-3.91901</td>\n",
       "      <td>11.04</td>\n",
       "      <td>2.03397</td>\n",
       "    </tr>\n",
       "    <tr>\n",
       "      <th>2004-02-28 00:59:16.027850</th>\n",
       "      <td>3</td>\n",
       "      <td>1.0</td>\n",
       "      <td>19.9884</td>\n",
       "      <td>37.09330</td>\n",
       "      <td>45.08</td>\n",
       "      <td>2.69964</td>\n",
       "    </tr>\n",
       "    <tr>\n",
       "      <th>2004-02-28 01:03:16.333930</th>\n",
       "      <td>11</td>\n",
       "      <td>1.0</td>\n",
       "      <td>19.3024</td>\n",
       "      <td>38.46290</td>\n",
       "      <td>45.08</td>\n",
       "      <td>2.68742</td>\n",
       "    </tr>\n",
       "    <tr>\n",
       "      <th>2004-02-28 01:06:16.013453</th>\n",
       "      <td>17</td>\n",
       "      <td>1.0</td>\n",
       "      <td>19.1652</td>\n",
       "      <td>38.80390</td>\n",
       "      <td>45.08</td>\n",
       "      <td>2.68742</td>\n",
       "    </tr>\n",
       "    <tr>\n",
       "      <th>2004-02-28 01:06:46.778088</th>\n",
       "      <td>18</td>\n",
       "      <td>1.0</td>\n",
       "      <td>19.1750</td>\n",
       "      <td>38.83790</td>\n",
       "      <td>45.08</td>\n",
       "      <td>2.69964</td>\n",
       "    </tr>\n",
       "  </tbody>\n",
       "</table>\n",
       "</div>"
      ],
      "text/plain": [
       "                            EPOCH  MOTE_ID  TEMPERATURE  HUMIDITY  LIGHT  \\\n",
       "DATETIME                                                                   \n",
       "2004-03-31 03:38:15.757551      2      1.0     122.1530  -3.91901  11.04   \n",
       "2004-02-28 00:59:16.027850      3      1.0      19.9884  37.09330  45.08   \n",
       "2004-02-28 01:03:16.333930     11      1.0      19.3024  38.46290  45.08   \n",
       "2004-02-28 01:06:16.013453     17      1.0      19.1652  38.80390  45.08   \n",
       "2004-02-28 01:06:46.778088     18      1.0      19.1750  38.83790  45.08   \n",
       "\n",
       "                            VOLTAGE  \n",
       "DATETIME                             \n",
       "2004-03-31 03:38:15.757551  2.03397  \n",
       "2004-02-28 00:59:16.027850  2.69964  \n",
       "2004-02-28 01:03:16.333930  2.68742  \n",
       "2004-02-28 01:06:16.013453  2.68742  \n",
       "2004-02-28 01:06:46.778088  2.69964  "
      ]
     },
     "execution_count": 3,
     "metadata": {},
     "output_type": "execute_result"
    }
   ],
   "source": [
    "with gzip.open('data.txt.gz', 'rb') as data_bytes:\n",
    "    data = pd.read_csv(data_bytes, header=None, sep=' ', parse_dates=[[0, 1]], squeeze=True)\n",
    "data.columns = ['DATETIME','EPOCH','MOTE_ID','TEMPERATURE','HUMIDITY','LIGHT','VOLTAGE']\n",
    "data = data.set_index('DATETIME')\n",
    "data.head()"
   ]
  },
  {
   "cell_type": "code",
   "execution_count": 4,
   "metadata": {},
   "outputs": [
    {
     "data": {
      "text/html": [
       "<div>\n",
       "<style scoped>\n",
       "    .dataframe tbody tr th:only-of-type {\n",
       "        vertical-align: middle;\n",
       "    }\n",
       "\n",
       "    .dataframe tbody tr th {\n",
       "        vertical-align: top;\n",
       "    }\n",
       "\n",
       "    .dataframe thead th {\n",
       "        text-align: right;\n",
       "    }\n",
       "</style>\n",
       "<table border=\"1\" class=\"dataframe\">\n",
       "  <thead>\n",
       "    <tr style=\"text-align: right;\">\n",
       "      <th></th>\n",
       "      <th>EPOCH</th>\n",
       "      <th>MOTE_ID</th>\n",
       "      <th>TEMPERATURE</th>\n",
       "      <th>HUMIDITY</th>\n",
       "      <th>LIGHT</th>\n",
       "      <th>VOLTAGE</th>\n",
       "    </tr>\n",
       "  </thead>\n",
       "  <tbody>\n",
       "    <tr>\n",
       "      <th>count</th>\n",
       "      <td>2.313682e+06</td>\n",
       "      <td>2.313156e+06</td>\n",
       "      <td>2.312781e+06</td>\n",
       "      <td>2.312780e+06</td>\n",
       "      <td>2.219804e+06</td>\n",
       "      <td>2.313156e+06</td>\n",
       "    </tr>\n",
       "    <tr>\n",
       "      <th>mean</th>\n",
       "      <td>3.303993e+04</td>\n",
       "      <td>2.854412e+01</td>\n",
       "      <td>3.920700e+01</td>\n",
       "      <td>3.390814e+01</td>\n",
       "      <td>4.072110e+02</td>\n",
       "      <td>2.492552e+00</td>\n",
       "    </tr>\n",
       "    <tr>\n",
       "      <th>std</th>\n",
       "      <td>1.836852e+04</td>\n",
       "      <td>5.062408e+01</td>\n",
       "      <td>3.741923e+01</td>\n",
       "      <td>1.732152e+01</td>\n",
       "      <td>5.394276e+02</td>\n",
       "      <td>1.795743e-01</td>\n",
       "    </tr>\n",
       "    <tr>\n",
       "      <th>min</th>\n",
       "      <td>0.000000e+00</td>\n",
       "      <td>1.000000e+00</td>\n",
       "      <td>-3.840000e+01</td>\n",
       "      <td>-8.983130e+03</td>\n",
       "      <td>0.000000e+00</td>\n",
       "      <td>9.100830e-03</td>\n",
       "    </tr>\n",
       "    <tr>\n",
       "      <th>25%</th>\n",
       "      <td>1.757200e+04</td>\n",
       "      <td>1.700000e+01</td>\n",
       "      <td>2.040980e+01</td>\n",
       "      <td>3.187760e+01</td>\n",
       "      <td>3.956000e+01</td>\n",
       "      <td>2.385220e+00</td>\n",
       "    </tr>\n",
       "    <tr>\n",
       "      <th>50%</th>\n",
       "      <td>3.332700e+04</td>\n",
       "      <td>2.900000e+01</td>\n",
       "      <td>2.243840e+01</td>\n",
       "      <td>3.928030e+01</td>\n",
       "      <td>1.582400e+02</td>\n",
       "      <td>2.527320e+00</td>\n",
       "    </tr>\n",
       "    <tr>\n",
       "      <th>75%</th>\n",
       "      <td>4.778900e+04</td>\n",
       "      <td>4.100000e+01</td>\n",
       "      <td>2.702480e+01</td>\n",
       "      <td>4.358550e+01</td>\n",
       "      <td>5.372800e+02</td>\n",
       "      <td>2.627960e+00</td>\n",
       "    </tr>\n",
       "    <tr>\n",
       "      <th>max</th>\n",
       "      <td>6.553500e+04</td>\n",
       "      <td>6.540700e+04</td>\n",
       "      <td>3.855680e+02</td>\n",
       "      <td>1.375120e+02</td>\n",
       "      <td>1.847360e+03</td>\n",
       "      <td>1.856000e+01</td>\n",
       "    </tr>\n",
       "  </tbody>\n",
       "</table>\n",
       "</div>"
      ],
      "text/plain": [
       "              EPOCH       MOTE_ID   TEMPERATURE      HUMIDITY         LIGHT  \\\n",
       "count  2.313682e+06  2.313156e+06  2.312781e+06  2.312780e+06  2.219804e+06   \n",
       "mean   3.303993e+04  2.854412e+01  3.920700e+01  3.390814e+01  4.072110e+02   \n",
       "std    1.836852e+04  5.062408e+01  3.741923e+01  1.732152e+01  5.394276e+02   \n",
       "min    0.000000e+00  1.000000e+00 -3.840000e+01 -8.983130e+03  0.000000e+00   \n",
       "25%    1.757200e+04  1.700000e+01  2.040980e+01  3.187760e+01  3.956000e+01   \n",
       "50%    3.332700e+04  2.900000e+01  2.243840e+01  3.928030e+01  1.582400e+02   \n",
       "75%    4.778900e+04  4.100000e+01  2.702480e+01  4.358550e+01  5.372800e+02   \n",
       "max    6.553500e+04  6.540700e+04  3.855680e+02  1.375120e+02  1.847360e+03   \n",
       "\n",
       "            VOLTAGE  \n",
       "count  2.313156e+06  \n",
       "mean   2.492552e+00  \n",
       "std    1.795743e-01  \n",
       "min    9.100830e-03  \n",
       "25%    2.385220e+00  \n",
       "50%    2.527320e+00  \n",
       "75%    2.627960e+00  \n",
       "max    1.856000e+01  "
      ]
     },
     "execution_count": 4,
     "metadata": {},
     "output_type": "execute_result"
    }
   ],
   "source": [
    "data.describe()"
   ]
  },
  {
   "cell_type": "code",
   "execution_count": 5,
   "metadata": {},
   "outputs": [
    {
     "data": {
      "text/plain": [
       "EPOCH            int64\n",
       "MOTE_ID        float64\n",
       "TEMPERATURE    float64\n",
       "HUMIDITY       float64\n",
       "LIGHT          float64\n",
       "VOLTAGE        float64\n",
       "dtype: object"
      ]
     },
     "execution_count": 5,
     "metadata": {},
     "output_type": "execute_result"
    }
   ],
   "source": [
    "data.dtypes"
   ]
  },
  {
   "cell_type": "markdown",
   "metadata": {},
   "source": [
    "Next, let's load proximity data for each of the sensors and plot their spatial locality."
   ]
  },
  {
   "cell_type": "code",
   "execution_count": 6,
   "metadata": {},
   "outputs": [
    {
     "data": {
      "image/png": "[encoded data removed]",
      "text/plain": [
       "<Figure size 720x504 with 1 Axes>"
      ]
     },
     "metadata": {
      "needs_background": "light"
     },
     "output_type": "display_data"
    }
   ],
   "source": [
    "mote_loc_data = pd.read_csv('mote_loc.txt', header=None, sep=' ')\n",
    "mote_loc_data.columns = ['MOTE_ID', 'X', 'Y']\n",
    "\n",
    "plt.figure(figsize=(10,7))\n",
    "plt.scatter(mote_loc_data.X, mote_loc_data.Y, c='blue')\n",
    "mote_label = [i for i in range(1,len(mote_loc_data)+1)]\n",
    "for label, x, y in zip(mote_label, mote_loc_data.X, mote_loc_data.Y):\n",
    "    plt.annotate(\n",
    "        label, xy=(x,y),\n",
    "        xytext=(5, -5),\n",
    "        textcoords='offset points'\n",
    "    )"
   ]
  },
  {
   "cell_type": "markdown",
   "metadata": {},
   "source": [
    "### TODO: Load probabilities file - will be used for determining if another nearby mote should be read. Once LSTM is this could be useful for biasing"
   ]
  },
  {
   "cell_type": "markdown",
   "metadata": {},
   "source": [
    "### Data Cleanup"
   ]
  },
  {
   "cell_type": "code",
   "execution_count": 7,
   "metadata": {},
   "outputs": [
    {
     "data": {
      "text/plain": [
       "EPOCH              0\n",
       "MOTE_ID          526\n",
       "TEMPERATURE      901\n",
       "HUMIDITY         902\n",
       "LIGHT          93878\n",
       "VOLTAGE          526\n",
       "dtype: int64"
      ]
     },
     "execution_count": 7,
     "metadata": {},
     "output_type": "execute_result"
    }
   ],
   "source": [
    "data.isna().sum()"
   ]
  },
  {
   "cell_type": "markdown",
   "metadata": {},
   "source": [
    "First, consider the MOTE_ID. If the mote_id is null, then clearly their is either a misreading or the dataset has errors. We can sefely drop these datapoints since they have no observation data, nor do they give information on what sensor is doing the reading. Likewise, we can eliminate all data from sensors labeled > 54, as there are only 54 sensors in our array."
   ]
  },
  {
   "cell_type": "code",
   "execution_count": 8,
   "metadata": {},
   "outputs": [],
   "source": [
    "data.dropna(subset=['MOTE_ID'], inplace=True)\n",
    "data = data[data.MOTE_ID <= len(mote_loc_data)]"
   ]
  },
  {
   "cell_type": "markdown",
   "metadata": {},
   "source": [
    "We can now make MOTE_ID an integer, leaving all other attributes. Also, note the missing VOLTAGE values corresponded to the missing MOTE_ID."
   ]
  },
  {
   "cell_type": "code",
   "execution_count": 9,
   "metadata": {},
   "outputs": [],
   "source": [
    "data.MOTE_ID = data.MOTE_ID.astype(int)"
   ]
  },
  {
   "cell_type": "markdown",
   "metadata": {},
   "source": [
    "Second, consider the LIGHT, TEMPERATURE, and HUMIDITY columns."
   ]
  },
  {
   "cell_type": "markdown",
   "metadata": {},
   "source": [
    "Missing light values account for ~4% of the overall dataset, but we can fill those values with the mean of our light data and not expect much change in variance. However, we will fill these values based on average hourly values to further reduce variance."
   ]
  },
  {
   "cell_type": "code",
   "execution_count": 10,
   "metadata": {},
   "outputs": [],
   "source": [
    "missing_light = data[data.LIGHT.isna()].copy()\n",
    "hourly_lux_averages = data.groupby(data.index.hour).LIGHT.mean()\n",
    "for hour in range(len(hourly_lux_averages)):\n",
    "    missing_light.loc[missing_light.index.hour == hour, 'LIGHT'] = hourly_lux_averages[hour]"
   ]
  },
  {
   "cell_type": "markdown",
   "metadata": {},
   "source": [
    "We can then merge these values back into our original dataset."
   ]
  },
  {
   "cell_type": "code",
   "execution_count": 11,
   "metadata": {},
   "outputs": [],
   "source": [
    "data.update(missing_light)"
   ]
  },
  {
   "cell_type": "markdown",
   "metadata": {},
   "source": [
    "Missing TEMPERATURE and HUMIDITY values account for even less, so by a similar reasoning, applying a mean seems reasonable."
   ]
  },
  {
   "cell_type": "code",
   "execution_count": 12,
   "metadata": {},
   "outputs": [
    {
     "data": {
      "text/plain": [
       "EPOCH          0\n",
       "MOTE_ID        0\n",
       "TEMPERATURE    0\n",
       "HUMIDITY       0\n",
       "LIGHT          0\n",
       "VOLTAGE        0\n",
       "dtype: int64"
      ]
     },
     "execution_count": 12,
     "metadata": {},
     "output_type": "execute_result"
    }
   ],
   "source": [
    "missing_temp, missing_hum = data[data.TEMPERATURE.isna()].copy(), data[data.HUMIDITY.isna()].copy()\n",
    "hourly_temp_averages, hourly_humidity_averages = data.groupby(data.index.hour).TEMPERATURE.mean(), data.groupby(data.index.hour).HUMIDITY.mean()\n",
    "for hour in range(len(hourly_temp_averages)):\n",
    "    missing_temp.loc[missing_temp.index.hour == hour, 'TEMPERATURE'] = hourly_temp_averages[hour]\n",
    "    missing_hum.loc[missing_hum.index.hour == hour, 'HUMIDITY'] = hourly_humidity_averages[hour]\n",
    "    \n",
    "data.update(missing_hum)\n",
    "data.update(missing_temp)\n",
    "data.isna().sum()"
   ]
  },
  {
   "cell_type": "markdown",
   "metadata": {},
   "source": [
    "Our data is now merged and we have a clean set to work with."
   ]
  },
  {
   "cell_type": "code",
   "execution_count": 13,
   "metadata": {},
   "outputs": [
    {
     "data": {
      "text/html": [
       "<div>\n",
       "<style scoped>\n",
       "    .dataframe tbody tr th:only-of-type {\n",
       "        vertical-align: middle;\n",
       "    }\n",
       "\n",
       "    .dataframe tbody tr th {\n",
       "        vertical-align: top;\n",
       "    }\n",
       "\n",
       "    .dataframe thead th {\n",
       "        text-align: right;\n",
       "    }\n",
       "</style>\n",
       "<table border=\"1\" class=\"dataframe\">\n",
       "  <thead>\n",
       "    <tr style=\"text-align: right;\">\n",
       "      <th></th>\n",
       "      <th>EPOCH</th>\n",
       "      <th>MOTE_ID</th>\n",
       "      <th>TEMPERATURE</th>\n",
       "      <th>HUMIDITY</th>\n",
       "      <th>LIGHT</th>\n",
       "      <th>VOLTAGE</th>\n",
       "    </tr>\n",
       "  </thead>\n",
       "  <tbody>\n",
       "    <tr>\n",
       "      <th>count</th>\n",
       "      <td>2.303290e+06</td>\n",
       "      <td>2.303290e+06</td>\n",
       "      <td>2.303290e+06</td>\n",
       "      <td>2.303290e+06</td>\n",
       "      <td>2.303290e+06</td>\n",
       "      <td>2.303290e+06</td>\n",
       "    </tr>\n",
       "    <tr>\n",
       "      <th>mean</th>\n",
       "      <td>3.295917e+04</td>\n",
       "      <td>2.837833e+01</td>\n",
       "      <td>3.928489e+01</td>\n",
       "      <td>3.388467e+01</td>\n",
       "      <td>4.056657e+02</td>\n",
       "      <td>2.490954e+00</td>\n",
       "    </tr>\n",
       "    <tr>\n",
       "      <th>std</th>\n",
       "      <td>1.833569e+04</td>\n",
       "      <td>1.487177e+01</td>\n",
       "      <td>3.747617e+01</td>\n",
       "      <td>1.734700e+01</td>\n",
       "      <td>5.352912e+02</td>\n",
       "      <td>1.781192e-01</td>\n",
       "    </tr>\n",
       "    <tr>\n",
       "      <th>min</th>\n",
       "      <td>0.000000e+00</td>\n",
       "      <td>1.000000e+00</td>\n",
       "      <td>-3.840000e+01</td>\n",
       "      <td>-8.983130e+03</td>\n",
       "      <td>0.000000e+00</td>\n",
       "      <td>9.100830e-03</td>\n",
       "    </tr>\n",
       "    <tr>\n",
       "      <th>25%</th>\n",
       "      <td>1.752200e+04</td>\n",
       "      <td>1.700000e+01</td>\n",
       "      <td>2.041960e+01</td>\n",
       "      <td>3.187760e+01</td>\n",
       "      <td>4.316980e+01</td>\n",
       "      <td>2.385220e+00</td>\n",
       "    </tr>\n",
       "    <tr>\n",
       "      <th>50%</th>\n",
       "      <td>3.317700e+04</td>\n",
       "      <td>2.900000e+01</td>\n",
       "      <td>2.244820e+01</td>\n",
       "      <td>3.928030e+01</td>\n",
       "      <td>1.582400e+02</td>\n",
       "      <td>2.527320e+00</td>\n",
       "    </tr>\n",
       "    <tr>\n",
       "      <th>75%</th>\n",
       "      <td>4.762575e+04</td>\n",
       "      <td>4.100000e+01</td>\n",
       "      <td>2.707380e+01</td>\n",
       "      <td>4.358550e+01</td>\n",
       "      <td>5.667200e+02</td>\n",
       "      <td>2.627960e+00</td>\n",
       "    </tr>\n",
       "    <tr>\n",
       "      <th>max</th>\n",
       "      <td>6.553500e+04</td>\n",
       "      <td>5.400000e+01</td>\n",
       "      <td>3.855680e+02</td>\n",
       "      <td>1.375120e+02</td>\n",
       "      <td>1.847360e+03</td>\n",
       "      <td>1.856000e+01</td>\n",
       "    </tr>\n",
       "  </tbody>\n",
       "</table>\n",
       "</div>"
      ],
      "text/plain": [
       "              EPOCH       MOTE_ID   TEMPERATURE      HUMIDITY         LIGHT  \\\n",
       "count  2.303290e+06  2.303290e+06  2.303290e+06  2.303290e+06  2.303290e+06   \n",
       "mean   3.295917e+04  2.837833e+01  3.928489e+01  3.388467e+01  4.056657e+02   \n",
       "std    1.833569e+04  1.487177e+01  3.747617e+01  1.734700e+01  5.352912e+02   \n",
       "min    0.000000e+00  1.000000e+00 -3.840000e+01 -8.983130e+03  0.000000e+00   \n",
       "25%    1.752200e+04  1.700000e+01  2.041960e+01  3.187760e+01  4.316980e+01   \n",
       "50%    3.317700e+04  2.900000e+01  2.244820e+01  3.928030e+01  1.582400e+02   \n",
       "75%    4.762575e+04  4.100000e+01  2.707380e+01  4.358550e+01  5.667200e+02   \n",
       "max    6.553500e+04  5.400000e+01  3.855680e+02  1.375120e+02  1.847360e+03   \n",
       "\n",
       "            VOLTAGE  \n",
       "count  2.303290e+06  \n",
       "mean   2.490954e+00  \n",
       "std    1.781192e-01  \n",
       "min    9.100830e-03  \n",
       "25%    2.385220e+00  \n",
       "50%    2.527320e+00  \n",
       "75%    2.627960e+00  \n",
       "max    1.856000e+01  "
      ]
     },
     "execution_count": 13,
     "metadata": {},
     "output_type": "execute_result"
    }
   ],
   "source": [
    "data.describe()"
   ]
  },
  {
   "cell_type": "code",
   "execution_count": 14,
   "metadata": {},
   "outputs": [
    {
     "data": {
      "text/html": [
       "<div>\n",
       "<style scoped>\n",
       "    .dataframe tbody tr th:only-of-type {\n",
       "        vertical-align: middle;\n",
       "    }\n",
       "\n",
       "    .dataframe tbody tr th {\n",
       "        vertical-align: top;\n",
       "    }\n",
       "\n",
       "    .dataframe thead th {\n",
       "        text-align: right;\n",
       "    }\n",
       "</style>\n",
       "<table border=\"1\" class=\"dataframe\">\n",
       "  <thead>\n",
       "    <tr style=\"text-align: right;\">\n",
       "      <th></th>\n",
       "      <th>EPOCH</th>\n",
       "      <th>MOTE_ID</th>\n",
       "      <th>TEMPERATURE</th>\n",
       "      <th>HUMIDITY</th>\n",
       "      <th>LIGHT</th>\n",
       "      <th>VOLTAGE</th>\n",
       "    </tr>\n",
       "    <tr>\n",
       "      <th>DATETIME</th>\n",
       "      <th></th>\n",
       "      <th></th>\n",
       "      <th></th>\n",
       "      <th></th>\n",
       "      <th></th>\n",
       "      <th></th>\n",
       "    </tr>\n",
       "  </thead>\n",
       "  <tbody>\n",
       "    <tr>\n",
       "      <th>2004-03-31 03:38:15.757551</th>\n",
       "      <td>2.0</td>\n",
       "      <td>1.0</td>\n",
       "      <td>122.1530</td>\n",
       "      <td>-3.91901</td>\n",
       "      <td>11.04</td>\n",
       "      <td>2.03397</td>\n",
       "    </tr>\n",
       "    <tr>\n",
       "      <th>2004-02-28 00:59:16.027850</th>\n",
       "      <td>3.0</td>\n",
       "      <td>1.0</td>\n",
       "      <td>19.9884</td>\n",
       "      <td>37.09330</td>\n",
       "      <td>45.08</td>\n",
       "      <td>2.69964</td>\n",
       "    </tr>\n",
       "    <tr>\n",
       "      <th>2004-02-28 01:03:16.333930</th>\n",
       "      <td>11.0</td>\n",
       "      <td>1.0</td>\n",
       "      <td>19.3024</td>\n",
       "      <td>38.46290</td>\n",
       "      <td>45.08</td>\n",
       "      <td>2.68742</td>\n",
       "    </tr>\n",
       "    <tr>\n",
       "      <th>2004-02-28 01:06:16.013453</th>\n",
       "      <td>17.0</td>\n",
       "      <td>1.0</td>\n",
       "      <td>19.1652</td>\n",
       "      <td>38.80390</td>\n",
       "      <td>45.08</td>\n",
       "      <td>2.68742</td>\n",
       "    </tr>\n",
       "    <tr>\n",
       "      <th>2004-02-28 01:06:46.778088</th>\n",
       "      <td>18.0</td>\n",
       "      <td>1.0</td>\n",
       "      <td>19.1750</td>\n",
       "      <td>38.83790</td>\n",
       "      <td>45.08</td>\n",
       "      <td>2.69964</td>\n",
       "    </tr>\n",
       "  </tbody>\n",
       "</table>\n",
       "</div>"
      ],
      "text/plain": [
       "                            EPOCH  MOTE_ID  TEMPERATURE  HUMIDITY  LIGHT  \\\n",
       "DATETIME                                                                   \n",
       "2004-03-31 03:38:15.757551    2.0      1.0     122.1530  -3.91901  11.04   \n",
       "2004-02-28 00:59:16.027850    3.0      1.0      19.9884  37.09330  45.08   \n",
       "2004-02-28 01:03:16.333930   11.0      1.0      19.3024  38.46290  45.08   \n",
       "2004-02-28 01:06:16.013453   17.0      1.0      19.1652  38.80390  45.08   \n",
       "2004-02-28 01:06:46.778088   18.0      1.0      19.1750  38.83790  45.08   \n",
       "\n",
       "                            VOLTAGE  \n",
       "DATETIME                             \n",
       "2004-03-31 03:38:15.757551  2.03397  \n",
       "2004-02-28 00:59:16.027850  2.69964  \n",
       "2004-02-28 01:03:16.333930  2.68742  \n",
       "2004-02-28 01:06:16.013453  2.68742  \n",
       "2004-02-28 01:06:46.778088  2.69964  "
      ]
     },
     "execution_count": 14,
     "metadata": {},
     "output_type": "execute_result"
    }
   ],
   "source": [
    "data.head()"
   ]
  },
  {
   "cell_type": "markdown",
   "metadata": {},
   "source": [
    "Here is a visualization on our observable variables."
   ]
  },
  {
   "cell_type": "code",
   "execution_count": 20,
   "metadata": {},
   "outputs": [
    {
     "data": {
      "image/png": "[encoded data removed]",
      "text/plain": [
       "<Figure size 432x288 with 4 Axes>"
      ]
     },
     "metadata": {
      "needs_background": "light"
     },
     "output_type": "display_data"
    }
   ],
   "source": [
    "data[['TEMPERATURE', 'HUMIDITY', 'LIGHT', 'VOLTAGE']].hist(bins=10, color='blue', edgecolor='black', linewidth=1.0,\n",
    "           xlabelsize=8, ylabelsize=8, grid=False)    \n",
    "plt.tight_layout(rect=(0, 0, 1.2, 1.2))  "
   ]
  },
  {
   "cell_type": "markdown",
   "metadata": {},
   "source": [
    "Here are the Box and Whisker plots for the observable values, further illustrating outliers."
   ]
  },
  {
   "cell_type": "code",
   "execution_count": 34,
   "metadata": {},
   "outputs": [
    {
     "data": {
      "image/png": "[encoded data removed]",
      "text/plain": [
       "<Figure size 720x720 with 4 Axes>"
      ]
     },
     "metadata": {
      "needs_background": "light"
     },
     "output_type": "display_data"
    }
   ],
   "source": [
    "fig, axes = plt.subplots(nrows=2, ncols=2, figsize=(10,10))\n",
    "data.boxplot(column='TEMPERATURE', ax=axes[0,0])\n",
    "data.boxplot(column='HUMIDITY', ax=axes[0,1])\n",
    "data.boxplot(column='LIGHT', ax=axes[1,0])\n",
    "data.boxplot(column='VOLTAGE', ax=axes[1,1])\n",
    "plt.show()"
   ]
  },
  {
   "cell_type": "markdown",
   "metadata": {},
   "source": [
    "### Data Splitting"
   ]
  },
  {
   "cell_type": "code",
   "execution_count": null,
   "metadata": {},
   "outputs": [],
   "source": []
  }
 ],
 "metadata": {
  "kernelspec": {
   "display_name": "Python 3",
   "language": "python",
   "name": "python3"
  },
  "language_info": {
   "codemirror_mode": {
    "name": "ipython",
    "version": 3
   },
   "file_extension": ".py",
   "mimetype": "text/x-python",
   "name": "python",
   "nbconvert_exporter": "python",
   "pygments_lexer": "ipython3",
   "version": "3.7.3"
  }
 },
 "nbformat": 4,
 "nbformat_minor": 4
}
